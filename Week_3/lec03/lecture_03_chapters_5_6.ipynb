{
 "cells": [
  {
   "cell_type": "markdown",
   "metadata": {},
   "source": [
    "The contents of this course including lectures, labs, homework assignments, and exams have all been adapted from the [Data 8 course at University California Berkley](https://data.berkeley.edu/education/courses/data-8). Through their generosity and passion for undergraduate education, the Data 8 community at Berkley has opened their content and expertise for other universities to adapt in the name of undergraduate education."
   ]
  },
  {
   "cell_type": "code",
   "execution_count": 1,
   "metadata": {
    "slideshow": {
     "slide_type": "skip"
    }
   },
   "outputs": [],
   "source": [
    "#!pip install datascience -q\n",
    "from datascience import *\n",
    "import numpy as np\n",
    "\n",
    "%matplotlib inline\n",
    "import matplotlib.pyplot as plots\n",
    "plots.style.use('fivethirtyeight')"
   ]
  },
  {
   "cell_type": "markdown",
   "metadata": {},
   "source": [
    "# Review\n",
    "## Chapters 3 - 4"
   ]
  },
  {
   "cell_type": "code",
   "execution_count": 3,
   "metadata": {},
   "outputs": [
    {
     "data": {
      "text/html": [
       "<table border=\"1\" class=\"dataframe\">\n",
       "    <thead>\n",
       "        <tr>\n",
       "            <th>name</th> <th>material</th> <th>city</th> <th>height</th> <th>completed</th>\n",
       "        </tr>\n",
       "    </thead>\n",
       "    <tbody>\n",
       "        <tr>\n",
       "            <td>One World Trade Center           </td> <td>composite</td> <td>New York City</td> <td>541.3 </td> <td>2014     </td>\n",
       "        </tr>\n",
       "        <tr>\n",
       "            <td>Willis Tower                     </td> <td>steel    </td> <td>Chicago      </td> <td>442.14</td> <td>1974     </td>\n",
       "        </tr>\n",
       "        <tr>\n",
       "            <td>432 Park Avenue                  </td> <td>concrete </td> <td>New York City</td> <td>425.5 </td> <td>2015     </td>\n",
       "        </tr>\n",
       "        <tr>\n",
       "            <td>Trump International Hotel & Tower</td> <td>concrete </td> <td>Chicago      </td> <td>423.22</td> <td>2009     </td>\n",
       "        </tr>\n",
       "        <tr>\n",
       "            <td>Empire State Building            </td> <td>steel    </td> <td>New York City</td> <td>381   </td> <td>1931     </td>\n",
       "        </tr>\n",
       "        <tr>\n",
       "            <td>Bank of America Tower            </td> <td>composite</td> <td>New York City</td> <td>365.8 </td> <td>2009     </td>\n",
       "        </tr>\n",
       "        <tr>\n",
       "            <td>Stratosphere Tower               </td> <td>concrete </td> <td>Las Vegas    </td> <td>350.22</td> <td>1996     </td>\n",
       "        </tr>\n",
       "        <tr>\n",
       "            <td>Aon Center                       </td> <td>steel    </td> <td>Chicago      </td> <td>346.26</td> <td>1973     </td>\n",
       "        </tr>\n",
       "        <tr>\n",
       "            <td>John Hancock Center              </td> <td>steel    </td> <td>Chicago      </td> <td>343.69</td> <td>1969     </td>\n",
       "        </tr>\n",
       "        <tr>\n",
       "            <td>WITI TV Tower                    </td> <td>steel    </td> <td>Shorewood    </td> <td>329   </td> <td>1962     </td>\n",
       "        </tr>\n",
       "    </tbody>\n",
       "</table>\n",
       "<p>... (190 rows omitted)</p>"
      ],
      "text/plain": [
       "name                              | material  | city          | height | completed\n",
       "One World Trade Center            | composite | New York City | 541.3  | 2014\n",
       "Willis Tower                      | steel     | Chicago       | 442.14 | 1974\n",
       "432 Park Avenue                   | concrete  | New York City | 425.5  | 2015\n",
       "Trump International Hotel & Tower | concrete  | Chicago       | 423.22 | 2009\n",
       "Empire State Building             | steel     | New York City | 381    | 1931\n",
       "Bank of America Tower             | composite | New York City | 365.8  | 2009\n",
       "Stratosphere Tower                | concrete  | Las Vegas     | 350.22 | 1996\n",
       "Aon Center                        | steel     | Chicago       | 346.26 | 1973\n",
       "John Hancock Center               | steel     | Chicago       | 343.69 | 1969\n",
       "WITI TV Tower                     | steel     | Shorewood     | 329    | 1962\n",
       "... (190 rows omitted)"
      ]
     },
     "execution_count": 3,
     "metadata": {},
     "output_type": "execute_result"
    }
   ],
   "source": [
    "# Import the skyscrappers.csv as skyscrapers\n",
    "skyscrapers = Table().read_table('skyscrapers.csv')\n",
    "skyscrapers"
   ]
  },
  {
   "cell_type": "code",
   "execution_count": 4,
   "metadata": {},
   "outputs": [
    {
     "data": {
      "text/html": [
       "<table border=\"1\" class=\"dataframe\">\n",
       "    <thead>\n",
       "        <tr>\n",
       "            <th>name</th> <th>material</th> <th>city</th> <th>height</th> <th>completed</th>\n",
       "        </tr>\n",
       "    </thead>\n",
       "    <tbody>\n",
       "        <tr>\n",
       "            <td>Republic Plaza                         </td> <td>steel    </td> <td>Denver</td> <td>217.63</td> <td>1984     </td>\n",
       "        </tr>\n",
       "        <tr>\n",
       "            <td>1801 California Plaza                  </td> <td>steel    </td> <td>Denver</td> <td>216.11</td> <td>1982     </td>\n",
       "        </tr>\n",
       "        <tr>\n",
       "            <td>Wells Fargo Center                     </td> <td>composite</td> <td>Denver</td> <td>212.75</td> <td>1983     </td>\n",
       "        </tr>\n",
       "        <tr>\n",
       "            <td>Four Seasons Hotel & Private Residences</td> <td>concrete </td> <td>Denver</td> <td>194.75</td> <td>2010     </td>\n",
       "        </tr>\n",
       "    </tbody>\n",
       "</table>"
      ],
      "text/plain": [
       "name                                    | material  | city   | height | completed\n",
       "Republic Plaza                          | steel     | Denver | 217.63 | 1984\n",
       "1801 California Plaza                   | steel     | Denver | 216.11 | 1982\n",
       "Wells Fargo Center                      | composite | Denver | 212.75 | 1983\n",
       "Four Seasons Hotel & Private Residences | concrete  | Denver | 194.75 | 2010"
      ]
     },
     "execution_count": 4,
     "metadata": {},
     "output_type": "execute_result"
    }
   ],
   "source": [
    "# Select skyscrappers in Denver.\n",
    "skyscrapers.where('city', are.equal_to('Denver'))"
   ]
  },
  {
   "cell_type": "code",
   "execution_count": 5,
   "metadata": {},
   "outputs": [
    {
     "data": {
      "text/html": [
       "<table border=\"1\" class=\"dataframe\">\n",
       "    <thead>\n",
       "        <tr>\n",
       "            <th>name</th> <th>material</th> <th>city</th> <th>height</th> <th>completed</th>\n",
       "        </tr>\n",
       "    </thead>\n",
       "    <tbody>\n",
       "        <tr>\n",
       "            <td>One World Trade Center           </td> <td>composite</td> <td>New York City</td> <td>541.3 </td> <td>2014     </td>\n",
       "        </tr>\n",
       "        <tr>\n",
       "            <td>Willis Tower                     </td> <td>steel    </td> <td>Chicago      </td> <td>442.14</td> <td>1974     </td>\n",
       "        </tr>\n",
       "        <tr>\n",
       "            <td>432 Park Avenue                  </td> <td>concrete </td> <td>New York City</td> <td>425.5 </td> <td>2015     </td>\n",
       "        </tr>\n",
       "        <tr>\n",
       "            <td>Trump International Hotel & Tower</td> <td>concrete </td> <td>Chicago      </td> <td>423.22</td> <td>2009     </td>\n",
       "        </tr>\n",
       "    </tbody>\n",
       "</table>"
      ],
      "text/plain": [
       "name                              | material  | city          | height | completed\n",
       "One World Trade Center            | composite | New York City | 541.3  | 2014\n",
       "Willis Tower                      | steel     | Chicago       | 442.14 | 1974\n",
       "432 Park Avenue                   | concrete  | New York City | 425.5  | 2015\n",
       "Trump International Hotel & Tower | concrete  | Chicago       | 423.22 | 2009"
      ]
     },
     "execution_count": 5,
     "metadata": {},
     "output_type": "execute_result"
    }
   ],
   "source": [
    "# Select the skyscrappers that are larger or equal to 400 meters.\n",
    "skyscrapers.where('height', are.above_or_equal_to(400))"
   ]
  },
  {
   "cell_type": "code",
   "execution_count": 6,
   "metadata": {},
   "outputs": [],
   "source": [
    "# Type 'Loyola Hall' as a string and assign it to location\n",
    "location = 'Loyola Hall'"
   ]
  },
  {
   "cell_type": "code",
   "execution_count": 7,
   "metadata": {},
   "outputs": [
    {
     "data": {
      "text/plain": [
       "'Clarke Hall'"
      ]
     },
     "execution_count": 7,
     "metadata": {},
     "output_type": "execute_result"
    }
   ],
   "source": [
    "# Use string.replace() to replace Loyola with Clarke in location.\n",
    "location.replace('Loyola', 'Clarke')"
   ]
  },
  {
   "cell_type": "markdown",
   "metadata": {
    "slideshow": {
     "slide_type": "slide"
    }
   },
   "source": [
    "# Chapter 5: Sequences"
   ]
  },
  {
   "cell_type": "markdown",
   "metadata": {
    "slideshow": {
     "slide_type": "slide"
    }
   },
   "source": [
    "## Arrays\n",
    "- An array contains a sequence of values\n",
    "- Arrays can be strings, or numbers, and a mix, but the should usally be of the same type of data\n",
    "- Arithmetic is applied to each element individually\n",
    "- Array lengths much match for arithmetic bewteen arrays\n",
    "- A column of a Table is an array\n",
    "- fucntion make_array(values)\n",
    "\n",
    "### Let's run some code"
   ]
  },
  {
   "cell_type": "code",
   "execution_count": 8,
   "metadata": {
    "slideshow": {
     "slide_type": "skip"
    }
   },
   "outputs": [],
   "source": [
    "my_array = make_array(1, 2, 3, 4)"
   ]
  },
  {
   "cell_type": "code",
   "execution_count": 9,
   "metadata": {
    "slideshow": {
     "slide_type": "skip"
    }
   },
   "outputs": [
    {
     "data": {
      "text/plain": [
       "array([1, 2, 3, 4], dtype=int64)"
      ]
     },
     "execution_count": 9,
     "metadata": {},
     "output_type": "execute_result"
    }
   ],
   "source": [
    "my_array"
   ]
  },
  {
   "cell_type": "code",
   "execution_count": 10,
   "metadata": {
    "slideshow": {
     "slide_type": "skip"
    }
   },
   "outputs": [
    {
     "data": {
      "text/plain": [
       "array([2, 4, 6, 8], dtype=int64)"
      ]
     },
     "execution_count": 10,
     "metadata": {},
     "output_type": "execute_result"
    }
   ],
   "source": [
    "my_array * 2"
   ]
  },
  {
   "cell_type": "code",
   "execution_count": 11,
   "metadata": {
    "slideshow": {
     "slide_type": "skip"
    }
   },
   "outputs": [
    {
     "data": {
      "text/plain": [
       "array([ 1,  4,  9, 16], dtype=int64)"
      ]
     },
     "execution_count": 11,
     "metadata": {},
     "output_type": "execute_result"
    }
   ],
   "source": [
    "my_array ** 2"
   ]
  },
  {
   "cell_type": "code",
   "execution_count": 12,
   "metadata": {
    "slideshow": {
     "slide_type": "skip"
    }
   },
   "outputs": [
    {
     "data": {
      "text/plain": [
       "array([2, 3, 4, 5], dtype=int64)"
      ]
     },
     "execution_count": 12,
     "metadata": {},
     "output_type": "execute_result"
    }
   ],
   "source": [
    "my_array + 1"
   ]
  },
  {
   "cell_type": "code",
   "execution_count": 13,
   "metadata": {
    "slideshow": {
     "slide_type": "skip"
    }
   },
   "outputs": [
    {
     "data": {
      "text/plain": [
       "array([1, 2, 3, 4], dtype=int64)"
      ]
     },
     "execution_count": 13,
     "metadata": {},
     "output_type": "execute_result"
    }
   ],
   "source": [
    "my_array # array is unchanged"
   ]
  },
  {
   "cell_type": "code",
   "execution_count": 14,
   "metadata": {},
   "outputs": [
    {
     "ename": "TypeError",
     "evalue": "can only concatenate list (not \"int\") to list",
     "output_type": "error",
     "traceback": [
      "\u001b[1;31m---------------------------------------------------------------------------\u001b[0m",
      "\u001b[1;31mTypeError\u001b[0m                                 Traceback (most recent call last)",
      "\u001b[1;32m~\\AppData\\Local\\Temp/ipykernel_18988/290904663.py\u001b[0m in \u001b[0;36m<module>\u001b[1;34m\u001b[0m\n\u001b[1;32m----> 1\u001b[1;33m \u001b[1;33m[\u001b[0m\u001b[1;36m1\u001b[0m\u001b[1;33m,\u001b[0m\u001b[1;36m2\u001b[0m\u001b[1;33m,\u001b[0m\u001b[1;36m3\u001b[0m\u001b[1;33m]\u001b[0m\u001b[1;33m+\u001b[0m\u001b[1;36m2\u001b[0m\u001b[1;33m\u001b[0m\u001b[1;33m\u001b[0m\u001b[0m\n\u001b[0m",
      "\u001b[1;31mTypeError\u001b[0m: can only concatenate list (not \"int\") to list"
     ]
    }
   ],
   "source": [
    "[1,2,3]+2"
   ]
  },
  {
   "cell_type": "code",
   "execution_count": 15,
   "metadata": {},
   "outputs": [
    {
     "data": {
      "text/plain": [
       "array([3, 4, 5])"
      ]
     },
     "execution_count": 15,
     "metadata": {},
     "output_type": "execute_result"
    }
   ],
   "source": [
    "np.array([1,2,3])+2"
   ]
  },
  {
   "cell_type": "code",
   "execution_count": 16,
   "metadata": {},
   "outputs": [
    {
     "data": {
      "text/plain": [
       "array([1, 2, 3], dtype=int64)"
      ]
     },
     "execution_count": 16,
     "metadata": {},
     "output_type": "execute_result"
    }
   ],
   "source": [
    "make_array(1,2,3)"
   ]
  },
  {
   "cell_type": "code",
   "execution_count": 17,
   "metadata": {},
   "outputs": [
    {
     "data": {
      "text/plain": [
       "array([1, 2, 3, 4], dtype=int64)"
      ]
     },
     "execution_count": 17,
     "metadata": {},
     "output_type": "execute_result"
    }
   ],
   "source": [
    "my_array"
   ]
  },
  {
   "cell_type": "code",
   "execution_count": 18,
   "metadata": {
    "slideshow": {
     "slide_type": "skip"
    }
   },
   "outputs": [
    {
     "data": {
      "text/plain": [
       "4"
      ]
     },
     "execution_count": 18,
     "metadata": {},
     "output_type": "execute_result"
    }
   ],
   "source": [
    "len(my_array)"
   ]
  },
  {
   "cell_type": "code",
   "execution_count": 19,
   "metadata": {
    "slideshow": {
     "slide_type": "skip"
    }
   },
   "outputs": [
    {
     "data": {
      "text/plain": [
       "10"
      ]
     },
     "execution_count": 19,
     "metadata": {},
     "output_type": "execute_result"
    }
   ],
   "source": [
    "sum(my_array)"
   ]
  },
  {
   "cell_type": "code",
   "execution_count": 20,
   "metadata": {
    "slideshow": {
     "slide_type": "skip"
    }
   },
   "outputs": [
    {
     "data": {
      "text/plain": [
       "0.4"
      ]
     },
     "execution_count": 20,
     "metadata": {},
     "output_type": "execute_result"
    }
   ],
   "source": [
    "len(my_array) / sum(my_array)"
   ]
  },
  {
   "cell_type": "code",
   "execution_count": 21,
   "metadata": {
    "slideshow": {
     "slide_type": "skip"
    }
   },
   "outputs": [
    {
     "data": {
      "text/plain": [
       "0.4"
      ]
     },
     "execution_count": 21,
     "metadata": {},
     "output_type": "execute_result"
    }
   ],
   "source": [
    "len(my_array) / sum(my_array).mean()"
   ]
  },
  {
   "cell_type": "code",
   "execution_count": 22,
   "metadata": {
    "slideshow": {
     "slide_type": "skip"
    }
   },
   "outputs": [],
   "source": [
    "another = make_array(60, 70, 80, 90)"
   ]
  },
  {
   "cell_type": "code",
   "execution_count": 23,
   "metadata": {
    "slideshow": {
     "slide_type": "skip"
    }
   },
   "outputs": [
    {
     "data": {
      "text/plain": [
       "array([61, 72, 83, 94], dtype=int64)"
      ]
     },
     "execution_count": 23,
     "metadata": {},
     "output_type": "execute_result"
    }
   ],
   "source": [
    "my_array + another"
   ]
  },
  {
   "cell_type": "code",
   "execution_count": 24,
   "metadata": {
    "slideshow": {
     "slide_type": "skip"
    }
   },
   "outputs": [],
   "source": [
    "yet_another = make_array(5, 6, 7)"
   ]
  },
  {
   "cell_type": "code",
   "execution_count": 25,
   "metadata": {
    "slideshow": {
     "slide_type": "skip"
    }
   },
   "outputs": [
    {
     "ename": "ValueError",
     "evalue": "operands could not be broadcast together with shapes (4,) (3,) ",
     "output_type": "error",
     "traceback": [
      "\u001b[1;31m---------------------------------------------------------------------------\u001b[0m",
      "\u001b[1;31mValueError\u001b[0m                                Traceback (most recent call last)",
      "\u001b[1;32m~\\AppData\\Local\\Temp/ipykernel_18988/2954929283.py\u001b[0m in \u001b[0;36m<module>\u001b[1;34m\u001b[0m\n\u001b[1;32m----> 1\u001b[1;33m \u001b[0mmy_array\u001b[0m \u001b[1;33m+\u001b[0m \u001b[0myet_another\u001b[0m\u001b[1;33m\u001b[0m\u001b[1;33m\u001b[0m\u001b[0m\n\u001b[0m",
      "\u001b[1;31mValueError\u001b[0m: operands could not be broadcast together with shapes (4,) (3,) "
     ]
    }
   ],
   "source": [
    "my_array + yet_another"
   ]
  },
  {
   "cell_type": "code",
   "execution_count": 26,
   "metadata": {
    "slideshow": {
     "slide_type": "skip"
    }
   },
   "outputs": [
    {
     "data": {
      "text/plain": [
       "array(['bluefin', 'albacore', 'jim'], dtype='<U8')"
      ]
     },
     "execution_count": 26,
     "metadata": {},
     "output_type": "execute_result"
    }
   ],
   "source": [
    "tunas = make_array('bluefin', 'albacore', 'jim')\n",
    "tunas"
   ]
  },
  {
   "cell_type": "code",
   "execution_count": 27,
   "metadata": {
    "slideshow": {
     "slide_type": "skip"
    }
   },
   "outputs": [
    {
     "data": {
      "text/plain": [
       "array(['red fish', 'blue fish', '1', '2'], dtype='<U11')"
      ]
     },
     "execution_count": 27,
     "metadata": {},
     "output_type": "execute_result"
    }
   ],
   "source": [
    "make_array('red fish', 'blue fish', 1, 2)"
   ]
  },
  {
   "cell_type": "markdown",
   "metadata": {
    "slideshow": {
     "slide_type": "skip"
    }
   },
   "source": [
    "## Columns of Tables are Arrays ##"
   ]
  },
  {
   "cell_type": "code",
   "execution_count": 28,
   "metadata": {
    "slideshow": {
     "slide_type": "skip"
    }
   },
   "outputs": [
    {
     "data": {
      "text/html": [
       "<table border=\"1\" class=\"dataframe\">\n",
       "    <thead>\n",
       "        <tr>\n",
       "            <th>name</th> <th>material</th> <th>city</th> <th>height</th> <th>completed</th>\n",
       "        </tr>\n",
       "    </thead>\n",
       "    <tbody>\n",
       "        <tr>\n",
       "            <td>Transamerica Pyramid </td> <td>composite</td> <td>San Francisco</td> <td>260   </td> <td>1972     </td>\n",
       "        </tr>\n",
       "        <tr>\n",
       "            <td>555 California Street</td> <td>steel    </td> <td>San Francisco</td> <td>237.44</td> <td>1969     </td>\n",
       "        </tr>\n",
       "        <tr>\n",
       "            <td>345 California Center</td> <td>steel    </td> <td>San Francisco</td> <td>211.84</td> <td>1986     </td>\n",
       "        </tr>\n",
       "        <tr>\n",
       "            <td>Millennium Tower     </td> <td>concrete </td> <td>San Francisco</td> <td>196.6 </td> <td>2009     </td>\n",
       "        </tr>\n",
       "    </tbody>\n",
       "</table>"
      ],
      "text/plain": [
       "name                  | material  | city          | height | completed\n",
       "Transamerica Pyramid  | composite | San Francisco | 260    | 1972\n",
       "555 California Street | steel     | San Francisco | 237.44 | 1969\n",
       "345 California Center | steel     | San Francisco | 211.84 | 1986\n",
       "Millennium Tower      | concrete  | San Francisco | 196.6  | 2009"
      ]
     },
     "execution_count": 28,
     "metadata": {},
     "output_type": "execute_result"
    }
   ],
   "source": [
    "skyscrapers = Table.read_table('skyscrapers.csv')\n",
    "sf = skyscrapers.where('city', 'San Francisco')\n",
    "sf"
   ]
  },
  {
   "cell_type": "code",
   "execution_count": 29,
   "metadata": {
    "slideshow": {
     "slide_type": "skip"
    }
   },
   "outputs": [
    {
     "data": {
      "text/html": [
       "<table border=\"1\" class=\"dataframe\">\n",
       "    <thead>\n",
       "        <tr>\n",
       "            <th>height</th>\n",
       "        </tr>\n",
       "    </thead>\n",
       "    <tbody>\n",
       "        <tr>\n",
       "            <td>260   </td>\n",
       "        </tr>\n",
       "        <tr>\n",
       "            <td>237.44</td>\n",
       "        </tr>\n",
       "        <tr>\n",
       "            <td>211.84</td>\n",
       "        </tr>\n",
       "        <tr>\n",
       "            <td>196.6 </td>\n",
       "        </tr>\n",
       "    </tbody>\n",
       "</table>"
      ],
      "text/plain": [
       "height\n",
       "260\n",
       "237.44\n",
       "211.84\n",
       "196.6"
      ]
     },
     "execution_count": 29,
     "metadata": {},
     "output_type": "execute_result"
    }
   ],
   "source": [
    "sf.select('height')"
   ]
  },
  {
   "cell_type": "code",
   "execution_count": 30,
   "metadata": {
    "scrolled": true,
    "slideshow": {
     "slide_type": "skip"
    }
   },
   "outputs": [
    {
     "data": {
      "text/plain": [
       "array([260.        , 237.44000244, 211.83999634, 196.6000061 ])"
      ]
     },
     "execution_count": 30,
     "metadata": {},
     "output_type": "execute_result"
    }
   ],
   "source": [
    "sf.column('height')"
   ]
  },
  {
   "cell_type": "code",
   "execution_count": 31,
   "metadata": {
    "slideshow": {
     "slide_type": "skip"
    }
   },
   "outputs": [
    {
     "data": {
      "text/plain": [
       "226.470001220705"
      ]
     },
     "execution_count": 31,
     "metadata": {},
     "output_type": "execute_result"
    }
   ],
   "source": [
    "sf.column('height').mean()"
   ]
  },
  {
   "cell_type": "code",
   "execution_count": 32,
   "metadata": {
    "slideshow": {
     "slide_type": "skip"
    }
   },
   "outputs": [],
   "source": [
    "den = skyscrapers.where('city', 'Denver')"
   ]
  },
  {
   "cell_type": "code",
   "execution_count": 33,
   "metadata": {
    "slideshow": {
     "slide_type": "skip"
    }
   },
   "outputs": [
    {
     "data": {
      "text/plain": [
       "16.15999984741501"
      ]
     },
     "execution_count": 33,
     "metadata": {},
     "output_type": "execute_result"
    }
   ],
   "source": [
    "sf.column('height').mean() - den.column('height').mean()"
   ]
  },
  {
   "cell_type": "markdown",
   "metadata": {
    "slideshow": {
     "slide_type": "slide"
    }
   },
   "source": [
    "## Numpy\n",
    "- Numpy package usually abreviated as ***np***\n",
    "- Nummpy is a powerful package used to manipulate arrays\n",
    "- [Numpy Documentation](https://numpy.org/doc/stable/reference/)\n",
    "- [Text book numpy function cheatsheet](https://www.inferentialthinking.com/chapters/05/1/Arrays.html#Functions-on-Arrays)"
   ]
  },
  {
   "cell_type": "markdown",
   "metadata": {
    "slideshow": {
     "slide_type": "slide"
    }
   },
   "source": [
    "## Ranges\n",
    "- A range is an array of consecutive numbers\n",
    "- np.arange(end) == an array of increasing integers from 0 to end\n",
    "- np.arange(start, end) == an array of increasing integers from start to end\n",
    "- np.arange(start, end, step) == an array of increasing integers from start to end with step between consecutive numbers\n",
    "- np.arange always includes start and exludes end\n",
    "\n"
   ]
  },
  {
   "cell_type": "code",
   "execution_count": 34,
   "metadata": {
    "slideshow": {
     "slide_type": "skip"
    }
   },
   "outputs": [
    {
     "data": {
      "text/plain": [
       "array([ 0,  1,  2,  3,  4,  5,  6,  7,  8,  9, 10, 11, 12, 13, 14, 15, 16,\n",
       "       17, 18, 19, 20, 21, 22, 23, 24, 25, 26, 27, 28, 29, 30, 31, 32, 33,\n",
       "       34, 35, 36, 37, 38, 39, 40, 41, 42, 43, 44, 45, 46, 47, 48, 49, 50,\n",
       "       51, 52, 53, 54, 55, 56, 57, 58, 59, 60, 61, 62, 63, 64, 65, 66, 67,\n",
       "       68, 69, 70, 71, 72, 73, 74, 75, 76, 77, 78, 79, 80, 81, 82, 83, 84,\n",
       "       85, 86, 87, 88, 89, 90, 91, 92, 93, 94, 95, 96, 97, 98, 99])"
      ]
     },
     "execution_count": 34,
     "metadata": {},
     "output_type": "execute_result"
    }
   ],
   "source": [
    "np.arange(100)"
   ]
  },
  {
   "cell_type": "code",
   "execution_count": 35,
   "metadata": {},
   "outputs": [
    {
     "data": {
      "text/plain": [
       "100"
      ]
     },
     "execution_count": 35,
     "metadata": {},
     "output_type": "execute_result"
    }
   ],
   "source": [
    "len(np.arange(100))"
   ]
  },
  {
   "cell_type": "code",
   "execution_count": 36,
   "metadata": {
    "slideshow": {
     "slide_type": "skip"
    }
   },
   "outputs": [
    {
     "data": {
      "text/plain": [
       "array([50, 51, 52, 53, 54, 55, 56, 57, 58, 59, 60, 61, 62, 63, 64, 65, 66,\n",
       "       67, 68, 69, 70, 71, 72, 73, 74, 75, 76, 77, 78, 79, 80, 81, 82, 83,\n",
       "       84, 85, 86, 87, 88, 89, 90, 91, 92, 93, 94, 95, 96, 97, 98, 99])"
      ]
     },
     "execution_count": 36,
     "metadata": {},
     "output_type": "execute_result"
    }
   ],
   "source": [
    "np.arange(50, 100)"
   ]
  },
  {
   "cell_type": "code",
   "execution_count": 37,
   "metadata": {
    "slideshow": {
     "slide_type": "skip"
    }
   },
   "outputs": [
    {
     "data": {
      "text/plain": [
       "array([2, 4, 6, 8])"
      ]
     },
     "execution_count": 37,
     "metadata": {},
     "output_type": "execute_result"
    }
   ],
   "source": [
    "np.arange(2, 9, 2)"
   ]
  },
  {
   "cell_type": "code",
   "execution_count": 38,
   "metadata": {
    "slideshow": {
     "slide_type": "skip"
    }
   },
   "outputs": [
    {
     "data": {
      "text/plain": [
       "array([ 1.5,  1. ,  0.5,  0. , -0.5, -1. , -1.5])"
      ]
     },
     "execution_count": 38,
     "metadata": {},
     "output_type": "execute_result"
    }
   ],
   "source": [
    "np.arange(1.5, -2, -0.5)"
   ]
  },
  {
   "cell_type": "markdown",
   "metadata": {
    "slideshow": {
     "slide_type": "skip"
    }
   },
   "source": [
    "Let's calculate the [Harmonic Series](https://en.wikipedia.org/wiki/Harmonic_series_(mathematics)) to 10^9"
   ]
  },
  {
   "cell_type": "code",
   "execution_count": 39,
   "metadata": {
    "slideshow": {
     "slide_type": "skip"
    }
   },
   "outputs": [
    {
     "data": {
      "text/plain": [
       "21.300481502347903"
      ]
     },
     "execution_count": 39,
     "metadata": {},
     "output_type": "execute_result"
    }
   ],
   "source": [
    "value = int(10**9)\n",
    "ones = np.ones(value, dtype='int64')\n",
    "len(ones)\n",
    "denom = np.arange(1, (value+1))\n",
    "(ones/denom).sum()"
   ]
  },
  {
   "cell_type": "code",
   "execution_count": 40,
   "metadata": {},
   "outputs": [
    {
     "data": {
      "text/plain": [
       "1000000000"
      ]
     },
     "execution_count": 40,
     "metadata": {},
     "output_type": "execute_result"
    }
   ],
   "source": [
    "len(ones)"
   ]
  },
  {
   "cell_type": "markdown",
   "metadata": {
    "slideshow": {
     "slide_type": "slide"
    }
   },
   "source": [
    "# Chapter 6: Tables\n",
    "- There are too many Table functions to list here.  \n",
    "- [Table documentation](http://data8.org/datascience/tables.html)\n",
    "- Here are some functions to get us started\n",
    "    - Table.read_table(file_name) to load .csv file as a Table\n",
    "    - Table.with_columns('Label_1', Values_1, 'Label_2', Values_2, etc.)) to create Table\n",
    "    - Table.columns('Label') to get array of values from Label index\n",
    "    - .sum('Label'), .min('Label'), .max('Label') of values from Label index\n",
    "    - .drop('Label') to drop Label from Table"
   ]
  },
  {
   "cell_type": "markdown",
   "metadata": {
    "slideshow": {
     "slide_type": "slide"
    }
   },
   "source": [
    "## Let's create a table from scratch ##"
   ]
  },
  {
   "cell_type": "code",
   "execution_count": 41,
   "metadata": {
    "slideshow": {
     "slide_type": "skip"
    }
   },
   "outputs": [
    {
     "data": {
      "text/plain": [
       "array(['Bancroft', 'Durant', 'Channing', 'Haste'], dtype='<U8')"
      ]
     },
     "execution_count": 41,
     "metadata": {},
     "output_type": "execute_result"
    }
   ],
   "source": [
    "streets = make_array('Bancroft', 'Durant', 'Channing', 'Haste')\n",
    "streets"
   ]
  },
  {
   "cell_type": "code",
   "execution_count": 42,
   "metadata": {
    "slideshow": {
     "slide_type": "skip"
    }
   },
   "outputs": [
    {
     "data": {
      "text/html": [
       "<table border=\"1\" class=\"dataframe\">\n",
       "    <thead>\n",
       "        <tr>\n",
       "            <th>Streets</th>\n",
       "        </tr>\n",
       "    </thead>\n",
       "    <tbody>\n",
       "        <tr>\n",
       "            <td>Bancroft</td>\n",
       "        </tr>\n",
       "        <tr>\n",
       "            <td>Durant  </td>\n",
       "        </tr>\n",
       "        <tr>\n",
       "            <td>Channing</td>\n",
       "        </tr>\n",
       "        <tr>\n",
       "            <td>Haste   </td>\n",
       "        </tr>\n",
       "    </tbody>\n",
       "</table>"
      ],
      "text/plain": [
       "Streets\n",
       "Bancroft\n",
       "Durant\n",
       "Channing\n",
       "Haste"
      ]
     },
     "execution_count": 42,
     "metadata": {},
     "output_type": "execute_result"
    }
   ],
   "source": [
    "southside = Table().with_column('Streets', streets)\n",
    "southside"
   ]
  },
  {
   "cell_type": "code",
   "execution_count": 43,
   "metadata": {
    "slideshow": {
     "slide_type": "skip"
    }
   },
   "outputs": [
    {
     "data": {
      "text/html": [
       "<table border=\"1\" class=\"dataframe\">\n",
       "    <thead>\n",
       "        <tr>\n",
       "            <th>Streets</th> <th>Blocks from campus</th>\n",
       "        </tr>\n",
       "    </thead>\n",
       "    <tbody>\n",
       "        <tr>\n",
       "            <td>Bancroft</td> <td>0                 </td>\n",
       "        </tr>\n",
       "        <tr>\n",
       "            <td>Durant  </td> <td>1                 </td>\n",
       "        </tr>\n",
       "        <tr>\n",
       "            <td>Channing</td> <td>2                 </td>\n",
       "        </tr>\n",
       "        <tr>\n",
       "            <td>Haste   </td> <td>3                 </td>\n",
       "        </tr>\n",
       "    </tbody>\n",
       "</table>"
      ],
      "text/plain": [
       "Streets  | Blocks from campus\n",
       "Bancroft | 0\n",
       "Durant   | 1\n",
       "Channing | 2\n",
       "Haste    | 3"
      ]
     },
     "execution_count": 43,
     "metadata": {},
     "output_type": "execute_result"
    }
   ],
   "source": [
    "southside.with_column('Blocks from campus', np.arange(4))"
   ]
  },
  {
   "cell_type": "code",
   "execution_count": 44,
   "metadata": {
    "slideshow": {
     "slide_type": "skip"
    }
   },
   "outputs": [
    {
     "data": {
      "text/html": [
       "<table border=\"1\" class=\"dataframe\">\n",
       "    <thead>\n",
       "        <tr>\n",
       "            <th>Streets</th>\n",
       "        </tr>\n",
       "    </thead>\n",
       "    <tbody>\n",
       "        <tr>\n",
       "            <td>Bancroft</td>\n",
       "        </tr>\n",
       "        <tr>\n",
       "            <td>Durant  </td>\n",
       "        </tr>\n",
       "        <tr>\n",
       "            <td>Channing</td>\n",
       "        </tr>\n",
       "        <tr>\n",
       "            <td>Haste   </td>\n",
       "        </tr>\n",
       "    </tbody>\n",
       "</table>"
      ],
      "text/plain": [
       "Streets\n",
       "Bancroft\n",
       "Durant\n",
       "Channing\n",
       "Haste"
      ]
     },
     "execution_count": 44,
     "metadata": {},
     "output_type": "execute_result"
    }
   ],
   "source": [
    "southside"
   ]
  },
  {
   "cell_type": "code",
   "execution_count": 45,
   "metadata": {
    "slideshow": {
     "slide_type": "skip"
    }
   },
   "outputs": [
    {
     "data": {
      "text/html": [
       "<table border=\"1\" class=\"dataframe\">\n",
       "    <thead>\n",
       "        <tr>\n",
       "            <th>Streets</th> <th>Blocks from campus</th>\n",
       "        </tr>\n",
       "    </thead>\n",
       "    <tbody>\n",
       "        <tr>\n",
       "            <td>Bancroft</td> <td>0                 </td>\n",
       "        </tr>\n",
       "        <tr>\n",
       "            <td>Durant  </td> <td>1                 </td>\n",
       "        </tr>\n",
       "        <tr>\n",
       "            <td>Channing</td> <td>2                 </td>\n",
       "        </tr>\n",
       "        <tr>\n",
       "            <td>Haste   </td> <td>3                 </td>\n",
       "        </tr>\n",
       "    </tbody>\n",
       "</table>"
      ],
      "text/plain": [
       "Streets  | Blocks from campus\n",
       "Bancroft | 0\n",
       "Durant   | 1\n",
       "Channing | 2\n",
       "Haste    | 3"
      ]
     },
     "execution_count": 45,
     "metadata": {},
     "output_type": "execute_result"
    }
   ],
   "source": [
    "southside = southside.with_column('Blocks from campus', np.arange(4))\n",
    "southside"
   ]
  },
  {
   "cell_type": "code",
   "execution_count": 46,
   "metadata": {
    "slideshow": {
     "slide_type": "skip"
    }
   },
   "outputs": [
    {
     "data": {
      "text/plain": [
       "('Streets', 'Blocks from campus')"
      ]
     },
     "execution_count": 46,
     "metadata": {},
     "output_type": "execute_result"
    }
   ],
   "source": [
    "southside.labels"
   ]
  },
  {
   "cell_type": "code",
   "execution_count": 47,
   "metadata": {
    "slideshow": {
     "slide_type": "skip"
    }
   },
   "outputs": [
    {
     "data": {
      "text/plain": [
       "2"
      ]
     },
     "execution_count": 47,
     "metadata": {},
     "output_type": "execute_result"
    }
   ],
   "source": [
    "southside.num_columns"
   ]
  },
  {
   "cell_type": "code",
   "execution_count": 48,
   "metadata": {
    "slideshow": {
     "slide_type": "skip"
    }
   },
   "outputs": [
    {
     "data": {
      "text/plain": [
       "4"
      ]
     },
     "execution_count": 48,
     "metadata": {},
     "output_type": "execute_result"
    }
   ],
   "source": [
    "southside.num_rows"
   ]
  },
  {
   "cell_type": "markdown",
   "metadata": {
    "slideshow": {
     "slide_type": "slide"
    }
   },
   "source": [
    "## W.E.B. du Bois demo\n",
    " - W.E.B. du Bois 1868 - 1963\n",
    " - Scholar, historian, activist, data scientist\n",
    " \n",
    " ### Income and Expediture of 150 Black Famalies in Alanta GA\n",
    " <img src=du_bois_chart.jpg style=\"width: 500px;\"/>"
   ]
  },
  {
   "cell_type": "code",
   "execution_count": 64,
   "metadata": {
    "slideshow": {
     "slide_type": "skip"
    }
   },
   "outputs": [
    {
     "data": {
      "text/html": [
       "<table border=\"1\" class=\"dataframe\">\n",
       "    <thead>\n",
       "        <tr>\n",
       "            <th>CLASS</th> <th>ACTUAL AVERAGE</th> <th>RENT</th> <th>FOOD</th> <th>CLOTHES</th> <th>TAXES</th> <th>OTHER</th> <th>STATUS</th>\n",
       "        </tr>\n",
       "    </thead>\n",
       "    <tbody>\n",
       "        <tr>\n",
       "            <td>100-200      </td> <td>139.1         </td> <td>0.19</td> <td>0.43</td> <td>0.28   </td> <td>0.001</td> <td>0.099</td> <td>POOR       </td>\n",
       "        </tr>\n",
       "        <tr>\n",
       "            <td>200-300      </td> <td>249.45        </td> <td>0.22</td> <td>0.47</td> <td>0.23   </td> <td>0.04 </td> <td>0.04 </td> <td>POOR       </td>\n",
       "        </tr>\n",
       "        <tr>\n",
       "            <td>300-400      </td> <td>335.66        </td> <td>0.23</td> <td>0.43</td> <td>0.18   </td> <td>0.045</td> <td>0.115</td> <td>FAIR       </td>\n",
       "        </tr>\n",
       "        <tr>\n",
       "            <td>400-500      </td> <td>433.82        </td> <td>0.18</td> <td>0.37</td> <td>0.15   </td> <td>0.055</td> <td>0.245</td> <td>FAIR       </td>\n",
       "        </tr>\n",
       "        <tr>\n",
       "            <td>500-750      </td> <td>547           </td> <td>0.13</td> <td>0.31</td> <td>0.17   </td> <td>0.05 </td> <td>0.34 </td> <td>COMFORTABLE</td>\n",
       "        </tr>\n",
       "        <tr>\n",
       "            <td>750-1000     </td> <td>880           </td> <td>0   </td> <td>0.37</td> <td>0.19   </td> <td>0.08 </td> <td>0.36 </td> <td>COMFORTABLE</td>\n",
       "        </tr>\n",
       "        <tr>\n",
       "            <td>1000 and over</td> <td>1125          </td> <td>0   </td> <td>0.29</td> <td>0.16   </td> <td>0.045</td> <td>0.505</td> <td>WELL-TO-DO </td>\n",
       "        </tr>\n",
       "    </tbody>\n",
       "</table>"
      ],
      "text/plain": [
       "CLASS         | ACTUAL AVERAGE | RENT | FOOD | CLOTHES | TAXES | OTHER | STATUS\n",
       "100-200       | 139.1          | 0.19 | 0.43 | 0.28    | 0.001 | 0.099 | POOR\n",
       "200-300       | 249.45         | 0.22 | 0.47 | 0.23    | 0.04  | 0.04  | POOR\n",
       "300-400       | 335.66         | 0.23 | 0.43 | 0.18    | 0.045 | 0.115 | FAIR\n",
       "400-500       | 433.82         | 0.18 | 0.37 | 0.15    | 0.055 | 0.245 | FAIR\n",
       "500-750       | 547            | 0.13 | 0.31 | 0.17    | 0.05  | 0.34  | COMFORTABLE\n",
       "750-1000      | 880            | 0    | 0.37 | 0.19    | 0.08  | 0.36  | COMFORTABLE\n",
       "1000 and over | 1125           | 0    | 0.29 | 0.16    | 0.045 | 0.505 | WELL-TO-DO"
      ]
     },
     "execution_count": 64,
     "metadata": {},
     "output_type": "execute_result"
    }
   ],
   "source": [
    "du_bois = Table.read_table('du_bois.csv')\n",
    "du_bois"
   ]
  },
  {
   "cell_type": "code",
   "execution_count": 65,
   "metadata": {
    "scrolled": true,
    "slideshow": {
     "slide_type": "skip"
    }
   },
   "outputs": [
    {
     "data": {
      "text/html": [
       "<table border=\"1\" class=\"dataframe\">\n",
       "    <thead>\n",
       "        <tr>\n",
       "            <th>STATUS</th>\n",
       "        </tr>\n",
       "    </thead>\n",
       "    <tbody>\n",
       "        <tr>\n",
       "            <td>POOR       </td>\n",
       "        </tr>\n",
       "        <tr>\n",
       "            <td>POOR       </td>\n",
       "        </tr>\n",
       "        <tr>\n",
       "            <td>FAIR       </td>\n",
       "        </tr>\n",
       "        <tr>\n",
       "            <td>FAIR       </td>\n",
       "        </tr>\n",
       "        <tr>\n",
       "            <td>COMFORTABLE</td>\n",
       "        </tr>\n",
       "        <tr>\n",
       "            <td>COMFORTABLE</td>\n",
       "        </tr>\n",
       "        <tr>\n",
       "            <td>WELL-TO-DO </td>\n",
       "        </tr>\n",
       "    </tbody>\n",
       "</table>"
      ],
      "text/plain": [
       "STATUS\n",
       "POOR\n",
       "POOR\n",
       "FAIR\n",
       "FAIR\n",
       "COMFORTABLE\n",
       "COMFORTABLE\n",
       "WELL-TO-DO"
      ]
     },
     "execution_count": 65,
     "metadata": {},
     "output_type": "execute_result"
    }
   ],
   "source": [
    "du_bois.select('STATUS')"
   ]
  },
  {
   "cell_type": "code",
   "execution_count": 66,
   "metadata": {
    "slideshow": {
     "slide_type": "skip"
    }
   },
   "outputs": [
    {
     "data": {
      "text/plain": [
       "array(['POOR', 'POOR', 'FAIR', 'FAIR', 'COMFORTABLE', 'COMFORTABLE',\n",
       "       'WELL-TO-DO'], dtype='<U11')"
      ]
     },
     "execution_count": 66,
     "metadata": {},
     "output_type": "execute_result"
    }
   ],
   "source": [
    "du_bois.column('STATUS')"
   ]
  },
  {
   "cell_type": "code",
   "execution_count": 67,
   "metadata": {
    "slideshow": {
     "slide_type": "skip"
    }
   },
   "outputs": [
    {
     "data": {
      "text/plain": [
       "array([ 139.1 ,  249.45,  335.66,  433.82,  547.  ,  880.  , 1125.  ])"
      ]
     },
     "execution_count": 67,
     "metadata": {},
     "output_type": "execute_result"
    }
   ],
   "source": [
    "du_bois.column('ACTUAL AVERAGE')"
   ]
  },
  {
   "cell_type": "code",
   "execution_count": 68,
   "metadata": {
    "slideshow": {
     "slide_type": "skip"
    }
   },
   "outputs": [
    {
     "data": {
      "text/plain": [
       "array([0.43, 0.47, 0.43, 0.37, 0.31, 0.37, 0.29])"
      ]
     },
     "execution_count": 68,
     "metadata": {},
     "output_type": "execute_result"
    }
   ],
   "source": [
    "du_bois.column('FOOD')"
   ]
  },
  {
   "cell_type": "code",
   "execution_count": 69,
   "metadata": {
    "slideshow": {
     "slide_type": "skip"
    }
   },
   "outputs": [
    {
     "data": {
      "text/plain": [
       "array([ 59.813 , 117.2415, 144.3338, 160.5134, 169.57  , 325.6   ,\n",
       "       326.25  ])"
      ]
     },
     "execution_count": 69,
     "metadata": {},
     "output_type": "execute_result"
    }
   ],
   "source": [
    "du_bois.column('ACTUAL AVERAGE') * du_bois.column('FOOD')"
   ]
  },
  {
   "cell_type": "code",
   "execution_count": 70,
   "metadata": {
    "slideshow": {
     "slide_type": "skip"
    }
   },
   "outputs": [
    {
     "data": {
      "text/html": [
       "<table border=\"1\" class=\"dataframe\">\n",
       "    <thead>\n",
       "        <tr>\n",
       "            <th>CLASS</th> <th>ACTUAL AVERAGE</th> <th>RENT</th> <th>FOOD</th> <th>CLOTHES</th> <th>TAXES</th> <th>OTHER</th> <th>STATUS</th> <th>Food $</th>\n",
       "        </tr>\n",
       "    </thead>\n",
       "    <tbody>\n",
       "        <tr>\n",
       "            <td>100-200      </td> <td>139.1         </td> <td>0.19</td> <td>0.43</td> <td>0.28   </td> <td>0.001</td> <td>0.099</td> <td>POOR       </td> <td>59.813 </td>\n",
       "        </tr>\n",
       "        <tr>\n",
       "            <td>200-300      </td> <td>249.45        </td> <td>0.22</td> <td>0.47</td> <td>0.23   </td> <td>0.04 </td> <td>0.04 </td> <td>POOR       </td> <td>117.241</td>\n",
       "        </tr>\n",
       "        <tr>\n",
       "            <td>300-400      </td> <td>335.66        </td> <td>0.23</td> <td>0.43</td> <td>0.18   </td> <td>0.045</td> <td>0.115</td> <td>FAIR       </td> <td>144.334</td>\n",
       "        </tr>\n",
       "        <tr>\n",
       "            <td>400-500      </td> <td>433.82        </td> <td>0.18</td> <td>0.37</td> <td>0.15   </td> <td>0.055</td> <td>0.245</td> <td>FAIR       </td> <td>160.513</td>\n",
       "        </tr>\n",
       "        <tr>\n",
       "            <td>500-750      </td> <td>547           </td> <td>0.13</td> <td>0.31</td> <td>0.17   </td> <td>0.05 </td> <td>0.34 </td> <td>COMFORTABLE</td> <td>169.57 </td>\n",
       "        </tr>\n",
       "        <tr>\n",
       "            <td>750-1000     </td> <td>880           </td> <td>0   </td> <td>0.37</td> <td>0.19   </td> <td>0.08 </td> <td>0.36 </td> <td>COMFORTABLE</td> <td>325.6  </td>\n",
       "        </tr>\n",
       "        <tr>\n",
       "            <td>1000 and over</td> <td>1125          </td> <td>0   </td> <td>0.29</td> <td>0.16   </td> <td>0.045</td> <td>0.505</td> <td>WELL-TO-DO </td> <td>326.25 </td>\n",
       "        </tr>\n",
       "    </tbody>\n",
       "</table>"
      ],
      "text/plain": [
       "CLASS         | ACTUAL AVERAGE | RENT | FOOD | CLOTHES | TAXES | OTHER | STATUS      | Food $\n",
       "100-200       | 139.1          | 0.19 | 0.43 | 0.28    | 0.001 | 0.099 | POOR        | 59.813\n",
       "200-300       | 249.45         | 0.22 | 0.47 | 0.23    | 0.04  | 0.04  | POOR        | 117.241\n",
       "300-400       | 335.66         | 0.23 | 0.43 | 0.18    | 0.045 | 0.115 | FAIR        | 144.334\n",
       "400-500       | 433.82         | 0.18 | 0.37 | 0.15    | 0.055 | 0.245 | FAIR        | 160.513\n",
       "500-750       | 547            | 0.13 | 0.31 | 0.17    | 0.05  | 0.34  | COMFORTABLE | 169.57\n",
       "750-1000      | 880            | 0    | 0.37 | 0.19    | 0.08  | 0.36  | COMFORTABLE | 325.6\n",
       "1000 and over | 1125           | 0    | 0.29 | 0.16    | 0.045 | 0.505 | WELL-TO-DO  | 326.25"
      ]
     },
     "execution_count": 70,
     "metadata": {},
     "output_type": "execute_result"
    }
   ],
   "source": [
    "food_dollars = du_bois.column('ACTUAL AVERAGE') * du_bois.column('FOOD')\n",
    "du_bois = du_bois.with_column(\n",
    "    'Food $',\n",
    "    food_dollars\n",
    ")\n",
    "du_bois"
   ]
  },
  {
   "cell_type": "code",
   "execution_count": 71,
   "metadata": {
    "slideshow": {
     "slide_type": "skip"
    }
   },
   "outputs": [
    {
     "data": {
      "text/html": [
       "<table border=\"1\" class=\"dataframe\">\n",
       "    <thead>\n",
       "        <tr>\n",
       "            <th>CLASS</th> <th>ACTUAL AVERAGE</th> <th>RENT</th> <th>FOOD</th> <th>CLOTHES</th> <th>TAXES</th> <th>OTHER</th> <th>STATUS</th> <th>Food $</th>\n",
       "        </tr>\n",
       "    </thead>\n",
       "    <tbody>\n",
       "        <tr>\n",
       "            <td>100-200      </td> <td>139.1         </td> <td>0.19</td> <td>43.00%</td> <td>0.28   </td> <td>0.001</td> <td>0.099</td> <td>POOR       </td> <td>59.813 </td>\n",
       "        </tr>\n",
       "        <tr>\n",
       "            <td>200-300      </td> <td>249.45        </td> <td>0.22</td> <td>47.00%</td> <td>0.23   </td> <td>0.04 </td> <td>0.04 </td> <td>POOR       </td> <td>117.241</td>\n",
       "        </tr>\n",
       "        <tr>\n",
       "            <td>300-400      </td> <td>335.66        </td> <td>0.23</td> <td>43.00%</td> <td>0.18   </td> <td>0.045</td> <td>0.115</td> <td>FAIR       </td> <td>144.334</td>\n",
       "        </tr>\n",
       "        <tr>\n",
       "            <td>400-500      </td> <td>433.82        </td> <td>0.18</td> <td>37.00%</td> <td>0.15   </td> <td>0.055</td> <td>0.245</td> <td>FAIR       </td> <td>160.513</td>\n",
       "        </tr>\n",
       "        <tr>\n",
       "            <td>500-750      </td> <td>547           </td> <td>0.13</td> <td>31.00%</td> <td>0.17   </td> <td>0.05 </td> <td>0.34 </td> <td>COMFORTABLE</td> <td>169.57 </td>\n",
       "        </tr>\n",
       "        <tr>\n",
       "            <td>750-1000     </td> <td>880           </td> <td>0   </td> <td>37.00%</td> <td>0.19   </td> <td>0.08 </td> <td>0.36 </td> <td>COMFORTABLE</td> <td>325.6  </td>\n",
       "        </tr>\n",
       "        <tr>\n",
       "            <td>1000 and over</td> <td>1125          </td> <td>0   </td> <td>29.00%</td> <td>0.16   </td> <td>0.045</td> <td>0.505</td> <td>WELL-TO-DO </td> <td>326.25 </td>\n",
       "        </tr>\n",
       "    </tbody>\n",
       "</table>"
      ],
      "text/plain": [
       "CLASS         | ACTUAL AVERAGE | RENT | FOOD   | CLOTHES | TAXES | OTHER | STATUS      | Food $\n",
       "100-200       | 139.1          | 0.19 | 43.00% | 0.28    | 0.001 | 0.099 | POOR        | 59.813\n",
       "200-300       | 249.45         | 0.22 | 47.00% | 0.23    | 0.04  | 0.04  | POOR        | 117.241\n",
       "300-400       | 335.66         | 0.23 | 43.00% | 0.18    | 0.045 | 0.115 | FAIR        | 144.334\n",
       "400-500       | 433.82         | 0.18 | 37.00% | 0.15    | 0.055 | 0.245 | FAIR        | 160.513\n",
       "500-750       | 547            | 0.13 | 31.00% | 0.17    | 0.05  | 0.34  | COMFORTABLE | 169.57\n",
       "750-1000      | 880            | 0    | 37.00% | 0.19    | 0.08  | 0.36  | COMFORTABLE | 325.6\n",
       "1000 and over | 1125           | 0    | 29.00% | 0.16    | 0.045 | 0.505 | WELL-TO-DO  | 326.25"
      ]
     },
     "execution_count": 71,
     "metadata": {},
     "output_type": "execute_result"
    }
   ],
   "source": [
    "du_bois.set_format('FOOD', PercentFormatter)"
   ]
  },
  {
   "cell_type": "code",
   "execution_count": 72,
   "metadata": {
    "slideshow": {
     "slide_type": "skip"
    }
   },
   "outputs": [
    {
     "data": {
      "text/html": [
       "<table border=\"1\" class=\"dataframe\">\n",
       "    <thead>\n",
       "        <tr>\n",
       "            <th>CLASS</th> <th>ACTUAL AVERAGE</th> <th>FOOD</th> <th>Food $</th>\n",
       "        </tr>\n",
       "    </thead>\n",
       "    <tbody>\n",
       "        <tr>\n",
       "            <td>100-200      </td> <td>139.1         </td> <td>43.00%</td> <td>59.813 </td>\n",
       "        </tr>\n",
       "        <tr>\n",
       "            <td>200-300      </td> <td>249.45        </td> <td>47.00%</td> <td>117.241</td>\n",
       "        </tr>\n",
       "        <tr>\n",
       "            <td>300-400      </td> <td>335.66        </td> <td>43.00%</td> <td>144.334</td>\n",
       "        </tr>\n",
       "        <tr>\n",
       "            <td>400-500      </td> <td>433.82        </td> <td>37.00%</td> <td>160.513</td>\n",
       "        </tr>\n",
       "        <tr>\n",
       "            <td>500-750      </td> <td>547           </td> <td>31.00%</td> <td>169.57 </td>\n",
       "        </tr>\n",
       "        <tr>\n",
       "            <td>750-1000     </td> <td>880           </td> <td>37.00%</td> <td>325.6  </td>\n",
       "        </tr>\n",
       "        <tr>\n",
       "            <td>1000 and over</td> <td>1125          </td> <td>29.00%</td> <td>326.25 </td>\n",
       "        </tr>\n",
       "    </tbody>\n",
       "</table>"
      ],
      "text/plain": [
       "CLASS         | ACTUAL AVERAGE | FOOD   | Food $\n",
       "100-200       | 139.1          | 43.00% | 59.813\n",
       "200-300       | 249.45         | 47.00% | 117.241\n",
       "300-400       | 335.66         | 43.00% | 144.334\n",
       "400-500       | 433.82         | 37.00% | 160.513\n",
       "500-750       | 547            | 31.00% | 169.57\n",
       "750-1000      | 880            | 37.00% | 325.6\n",
       "1000 and over | 1125           | 29.00% | 326.25"
      ]
     },
     "execution_count": 72,
     "metadata": {},
     "output_type": "execute_result"
    }
   ],
   "source": [
    "du_bois.select('CLASS', 'ACTUAL AVERAGE', 'FOOD', 'Food $')"
   ]
  },
  {
   "cell_type": "code",
   "execution_count": 73,
   "metadata": {
    "slideshow": {
     "slide_type": "skip"
    }
   },
   "outputs": [
    {
     "data": {
      "text/plain": [
       "array([0.43, 0.47, 0.43, 0.37, 0.31, 0.37, 0.29])"
      ]
     },
     "execution_count": 73,
     "metadata": {},
     "output_type": "execute_result"
    }
   ],
   "source": [
    "du_bois.column('FOOD')"
   ]
  },
  {
   "cell_type": "code",
   "execution_count": 74,
   "metadata": {
    "slideshow": {
     "slide_type": "skip"
    }
   },
   "outputs": [
    {
     "data": {
      "text/html": [
       "<table border=\"1\" class=\"dataframe\">\n",
       "    <thead>\n",
       "        <tr>\n",
       "            <th>CLASS</th> <th>ACTUAL AVERAGE</th> <th>RENT</th> <th>FOOD</th> <th>CLOTHES</th> <th>TAXES</th> <th>OTHER</th> <th>STATUS</th> <th>Food $</th> <th>Percentage on Rent</th>\n",
       "        </tr>\n",
       "    </thead>\n",
       "    <tbody>\n",
       "        <tr>\n",
       "            <td>300-400      </td> <td>335.66        </td> <td>0.23</td> <td>43.00%</td> <td>0.18   </td> <td>0.045</td> <td>0.115</td> <td>FAIR       </td> <td>144.334</td> <td>23                </td>\n",
       "        </tr>\n",
       "        <tr>\n",
       "            <td>200-300      </td> <td>249.45        </td> <td>0.22</td> <td>47.00%</td> <td>0.23   </td> <td>0.04 </td> <td>0.04 </td> <td>POOR       </td> <td>117.241</td> <td>22                </td>\n",
       "        </tr>\n",
       "        <tr>\n",
       "            <td>100-200      </td> <td>139.1         </td> <td>0.19</td> <td>43.00%</td> <td>0.28   </td> <td>0.001</td> <td>0.099</td> <td>POOR       </td> <td>59.813 </td> <td>19                </td>\n",
       "        </tr>\n",
       "        <tr>\n",
       "            <td>400-500      </td> <td>433.82        </td> <td>0.18</td> <td>37.00%</td> <td>0.15   </td> <td>0.055</td> <td>0.245</td> <td>FAIR       </td> <td>160.513</td> <td>18                </td>\n",
       "        </tr>\n",
       "        <tr>\n",
       "            <td>500-750      </td> <td>547           </td> <td>0.13</td> <td>31.00%</td> <td>0.17   </td> <td>0.05 </td> <td>0.34 </td> <td>COMFORTABLE</td> <td>169.57 </td> <td>13                </td>\n",
       "        </tr>\n",
       "        <tr>\n",
       "            <td>750-1000     </td> <td>880           </td> <td>0   </td> <td>37.00%</td> <td>0.19   </td> <td>0.08 </td> <td>0.36 </td> <td>COMFORTABLE</td> <td>325.6  </td> <td>0                 </td>\n",
       "        </tr>\n",
       "        <tr>\n",
       "            <td>1000 and over</td> <td>1125          </td> <td>0   </td> <td>29.00%</td> <td>0.16   </td> <td>0.045</td> <td>0.505</td> <td>WELL-TO-DO </td> <td>326.25 </td> <td>0                 </td>\n",
       "        </tr>\n",
       "    </tbody>\n",
       "</table>"
      ],
      "text/plain": [
       "CLASS         | ACTUAL AVERAGE | RENT | FOOD   | CLOTHES | TAXES | OTHER | STATUS      | Food $  | Percentage on Rent\n",
       "300-400       | 335.66         | 0.23 | 43.00% | 0.18    | 0.045 | 0.115 | FAIR        | 144.334 | 23\n",
       "200-300       | 249.45         | 0.22 | 47.00% | 0.23    | 0.04  | 0.04  | POOR        | 117.241 | 22\n",
       "100-200       | 139.1          | 0.19 | 43.00% | 0.28    | 0.001 | 0.099 | POOR        | 59.813  | 19\n",
       "400-500       | 433.82         | 0.18 | 37.00% | 0.15    | 0.055 | 0.245 | FAIR        | 160.513 | 18\n",
       "500-750       | 547            | 0.13 | 31.00% | 0.17    | 0.05  | 0.34  | COMFORTABLE | 169.57  | 13\n",
       "750-1000      | 880            | 0    | 37.00% | 0.19    | 0.08  | 0.36  | COMFORTABLE | 325.6   | 0\n",
       "1000 and over | 1125           | 0    | 29.00% | 0.16    | 0.045 | 0.505 | WELL-TO-DO  | 326.25  | 0"
      ]
     },
     "execution_count": 74,
     "metadata": {},
     "output_type": "execute_result"
    }
   ],
   "source": [
    "# Which group (\"CLASS\") spent the highest percentage on rent?\n",
    "du_bois.with_column('Percentage on Rent', du_bois.column('RENT')*100).sort('Percentage on Rent', descending=True)"
   ]
  },
  {
   "cell_type": "markdown",
   "metadata": {
    "slideshow": {
     "slide_type": "skip"
    }
   },
   "source": [
    "## Selecting data in a column ##"
   ]
  },
  {
   "cell_type": "code",
   "execution_count": 75,
   "metadata": {
    "scrolled": true,
    "slideshow": {
     "slide_type": "skip"
    }
   },
   "outputs": [
    {
     "data": {
      "text/html": [
       "<table border=\"1\" class=\"dataframe\">\n",
       "    <thead>\n",
       "        <tr>\n",
       "            <th>Year</th> <th>Average Ticket Price</th> <th>Total Gross</th> <th>Number of Movies</th> <th>#1 Movie</th>\n",
       "        </tr>\n",
       "    </thead>\n",
       "    <tbody>\n",
       "        <tr>\n",
       "            <td>2019</td> <td>9.16                </td> <td>11237.9    </td> <td>788             </td> <td>Avengers: Endgame                             </td>\n",
       "        </tr>\n",
       "        <tr>\n",
       "            <td>2018</td> <td>9.11                </td> <td>11611.3    </td> <td>878             </td> <td>Black Panther                                 </td>\n",
       "        </tr>\n",
       "        <tr>\n",
       "            <td>2017</td> <td>8.97                </td> <td>11125.4    </td> <td>740             </td> <td>Star Wars: Episode VIII - The Last Jedi       </td>\n",
       "        </tr>\n",
       "        <tr>\n",
       "            <td>2016</td> <td>8.65                </td> <td>11373.7    </td> <td>737             </td> <td>Rogue One: A Star Wars Story                  </td>\n",
       "        </tr>\n",
       "        <tr>\n",
       "            <td>2015</td> <td>8.43                </td> <td>11098.8    </td> <td>706             </td> <td>Star Wars: Episode VII - The Force Awakens    </td>\n",
       "        </tr>\n",
       "        <tr>\n",
       "            <td>2014</td> <td>8.17                </td> <td>10436.8    </td> <td>708             </td> <td>American Sniper                               </td>\n",
       "        </tr>\n",
       "        <tr>\n",
       "            <td>2013</td> <td>8.13                </td> <td>10955.9    </td> <td>689             </td> <td>The Hunger Games: Catching Fire               </td>\n",
       "        </tr>\n",
       "        <tr>\n",
       "            <td>2012</td> <td>7.96                </td> <td>10959.6    </td> <td>669             </td> <td>The Avengers                                  </td>\n",
       "        </tr>\n",
       "        <tr>\n",
       "            <td>2011</td> <td>7.93                </td> <td>10114.1    </td> <td>601             </td> <td>Harry Potter and the Deathly Hallows: Part 2  </td>\n",
       "        </tr>\n",
       "        <tr>\n",
       "            <td>2010</td> <td>7.89                </td> <td>10212.7    </td> <td>538             </td> <td>Toy Story 3                                   </td>\n",
       "        </tr>\n",
       "        <tr>\n",
       "            <td>2009</td> <td>7.5                 </td> <td>10821.6    </td> <td>520             </td> <td>Avatar                                        </td>\n",
       "        </tr>\n",
       "        <tr>\n",
       "            <td>2008</td> <td>7.18                </td> <td>9698.2     </td> <td>607             </td> <td>The Dark Knight                               </td>\n",
       "        </tr>\n",
       "        <tr>\n",
       "            <td>2007</td> <td>6.88                </td> <td>9690.7     </td> <td>632             </td> <td>Spider-Man 3                                  </td>\n",
       "        </tr>\n",
       "        <tr>\n",
       "            <td>2006</td> <td>6.55                </td> <td>9214.6     </td> <td>608             </td> <td>Pirates of the Caribbean: Dead Man's Chest    </td>\n",
       "        </tr>\n",
       "        <tr>\n",
       "            <td>2005</td> <td>6.41                </td> <td>8804.7     </td> <td>547             </td> <td>Star Wars: Episode III - Revenge of the Sith  </td>\n",
       "        </tr>\n",
       "        <tr>\n",
       "            <td>2004</td> <td>6.21                </td> <td>9321.7     </td> <td>551             </td> <td>Shrek 2                                       </td>\n",
       "        </tr>\n",
       "        <tr>\n",
       "            <td>2003</td> <td>6.03                </td> <td>9057.5     </td> <td>506             </td> <td>The Lord of the Rings: The Return of the King </td>\n",
       "        </tr>\n",
       "        <tr>\n",
       "            <td>2002</td> <td>5.8                 </td> <td>9206.4     </td> <td>480             </td> <td>Spider-Man                                    </td>\n",
       "        </tr>\n",
       "        <tr>\n",
       "            <td>2001</td> <td>5.65                </td> <td>8070       </td> <td>356             </td> <td>Harry Potter and the Sorcerer's Stone         </td>\n",
       "        </tr>\n",
       "        <tr>\n",
       "            <td>2000</td> <td>5.39                </td> <td>7678.3     </td> <td>371             </td> <td>How the Grinch Stole Christmas                </td>\n",
       "        </tr>\n",
       "        <tr>\n",
       "            <td>1999</td> <td>5.06                </td> <td>7316.7     </td> <td>385             </td> <td>Star Wars: Episode I - The Phantom Menace     </td>\n",
       "        </tr>\n",
       "        <tr>\n",
       "            <td>1998</td> <td>4.69                </td> <td>6575.8     </td> <td>336             </td> <td>Saving Private Ryan                           </td>\n",
       "        </tr>\n",
       "        <tr>\n",
       "            <td>1997</td> <td>4.59                </td> <td>6671.8     </td> <td>303             </td> <td>Titanic                                       </td>\n",
       "        </tr>\n",
       "        <tr>\n",
       "            <td>1996</td> <td>4.42                </td> <td>5706.7     </td> <td>310             </td> <td>Independence Day                              </td>\n",
       "        </tr>\n",
       "        <tr>\n",
       "            <td>1995</td> <td>4.35                </td> <td>5383.5     </td> <td>279             </td> <td>Toy Story                                     </td>\n",
       "        </tr>\n",
       "        <tr>\n",
       "            <td>1994</td> <td>4.08                </td> <td>5079.2     </td> <td>254             </td> <td>Forrest Gump                                  </td>\n",
       "        </tr>\n",
       "        <tr>\n",
       "            <td>1993</td> <td>4.14                </td> <td>4983.2     </td> <td>258             </td> <td>Jurassic Park                                 </td>\n",
       "        </tr>\n",
       "        <tr>\n",
       "            <td>1992</td> <td>4.15                </td> <td>4603.9     </td> <td>234             </td> <td>Aladdin                                       </td>\n",
       "        </tr>\n",
       "        <tr>\n",
       "            <td>1991</td> <td>4.21                </td> <td>4313.9     </td> <td>244             </td> <td>Terminator 2: Judgment Day                    </td>\n",
       "        </tr>\n",
       "        <tr>\n",
       "            <td>1990</td> <td>4.22                </td> <td>4527       </td> <td>224             </td> <td>Home Alone                                    </td>\n",
       "        </tr>\n",
       "        <tr>\n",
       "            <td>1989</td> <td>3.99                </td> <td>4155.4     </td> <td>236             </td> <td>Batman                                        </td>\n",
       "        </tr>\n",
       "        <tr>\n",
       "            <td>1988</td> <td>4.11                </td> <td>3565.8     </td> <td>248             </td> <td>Rain Man                                      </td>\n",
       "        </tr>\n",
       "        <tr>\n",
       "            <td>1987</td> <td>3.91                </td> <td>3562.9     </td> <td>232             </td> <td>Three Men and a Baby                          </td>\n",
       "        </tr>\n",
       "        <tr>\n",
       "            <td>1986</td> <td>3.71                </td> <td>3200.5     </td> <td>207             </td> <td>Top Gun                                       </td>\n",
       "        </tr>\n",
       "        <tr>\n",
       "            <td>1985</td> <td>3.55                </td> <td>3056.4     </td> <td>180             </td> <td>Back to the Future                            </td>\n",
       "        </tr>\n",
       "        <tr>\n",
       "            <td>1984</td> <td>3.36                </td> <td>3347.7     </td> <td>165             </td> <td>Beverly Hills Cop                             </td>\n",
       "        </tr>\n",
       "        <tr>\n",
       "            <td>1983</td> <td>3.15                </td> <td>2652.9     </td> <td>158             </td> <td>Star Wars: Episode VI - Return of the Jedi    </td>\n",
       "        </tr>\n",
       "        <tr>\n",
       "            <td>1982</td> <td>2.94                </td> <td>2866.2     </td> <td>131             </td> <td>E.T. the Extra-Terrestrial                    </td>\n",
       "        </tr>\n",
       "        <tr>\n",
       "            <td>1981</td> <td>2.78                </td> <td>2281.9     </td> <td>112             </td> <td>Raiders of the Lost Ark                       </td>\n",
       "        </tr>\n",
       "        <tr>\n",
       "            <td>1980</td> <td>2.69                </td> <td>2299       </td> <td>115             </td> <td>Star Wars: Episode V - The Empire Strikes Back</td>\n",
       "        </tr>\n",
       "        <tr>\n",
       "            <td>1979</td> <td>2.47                </td> <td>1957.5     </td> <td>83              </td> <td>Kramer vs. Kramer                             </td>\n",
       "        </tr>\n",
       "        <tr>\n",
       "            <td>1978</td> <td>2.34                </td> <td>1552.3     </td> <td>55              </td> <td>Grease                                        </td>\n",
       "        </tr>\n",
       "        <tr>\n",
       "            <td>1977</td> <td>2.23                </td> <td>1373.1     </td> <td>35              </td> <td>Star Wars: Episode IV - A New Hope            </td>\n",
       "        </tr>\n",
       "    </tbody>\n",
       "</table>"
      ],
      "text/plain": [
       "<IPython.core.display.HTML object>"
      ]
     },
     "metadata": {},
     "output_type": "display_data"
    }
   ],
   "source": [
    "movies = Table.read_table('movies_by_year_with_ticket_price.csv')\n",
    "movies.show()"
   ]
  },
  {
   "cell_type": "code",
   "execution_count": 77,
   "metadata": {
    "slideshow": {
     "slide_type": "skip"
    }
   },
   "outputs": [
    {
     "data": {
      "text/plain": [
       "array([1.22684498e+09, 1.27456641e+09, 1.24028986e+09, 1.31487861e+09,\n",
       "       1.31658363e+09, 1.27745410e+09, 1.34758918e+09, 1.37683417e+09,\n",
       "       1.27542245e+09, 1.29438530e+09, 1.44288000e+09, 1.35072423e+09,\n",
       "       1.40853198e+09, 1.40680916e+09, 1.37358814e+09, 1.50107890e+09,\n",
       "       1.50207297e+09, 1.58731034e+09, 1.42831858e+09, 1.42454545e+09,\n",
       "       1.44598814e+09, 1.40208955e+09, 1.45355120e+09, 1.29110860e+09,\n",
       "       1.23758621e+09, 1.24490196e+09, 1.20367150e+09, 1.10937349e+09,\n",
       "       1.02467933e+09, 1.07274882e+09, 1.04145363e+09, 8.67591241e+08,\n",
       "       9.11227621e+08, 8.62668464e+08, 8.60957746e+08, 9.96339286e+08,\n",
       "       8.42190476e+08, 9.74897959e+08, 8.20827338e+08, 8.54646840e+08,\n",
       "       7.92510121e+08, 6.63376068e+08, 6.15739910e+08])"
      ]
     },
     "execution_count": 77,
     "metadata": {},
     "output_type": "execute_result"
    }
   ],
   "source": [
    "gross_in_dollars = movies.column('Total Gross') * 1e6\n",
    "tix_sold = gross_in_dollars / movies.column('Average Ticket Price')\n",
    "tix_sold"
   ]
  },
  {
   "cell_type": "code",
   "execution_count": 78,
   "metadata": {
    "slideshow": {
     "slide_type": "skip"
    }
   },
   "outputs": [],
   "source": [
    "movies = movies.with_column('Tickets sold', tix_sold)"
   ]
  },
  {
   "cell_type": "code",
   "execution_count": 79,
   "metadata": {
    "slideshow": {
     "slide_type": "skip"
    }
   },
   "outputs": [
    {
     "data": {
      "text/html": [
       "<table border=\"1\" class=\"dataframe\">\n",
       "    <thead>\n",
       "        <tr>\n",
       "            <th>Year</th> <th>Average Ticket Price</th> <th>Total Gross</th> <th>Number of Movies</th> <th>#1 Movie</th> <th>Tickets sold</th>\n",
       "        </tr>\n",
       "    </thead>\n",
       "    <tbody>\n",
       "        <tr>\n",
       "            <td>2002</td> <td>5.8                 </td> <td>9206.4     </td> <td>480             </td> <td>Spider-Man                                   </td> <td>1.58731e+09 </td>\n",
       "        </tr>\n",
       "        <tr>\n",
       "            <td>2003</td> <td>6.03                </td> <td>9057.5     </td> <td>506             </td> <td>The Lord of the Rings: The Return of the King</td> <td>1.50207e+09 </td>\n",
       "        </tr>\n",
       "        <tr>\n",
       "            <td>2004</td> <td>6.21                </td> <td>9321.7     </td> <td>551             </td> <td>Shrek 2                                      </td> <td>1.50108e+09 </td>\n",
       "        </tr>\n",
       "        <tr>\n",
       "            <td>1997</td> <td>4.59                </td> <td>6671.8     </td> <td>303             </td> <td>Titanic                                      </td> <td>1.45355e+09 </td>\n",
       "        </tr>\n",
       "        <tr>\n",
       "            <td>1999</td> <td>5.06                </td> <td>7316.7     </td> <td>385             </td> <td>Star Wars: Episode I - The Phantom Menace    </td> <td>1.44599e+09 </td>\n",
       "        </tr>\n",
       "        <tr>\n",
       "            <td>2009</td> <td>7.5                 </td> <td>10821.6    </td> <td>520             </td> <td>Avatar                                       </td> <td>1.44288e+09 </td>\n",
       "        </tr>\n",
       "        <tr>\n",
       "            <td>2001</td> <td>5.65                </td> <td>8070       </td> <td>356             </td> <td>Harry Potter and the Sorcerer's Stone        </td> <td>1.42832e+09 </td>\n",
       "        </tr>\n",
       "        <tr>\n",
       "            <td>2000</td> <td>5.39                </td> <td>7678.3     </td> <td>371             </td> <td>How the Grinch Stole Christmas               </td> <td>1.42455e+09 </td>\n",
       "        </tr>\n",
       "        <tr>\n",
       "            <td>2007</td> <td>6.88                </td> <td>9690.7     </td> <td>632             </td> <td>Spider-Man 3                                 </td> <td>1.40853e+09 </td>\n",
       "        </tr>\n",
       "        <tr>\n",
       "            <td>2006</td> <td>6.55                </td> <td>9214.6     </td> <td>608             </td> <td>Pirates of the Caribbean: Dead Man's Chest   </td> <td>1.40681e+09 </td>\n",
       "        </tr>\n",
       "    </tbody>\n",
       "</table>\n",
       "<p>... (33 rows omitted)</p>"
      ],
      "text/plain": [
       "Year | Average Ticket Price | Total Gross | Number of Movies | #1 Movie                                      | Tickets sold\n",
       "2002 | 5.8                  | 9206.4      | 480              | Spider-Man                                    | 1.58731e+09\n",
       "2003 | 6.03                 | 9057.5      | 506              | The Lord of the Rings: The Return of the King | 1.50207e+09\n",
       "2004 | 6.21                 | 9321.7      | 551              | Shrek 2                                       | 1.50108e+09\n",
       "1997 | 4.59                 | 6671.8      | 303              | Titanic                                       | 1.45355e+09\n",
       "1999 | 5.06                 | 7316.7      | 385              | Star Wars: Episode I - The Phantom Menace     | 1.44599e+09\n",
       "2009 | 7.5                  | 10821.6     | 520              | Avatar                                        | 1.44288e+09\n",
       "2001 | 5.65                 | 8070        | 356              | Harry Potter and the Sorcerer's Stone         | 1.42832e+09\n",
       "2000 | 5.39                 | 7678.3      | 371              | How the Grinch Stole Christmas                | 1.42455e+09\n",
       "2007 | 6.88                 | 9690.7      | 632              | Spider-Man 3                                  | 1.40853e+09\n",
       "2006 | 6.55                 | 9214.6      | 608              | Pirates of the Caribbean: Dead Man's Chest    | 1.40681e+09\n",
       "... (33 rows omitted)"
      ]
     },
     "execution_count": 79,
     "metadata": {},
     "output_type": "execute_result"
    }
   ],
   "source": [
    "movies.sort('Tickets sold', descending = True)"
   ]
  },
  {
   "cell_type": "code",
   "execution_count": 80,
   "metadata": {
    "slideshow": {
     "slide_type": "skip"
    }
   },
   "outputs": [
    {
     "data": {
      "text/html": [
       "<table border=\"1\" class=\"dataframe\">\n",
       "    <thead>\n",
       "        <tr>\n",
       "            <th>Year</th> <th>Average Ticket Price</th> <th>Total Gross</th> <th>Number of Movies</th> <th>#1 Movie</th> <th>Tickets sold</th>\n",
       "        </tr>\n",
       "    </thead>\n",
       "    <tbody>\n",
       "        <tr>\n",
       "            <td>2019</td> <td>9.16                </td> <td>11237.9    </td> <td>788             </td> <td>Avengers: Endgame                           </td> <td>1,226,844,978.17</td>\n",
       "        </tr>\n",
       "        <tr>\n",
       "            <td>2018</td> <td>9.11                </td> <td>11611.3    </td> <td>878             </td> <td>Black Panther                               </td> <td>1,274,566,410.54</td>\n",
       "        </tr>\n",
       "        <tr>\n",
       "            <td>2017</td> <td>8.97                </td> <td>11125.4    </td> <td>740             </td> <td>Star Wars: Episode VIII - The Last Jedi     </td> <td>1,240,289,855.07</td>\n",
       "        </tr>\n",
       "        <tr>\n",
       "            <td>2016</td> <td>8.65                </td> <td>11373.7    </td> <td>737             </td> <td>Rogue One: A Star Wars Story                </td> <td>1,314,878,612.72</td>\n",
       "        </tr>\n",
       "        <tr>\n",
       "            <td>2015</td> <td>8.43                </td> <td>11098.8    </td> <td>706             </td> <td>Star Wars: Episode VII - The Force Awakens  </td> <td>1,316,583,629.89</td>\n",
       "        </tr>\n",
       "        <tr>\n",
       "            <td>2014</td> <td>8.17                </td> <td>10436.8    </td> <td>708             </td> <td>American Sniper                             </td> <td>1,277,454,100.37</td>\n",
       "        </tr>\n",
       "        <tr>\n",
       "            <td>2013</td> <td>8.13                </td> <td>10955.9    </td> <td>689             </td> <td>The Hunger Games: Catching Fire             </td> <td>1,347,589,175.89</td>\n",
       "        </tr>\n",
       "        <tr>\n",
       "            <td>2012</td> <td>7.96                </td> <td>10959.6    </td> <td>669             </td> <td>The Avengers                                </td> <td>1,376,834,170.85</td>\n",
       "        </tr>\n",
       "        <tr>\n",
       "            <td>2011</td> <td>7.93                </td> <td>10114.1    </td> <td>601             </td> <td>Harry Potter and the Deathly Hallows: Part 2</td> <td>1,275,422,446.41</td>\n",
       "        </tr>\n",
       "        <tr>\n",
       "            <td>2010</td> <td>7.89                </td> <td>10212.7    </td> <td>538             </td> <td>Toy Story 3                                 </td> <td>1,294,385,297.85</td>\n",
       "        </tr>\n",
       "    </tbody>\n",
       "</table>\n",
       "<p>... (33 rows omitted)</p>"
      ],
      "text/plain": [
       "Year | Average Ticket Price | Total Gross | Number of Movies | #1 Movie                                     | Tickets sold\n",
       "2019 | 9.16                 | 11237.9     | 788              | Avengers: Endgame                            | 1,226,844,978.17\n",
       "2018 | 9.11                 | 11611.3     | 878              | Black Panther                                | 1,274,566,410.54\n",
       "2017 | 8.97                 | 11125.4     | 740              | Star Wars: Episode VIII - The Last Jedi      | 1,240,289,855.07\n",
       "2016 | 8.65                 | 11373.7     | 737              | Rogue One: A Star Wars Story                 | 1,314,878,612.72\n",
       "2015 | 8.43                 | 11098.8     | 706              | Star Wars: Episode VII - The Force Awakens   | 1,316,583,629.89\n",
       "2014 | 8.17                 | 10436.8     | 708              | American Sniper                              | 1,277,454,100.37\n",
       "2013 | 8.13                 | 10955.9     | 689              | The Hunger Games: Catching Fire              | 1,347,589,175.89\n",
       "2012 | 7.96                 | 10959.6     | 669              | The Avengers                                 | 1,376,834,170.85\n",
       "2011 | 7.93                 | 10114.1     | 601              | Harry Potter and the Deathly Hallows: Part 2 | 1,275,422,446.41\n",
       "2010 | 7.89                 | 10212.7     | 538              | Toy Story 3                                  | 1,294,385,297.85\n",
       "... (33 rows omitted)"
      ]
     },
     "execution_count": 80,
     "metadata": {},
     "output_type": "execute_result"
    }
   ],
   "source": [
    "movies.set_format('Tickets sold', NumberFormatter)"
   ]
  },
  {
   "cell_type": "code",
   "execution_count": 81,
   "metadata": {
    "slideshow": {
     "slide_type": "skip"
    }
   },
   "outputs": [
    {
     "data": {
      "image/png": "[encoded data removed]",
      "text/plain": [
       "<Figure size 432x432 with 1 Axes>"
      ]
     },
     "metadata": {},
     "output_type": "display_data"
    }
   ],
   "source": [
    "movies.plot('Year', 'Number of Movies')"
   ]
  },
  {
   "cell_type": "code",
   "execution_count": 82,
   "metadata": {
    "slideshow": {
     "slide_type": "skip"
    }
   },
   "outputs": [
    {
     "data": {
      "text/html": [
       "<table border=\"1\" class=\"dataframe\">\n",
       "    <thead>\n",
       "        <tr>\n",
       "            <th>Year</th> <th>Average Ticket Price</th> <th>Total Gross</th> <th>Number of Movies</th> <th>#1 Movie</th> <th>Tickets sold</th>\n",
       "        </tr>\n",
       "    </thead>\n",
       "    <tbody>\n",
       "        <tr>\n",
       "            <td>2004</td> <td>6.21                </td> <td>9321.7     </td> <td>551             </td> <td>Shrek 2                                      </td> <td>1,501,078,904.99</td>\n",
       "        </tr>\n",
       "        <tr>\n",
       "            <td>2003</td> <td>6.03                </td> <td>9057.5     </td> <td>506             </td> <td>The Lord of the Rings: The Return of the King</td> <td>1,502,072,968.49</td>\n",
       "        </tr>\n",
       "        <tr>\n",
       "            <td>2002</td> <td>5.8                 </td> <td>9206.4     </td> <td>480             </td> <td>Spider-Man                                   </td> <td>1,587,310,344.83</td>\n",
       "        </tr>\n",
       "        <tr>\n",
       "            <td>2001</td> <td>5.65                </td> <td>8070       </td> <td>356             </td> <td>Harry Potter and the Sorcerer's Stone        </td> <td>1,428,318,584.07</td>\n",
       "        </tr>\n",
       "        <tr>\n",
       "            <td>2000</td> <td>5.39                </td> <td>7678.3     </td> <td>371             </td> <td>How the Grinch Stole Christmas               </td> <td>1,424,545,454.55</td>\n",
       "        </tr>\n",
       "    </tbody>\n",
       "</table>"
      ],
      "text/plain": [
       "Year | Average Ticket Price | Total Gross | Number of Movies | #1 Movie                                      | Tickets sold\n",
       "2004 | 6.21                 | 9321.7      | 551              | Shrek 2                                       | 1,501,078,904.99\n",
       "2003 | 6.03                 | 9057.5      | 506              | The Lord of the Rings: The Return of the King | 1,502,072,968.49\n",
       "2002 | 5.8                  | 9206.4      | 480              | Spider-Man                                    | 1,587,310,344.83\n",
       "2001 | 5.65                 | 8070        | 356              | Harry Potter and the Sorcerer's Stone         | 1,428,318,584.07\n",
       "2000 | 5.39                 | 7678.3      | 371              | How the Grinch Stole Christmas                | 1,424,545,454.55"
      ]
     },
     "execution_count": 82,
     "metadata": {},
     "output_type": "execute_result"
    }
   ],
   "source": [
    "movies.where('Year', are.between(2000, 2005))"
   ]
  },
  {
   "cell_type": "code",
   "execution_count": 83,
   "metadata": {
    "slideshow": {
     "slide_type": "skip"
    }
   },
   "outputs": [
    {
     "data": {
      "text/html": [
       "<table border=\"1\" class=\"dataframe\">\n",
       "    <thead>\n",
       "        <tr>\n",
       "            <th>Year</th> <th>Average Ticket Price</th> <th>Total Gross</th> <th>Number of Movies</th> <th>#1 Movie</th> <th>Tickets sold</th>\n",
       "        </tr>\n",
       "    </thead>\n",
       "    <tbody>\n",
       "        <tr>\n",
       "            <td>2002</td> <td>5.8                 </td> <td>9206.4     </td> <td>480             </td> <td>Spider-Man</td> <td>1,587,310,344.83</td>\n",
       "        </tr>\n",
       "    </tbody>\n",
       "</table>"
      ],
      "text/plain": [
       "Year | Average Ticket Price | Total Gross | Number of Movies | #1 Movie   | Tickets sold\n",
       "2002 | 5.8                  | 9206.4      | 480              | Spider-Man | 1,587,310,344.83"
      ]
     },
     "execution_count": 83,
     "metadata": {},
     "output_type": "execute_result"
    }
   ],
   "source": [
    "movies.where('Year', 2002)"
   ]
  },
  {
   "cell_type": "code",
   "execution_count": 84,
   "metadata": {
    "slideshow": {
     "slide_type": "skip"
    }
   },
   "outputs": [
    {
     "data": {
      "text/html": [
       "<table border=\"1\" class=\"dataframe\">\n",
       "    <thead>\n",
       "        <tr>\n",
       "            <th>Year</th> <th>Average Ticket Price</th> <th>Total Gross</th> <th>Number of Movies</th> <th>#1 Movie</th> <th>Tickets sold</th>\n",
       "        </tr>\n",
       "    </thead>\n",
       "    <tbody>\n",
       "        <tr>\n",
       "            <td>2002</td> <td>5.8                 </td> <td>9206.4     </td> <td>480             </td> <td>Spider-Man</td> <td>1,587,310,344.83</td>\n",
       "        </tr>\n",
       "    </tbody>\n",
       "</table>"
      ],
      "text/plain": [
       "Year | Average Ticket Price | Total Gross | Number of Movies | #1 Movie   | Tickets sold\n",
       "2002 | 5.8                  | 9206.4      | 480              | Spider-Man | 1,587,310,344.83"
      ]
     },
     "execution_count": 84,
     "metadata": {},
     "output_type": "execute_result"
    }
   ],
   "source": [
    "movies.where('Year', are.equal_to(2002))"
   ]
  },
  {
   "cell_type": "code",
   "execution_count": 85,
   "metadata": {
    "slideshow": {
     "slide_type": "skip"
    }
   },
   "outputs": [
    {
     "data": {
      "text/html": [
       "<table border=\"1\" class=\"dataframe\">\n",
       "    <thead>\n",
       "        <tr>\n",
       "            <th>Year</th> <th>Average Ticket Price</th> <th>Total Gross</th> <th>Number of Movies</th> <th>#1 Movie</th> <th>Tickets sold</th>\n",
       "        </tr>\n",
       "    </thead>\n",
       "    <tbody>\n",
       "        <tr>\n",
       "            <td>2011</td> <td>7.93                </td> <td>10114.1    </td> <td>601             </td> <td>Harry Potter and the Deathly Hallows: Part 2</td> <td>1,275,422,446.41</td>\n",
       "        </tr>\n",
       "        <tr>\n",
       "            <td>2001</td> <td>5.65                </td> <td>8070       </td> <td>356             </td> <td>Harry Potter and the Sorcerer's Stone       </td> <td>1,428,318,584.07</td>\n",
       "        </tr>\n",
       "    </tbody>\n",
       "</table>"
      ],
      "text/plain": [
       "Year | Average Ticket Price | Total Gross | Number of Movies | #1 Movie                                     | Tickets sold\n",
       "2011 | 7.93                 | 10114.1     | 601              | Harry Potter and the Deathly Hallows: Part 2 | 1,275,422,446.41\n",
       "2001 | 5.65                 | 8070        | 356              | Harry Potter and the Sorcerer's Stone        | 1,428,318,584.07"
      ]
     },
     "execution_count": 85,
     "metadata": {},
     "output_type": "execute_result"
    }
   ],
   "source": [
    "movies.where('#1 Movie', are.containing('Harry Potter'))"
   ]
  },
  {
   "cell_type": "code",
   "execution_count": 86,
   "metadata": {
    "slideshow": {
     "slide_type": "skip"
    }
   },
   "outputs": [
    {
     "data": {
      "text/html": [
       "<table border=\"1\" class=\"dataframe\">\n",
       "    <thead>\n",
       "        <tr>\n",
       "            <th>Year</th> <th>Average Ticket Price</th> <th>Total Gross</th> <th>Number of Movies</th> <th>#1 Movie</th> <th>Tickets sold</th>\n",
       "        </tr>\n",
       "    </thead>\n",
       "    <tbody>\n",
       "        <tr>\n",
       "            <td>2017</td> <td>8.97                </td> <td>11125.4    </td> <td>740             </td> <td>Star Wars: Episode VIII - The Last Jedi   </td> <td>1,240,289,855.07</td>\n",
       "        </tr>\n",
       "        <tr>\n",
       "            <td>2016</td> <td>8.65                </td> <td>11373.7    </td> <td>737             </td> <td>Rogue One: A Star Wars Story              </td> <td>1,314,878,612.72</td>\n",
       "        </tr>\n",
       "        <tr>\n",
       "            <td>2015</td> <td>8.43                </td> <td>11098.8    </td> <td>706             </td> <td>Star Wars: Episode VII - The Force Awakens</td> <td>1,316,583,629.89</td>\n",
       "        </tr>\n",
       "    </tbody>\n",
       "</table>"
      ],
      "text/plain": [
       "Year | Average Ticket Price | Total Gross | Number of Movies | #1 Movie                                   | Tickets sold\n",
       "2017 | 8.97                 | 11125.4     | 740              | Star Wars: Episode VIII - The Last Jedi    | 1,240,289,855.07\n",
       "2016 | 8.65                 | 11373.7     | 737              | Rogue One: A Star Wars Story               | 1,314,878,612.72\n",
       "2015 | 8.43                 | 11098.8     | 706              | Star Wars: Episode VII - The Force Awakens | 1,316,583,629.89"
      ]
     },
     "execution_count": 86,
     "metadata": {},
     "output_type": "execute_result"
    }
   ],
   "source": [
    "movies.take([2,3,4])"
   ]
  },
  {
   "cell_type": "code",
   "execution_count": null,
   "metadata": {
    "slideshow": {
     "slide_type": "skip"
    }
   },
   "outputs": [],
   "source": []
  }
 ],
 "metadata": {
  "anaconda-cloud": {},
  "kernelspec": {
   "display_name": "Python 3 (ipykernel)",
   "language": "python",
   "name": "python3"
  },
  "language_info": {
   "codemirror_mode": {
    "name": "ipython",
    "version": 3
   },
   "file_extension": ".py",
   "mimetype": "text/x-python",
   "name": "python",
   "nbconvert_exporter": "python",
   "pygments_lexer": "ipython3",
   "version": "3.7.1"
  }
 },
 "nbformat": 4,
 "nbformat_minor": 1
}
