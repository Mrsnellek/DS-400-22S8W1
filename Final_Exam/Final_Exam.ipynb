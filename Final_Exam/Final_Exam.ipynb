{
 "cells": [
  {
   "cell_type": "code",
   "execution_count": null,
   "id": "4ff336ac",
   "metadata": {},
   "outputs": [],
   "source": [
    "# Just run this sell to install and import the necessay libraries\n",
    "!pip install datascience -q\n",
    "from datascience import *\n",
    "import numpy as np\n",
    "\n",
    "%matplotlib inline\n",
    "import matplotlib.pyplot as plots\n",
    "plots.style.use('fivethirtyeight')"
   ]
  },
  {
   "cell_type": "markdown",
   "id": "9892484c",
   "metadata": {},
   "source": [
    "# DS 400 Final Exam\n",
    "\n",
    "## You must work alone on this exam. You may not receive any help from any person or by posting questions to a message board.  Receiving any help from a person or a message board will be considered a violation of the Regis University academic integraty policy. Dot not download and distribute the exam to any person or website.\n",
    "\n",
    "\n",
    "<font color='blue'>Double click then replace this sentence with your full name indicating you have read and will adhear to the policies outlined above.</font>"
   ]
  },
  {
   "cell_type": "markdown",
   "id": "dca16cdc",
   "metadata": {},
   "source": [
    "## DS 400 Final Exam is due on Oct 17, at 11:59 pm MT.  Turn in your Final_Exam.ipynb file to the Final_Exam Assignement Drop Box in Worldclass."
   ]
  },
  {
   "cell_type": "markdown",
   "id": "f0818dda",
   "metadata": {},
   "source": [
    "#### Question 1: Describe the data science life cycle. (2 pts)\n",
    "\n",
    "<font color='blue'>Double click then replace this sentence with your answer so it will be blue.</font>"
   ]
  },
  {
   "cell_type": "markdown",
   "id": "42137ca6",
   "metadata": {},
   "source": [
    "#### Question 2: What is an observational study? (2 pts)\n",
    "\n",
    "<font color='blue'>Double click then replace this sentence with your answer so it will be blue.</font>"
   ]
  },
  {
   "cell_type": "markdown",
   "id": "937b857f",
   "metadata": {},
   "source": [
    "#### Question 3: What is a treatment and what is an outcome? (2 pts)\n",
    "\n",
    "<font color='blue'>Double click then replace this sentence with your answer so it will be blue.</font>"
   ]
  },
  {
   "cell_type": "markdown",
   "id": "46695606",
   "metadata": {},
   "source": [
    "#### Question 4: What is a confounding variable? Give and example of confounding variables. (2 pts)\n",
    "\n",
    "<font color='blue'>Double click then replace this sentence with your answer so it will be blue.</font>"
   ]
  },
  {
   "cell_type": "markdown",
   "id": "8e891cc2",
   "metadata": {},
   "source": [
    "#### Question 5: What type of data do you typically use with scatter plots? (3 pts)\n",
    "<font color='blue'>Double click then replace this sentence with your answer so it will be blue.</font>"
   ]
  },
  {
   "cell_type": "markdown",
   "id": "865ad031",
   "metadata": {},
   "source": [
    "#### Question 6: What type of data do you typically use with bar charts? (3 pts)\n",
    "<font color='blue'>Double click then replace this sentence with your answer so it will be blue.</font>"
   ]
  },
  {
   "cell_type": "markdown",
   "id": "dd2886ad",
   "metadata": {},
   "source": [
    "#### Question 7: What type of data do you typically use with histogram plots? (3 pts)\n",
    "<font color='blue'>Double click then replace this sentence with your answer so it will be blue.</font>"
   ]
  },
  {
   "cell_type": "code",
   "execution_count": null,
   "id": "96886388",
   "metadata": {},
   "outputs": [],
   "source": [
    "# Question 8: Import the pokemon.csv file as \"pokemon\" (3 pts)\n",
    "pokemon = ...\n",
    "pokemon"
   ]
  },
  {
   "cell_type": "code",
   "execution_count": null,
   "id": "0d620857",
   "metadata": {},
   "outputs": [],
   "source": [
    "# Question 9: Assign the name of the pokemon of the \"type water\" who has the highest \"attack\" to \"pokemon_water\" (5 pts)\n",
    "pokemon_water = ...\n",
    "pokemon_water"
   ]
  },
  {
   "cell_type": "code",
   "execution_count": null,
   "id": "fd3d61c4",
   "metadata": {},
   "outputs": [],
   "source": [
    "# Question 10: Assign the proportion of pokemon of type \"fire\" in the dataset whose \"weight_kg\"\n",
    "# is over 100 to \"pokemon_proportion\". (5 pts)\n",
    "pokemon_proportion = ...\n",
    "pokemon_proportion"
   ]
  },
  {
   "cell_type": "code",
   "execution_count": null,
   "id": "2520e6c7",
   "metadata": {},
   "outputs": [],
   "source": [
    "# Question 11: Assign the \"type\" of pokemon that has the slowest average speed as \"pokemon_slowest_type\". (5 pts)\n",
    "pokemon_slowest_type = ...\n",
    "pokemon_slowest_type"
   ]
  },
  {
   "cell_type": "code",
   "execution_count": null,
   "id": "ff135577",
   "metadata": {},
   "outputs": [],
   "source": [
    "# Question 12: Assign the largest difference of average \"attack\" between consecutive generations of \"type ghost\" pokemon\n",
    "# as \"pokemon_attack_diff\" (5 pts)\n",
    "pokemon_attack_diff = ...\n",
    "pokemon_attack_diff"
   ]
  },
  {
   "cell_type": "code",
   "execution_count": null,
   "id": "5bd3b902",
   "metadata": {},
   "outputs": [],
   "source": [
    "# Question 15: Create a histrogram distribution of the pokemon \"attack\" values. (5 pts)\n",
    "# Use this for bins: bins = np.arange(0, 176, 25)\n",
    "..."
   ]
  },
  {
   "cell_type": "code",
   "execution_count": null,
   "id": "82e7efeb",
   "metadata": {},
   "outputs": [],
   "source": [
    "# Question 16: Using the histogram plot, assign the percentage of pokemon who have an \"attack\" value \n",
    "# that is at least 25 but less than 50 to \"pokemon_attack_percent\" (5 pts)\n",
    "pokemon_attack_percent = ...\n",
    "pokemon_attack_percent"
   ]
  },
  {
   "cell_type": "code",
   "execution_count": null,
   "id": "e75b80c4",
   "metadata": {},
   "outputs": [],
   "source": [
    "# Question 17: Using the histogram plot, aassign the number of pokemon who have an \"attack\" value \n",
    "# that is less than 150 to \"pokemon_attack_number\" (5 pts)\n",
    "pokemon_attack_number = ...\n",
    "pokemon_attack_number"
   ]
  },
  {
   "cell_type": "code",
   "execution_count": null,
   "id": "78f908e6",
   "metadata": {},
   "outputs": [],
   "source": [
    "# Question 18: Make a plot of average speed, average attack, and average hp of \"generation 7\" pokemon \"types\"  (5 pts)\n",
    "..."
   ]
  },
  {
   "cell_type": "code",
   "execution_count": null,
   "id": "a93d5b8a",
   "metadata": {},
   "outputs": [],
   "source": [
    "# Question 18 continued: What value(s), if any, stand out as outlier(s) in the above plot? (5 pts)\n",
    "# Type your answer below.\n",
    "..."
   ]
  },
  {
   "cell_type": "code",
   "execution_count": null,
   "id": "183a19be",
   "metadata": {},
   "outputs": [],
   "source": [
    "# Question 19: Make a plot to see if there is an association between pokemon \"attack\" and \"hp\". (5 pts)\n",
    "..."
   ]
  },
  {
   "cell_type": "code",
   "execution_count": null,
   "id": "3a28aa1b",
   "metadata": {},
   "outputs": [],
   "source": [
    "# Question 19 continued: Is there an association between \"attack\" and \"hp\"? \n",
    "# If yes, what type of association?\n",
    "# If no, why do you say there is no association? (5 pts)\n",
    "# Type your answer below.\n",
    "..."
   ]
  },
  {
   "cell_type": "code",
   "execution_count": null,
   "id": "daa345ee",
   "metadata": {},
   "outputs": [],
   "source": [
    "# Question 20: Assign the probability of fliping a \"fair\" coin and have it lands heads 5 times in a row to \"heads\". \n",
    "# (5 pts)\n",
    "heads = ...\n",
    "heads"
   ]
  },
  {
   "cell_type": "code",
   "execution_count": null,
   "id": "c4c91d18",
   "metadata": {},
   "outputs": [],
   "source": [
    "# Question 21: Assign the probability of fliping a \"fair\" coin and have it land \"HTHTH\" in that order to \"flip\". (5 pts)\n",
    "flip = ...\n",
    "flip"
   ]
  },
  {
   "cell_type": "code",
   "execution_count": null,
   "id": "a1f5b789",
   "metadata": {},
   "outputs": [],
   "source": [
    "# Question 22: Assign the probability of fliping a \"fair\" coin 5 times and have at least one tails to \"tails\" (5 pts)\n",
    "tails = ...\n",
    "tails"
   ]
  },
  {
   "cell_type": "markdown",
   "id": "d8731bfa",
   "metadata": {},
   "source": [
    "Huey the hamster loves long random walks that last a total of 100 steps. Huey moves based on the following scheme: Huey flips a coin and moves one step to the right if the coin comes up heads or one step to the left if the coin comes up tails. \n",
    "Assuming that Huey's coin is \"fair\", write a function called walk that simulates one random walk of 100 steps and returns how far from the origin Huey ends up at the end of his walk. You may assume Huey always starts at the origin."
   ]
  },
  {
   "cell_type": "code",
   "execution_count": null,
   "id": "bb63d6c3",
   "metadata": {},
   "outputs": [],
   "source": [
    "# Question 23: Define the function \"walk\" below (5 pts)\n",
    "..."
   ]
  },
  {
   "cell_type": "code",
   "execution_count": null,
   "id": "5658406c",
   "metadata": {},
   "outputs": [],
   "source": [
    "# Question 24: Simulate 10000 walks and store the discance in a data table called \"distance_table\" (5 pts)\n",
    "...\n",
    "distance_table"
   ]
  },
  {
   "cell_type": "code",
   "execution_count": null,
   "id": "deb7e78f",
   "metadata": {},
   "outputs": [],
   "source": [
    "# Question 25: Plot the distribution of how far Huey walks in the 10000 simulations. (5 pts)\n",
    "..."
   ]
  },
  {
   "cell_type": "code",
   "execution_count": null,
   "id": "474e2cf7",
   "metadata": {},
   "outputs": [],
   "source": [
    "# Question 26: Create a funtion called \"is even\" that takes one arguement \"integer\".  (5 pts)\n",
    "# Have the function print \"Your integer is odd.\" if the user provides an odd number.\n",
    "# Have the function print \"Your integer is even.\" if the user provides an even number.\n",
    "# Have the function print \"Error! Please provide an integer.\" if an integer is not provided.\n",
    "...  "
   ]
  }
 ],
 "metadata": {
  "kernelspec": {
   "display_name": "Python 3 (ipykernel)",
   "language": "python",
   "name": "python3"
  },
  "language_info": {
   "codemirror_mode": {
    "name": "ipython",
    "version": 3
   },
   "file_extension": ".py",
   "mimetype": "text/x-python",
   "name": "python",
   "nbconvert_exporter": "python",
   "pygments_lexer": "ipython3",
   "version": "3.7.1"
  }
 },
 "nbformat": 4,
 "nbformat_minor": 5
}
