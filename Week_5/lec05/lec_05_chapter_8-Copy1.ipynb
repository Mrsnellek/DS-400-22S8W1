{
 "cells": [
  {
   "cell_type": "markdown",
   "metadata": {},
   "source": [
    "The contents of this course including lectures, labs, homework assignments, and exams have all been adapted from the [Data 8 course at University California Berkley](https://data.berkeley.edu/education/courses/data-8). Through their generosity and passion for undergraduate education, the Data 8 community at Berkley has opened their content and expertise for other universities to adapt in the name of undergraduate education."
   ]
  },
  {
   "cell_type": "code",
   "execution_count": 1,
   "metadata": {},
   "outputs": [],
   "source": [
    "#!pip install datascience -q\n",
    "from datascience import *\n",
    "import numpy as np\n",
    "\n",
    "%matplotlib inline\n",
    "import matplotlib.pyplot as plots\n",
    "plots.style.use('fivethirtyeight')"
   ]
  },
  {
   "cell_type": "markdown",
   "metadata": {},
   "source": [
    "# Chapter 7 Review"
   ]
  },
  {
   "cell_type": "markdown",
   "metadata": {},
   "source": [
    "#### What type of data do you typically use with line graphs?\n",
    "<font color='blue'>Time series data, sequential data, where x has one corresponding y value</font>"
   ]
  },
  {
   "cell_type": "markdown",
   "metadata": {},
   "source": [
    "#### When do you typically use with scatter plots?\n",
    "<font color='blue'>Looking for a correlation or relationship between x and y.</font>"
   ]
  },
  {
   "cell_type": "markdown",
   "metadata": {},
   "source": [
    "#### What type of data do you typically use with bar charts?\n",
    "<font color='blue'>Categorical data.</font>"
   ]
  },
  {
   "cell_type": "markdown",
   "metadata": {},
   "source": [
    "#### When do you typically use with histogram plots?\n",
    "<font color='blue'>When looking at a distribution of values.</font>"
   ]
  },
  {
   "cell_type": "code",
   "execution_count": 2,
   "metadata": {
    "scrolled": true
   },
   "outputs": [
    {
     "data": {
      "text/html": [
       "<table border=\"1\" class=\"dataframe\">\n",
       "    <thead>\n",
       "        <tr>\n",
       "            <th>name</th> <th>material</th> <th>city</th> <th>height</th> <th>completed</th>\n",
       "        </tr>\n",
       "    </thead>\n",
       "    <tbody>\n",
       "        <tr>\n",
       "            <td>One World Trade Center           </td> <td>composite</td> <td>New York City</td> <td>541.3 </td> <td>2014     </td>\n",
       "        </tr>\n",
       "        <tr>\n",
       "            <td>Willis Tower                     </td> <td>steel    </td> <td>Chicago      </td> <td>442.14</td> <td>1974     </td>\n",
       "        </tr>\n",
       "        <tr>\n",
       "            <td>432 Park Avenue                  </td> <td>concrete </td> <td>New York City</td> <td>425.5 </td> <td>2015     </td>\n",
       "        </tr>\n",
       "        <tr>\n",
       "            <td>Trump International Hotel & Tower</td> <td>concrete </td> <td>Chicago      </td> <td>423.22</td> <td>2009     </td>\n",
       "        </tr>\n",
       "        <tr>\n",
       "            <td>Empire State Building            </td> <td>steel    </td> <td>New York City</td> <td>381   </td> <td>1931     </td>\n",
       "        </tr>\n",
       "        <tr>\n",
       "            <td>Bank of America Tower            </td> <td>composite</td> <td>New York City</td> <td>365.8 </td> <td>2009     </td>\n",
       "        </tr>\n",
       "        <tr>\n",
       "            <td>Stratosphere Tower               </td> <td>concrete </td> <td>Las Vegas    </td> <td>350.22</td> <td>1996     </td>\n",
       "        </tr>\n",
       "        <tr>\n",
       "            <td>Aon Center                       </td> <td>steel    </td> <td>Chicago      </td> <td>346.26</td> <td>1973     </td>\n",
       "        </tr>\n",
       "        <tr>\n",
       "            <td>John Hancock Center              </td> <td>steel    </td> <td>Chicago      </td> <td>343.69</td> <td>1969     </td>\n",
       "        </tr>\n",
       "        <tr>\n",
       "            <td>WITI TV Tower                    </td> <td>steel    </td> <td>Shorewood    </td> <td>329   </td> <td>1962     </td>\n",
       "        </tr>\n",
       "    </tbody>\n",
       "</table>\n",
       "<p>... (190 rows omitted)</p>"
      ],
      "text/plain": [
       "name                              | material  | city          | height | completed\n",
       "One World Trade Center            | composite | New York City | 541.3  | 2014\n",
       "Willis Tower                      | steel     | Chicago       | 442.14 | 1974\n",
       "432 Park Avenue                   | concrete  | New York City | 425.5  | 2015\n",
       "Trump International Hotel & Tower | concrete  | Chicago       | 423.22 | 2009\n",
       "Empire State Building             | steel     | New York City | 381    | 1931\n",
       "Bank of America Tower             | composite | New York City | 365.8  | 2009\n",
       "Stratosphere Tower                | concrete  | Las Vegas     | 350.22 | 1996\n",
       "Aon Center                        | steel     | Chicago       | 346.26 | 1973\n",
       "John Hancock Center               | steel     | Chicago       | 343.69 | 1969\n",
       "WITI TV Tower                     | steel     | Shorewood     | 329    | 1962\n",
       "... (190 rows omitted)"
      ]
     },
     "execution_count": 2,
     "metadata": {},
     "output_type": "execute_result"
    }
   ],
   "source": [
    "# Import the skyscrappers.csv as skyscrapers\n",
    "skyscrapers = Table().read_table('skyscrapers.csv')\n",
    "skyscrapers"
   ]
  },
  {
   "cell_type": "code",
   "execution_count": 3,
   "metadata": {},
   "outputs": [
    {
     "data": {
      "text/html": [
       "<table border=\"1\" class=\"dataframe\">\n",
       "    <thead>\n",
       "        <tr>\n",
       "            <th>completed</th> <th>count</th>\n",
       "        </tr>\n",
       "    </thead>\n",
       "    <tbody>\n",
       "        <tr>\n",
       "            <td>1909     </td> <td>1    </td>\n",
       "        </tr>\n",
       "        <tr>\n",
       "            <td>1913     </td> <td>1    </td>\n",
       "        </tr>\n",
       "        <tr>\n",
       "            <td>1928     </td> <td>1    </td>\n",
       "        </tr>\n",
       "        <tr>\n",
       "            <td>1929     </td> <td>2    </td>\n",
       "        </tr>\n",
       "        <tr>\n",
       "            <td>1930     </td> <td>3    </td>\n",
       "        </tr>\n",
       "        <tr>\n",
       "            <td>1931     </td> <td>4    </td>\n",
       "        </tr>\n",
       "        <tr>\n",
       "            <td>1932     </td> <td>2    </td>\n",
       "        </tr>\n",
       "        <tr>\n",
       "            <td>1933     </td> <td>1    </td>\n",
       "        </tr>\n",
       "        <tr>\n",
       "            <td>1960     </td> <td>1    </td>\n",
       "        </tr>\n",
       "        <tr>\n",
       "            <td>1961     </td> <td>1    </td>\n",
       "        </tr>\n",
       "    </tbody>\n",
       "</table>\n",
       "<p>... (48 rows omitted)</p>"
      ],
      "text/plain": [
       "completed | count\n",
       "1909      | 1\n",
       "1913      | 1\n",
       "1928      | 1\n",
       "1929      | 2\n",
       "1930      | 3\n",
       "1931      | 4\n",
       "1932      | 2\n",
       "1933      | 1\n",
       "1960      | 1\n",
       "1961      | 1\n",
       "... (48 rows omitted)"
      ]
     },
     "execution_count": 3,
     "metadata": {},
     "output_type": "execute_result"
    },
    {
     "data": {
      "image/png": "[encoded data removed]",
      "text/plain": [
       "<Figure size 360x360 with 1 Axes>"
      ]
     },
     "metadata": {},
     "output_type": "display_data"
    },
    {
     "data": {
      "image/png": "[encoded data removed]",
      "text/plain": [
       "<Figure size 432x432 with 1 Axes>"
      ]
     },
     "metadata": {},
     "output_type": "display_data"
    }
   ],
   "source": [
    "# Plot completed vs height\n",
    "skyscrapers.where('height', are.above_or_equal_to(200)).scatter('completed', \"height\")\n",
    "skyscrapers.plot('completed', \"height\")\n",
    "skyscrapers.group('completed')"
   ]
  },
  {
   "cell_type": "code",
   "execution_count": 6,
   "metadata": {},
   "outputs": [
    {
     "data": {
      "text/html": [
       "<table border=\"1\" class=\"dataframe\">\n",
       "    <thead>\n",
       "        <tr>\n",
       "            <th>bin</th> <th>height count</th> <th>percent height</th>\n",
       "        </tr>\n",
       "    </thead>\n",
       "    <tbody>\n",
       "        <tr>\n",
       "            <td>200 </td> <td>117         </td> <td>1.4717        </td>\n",
       "        </tr>\n",
       "        <tr>\n",
       "            <td>250 </td> <td>27          </td> <td>0.339623      </td>\n",
       "        </tr>\n",
       "        <tr>\n",
       "            <td>300 </td> <td>12          </td> <td>0.150943      </td>\n",
       "        </tr>\n",
       "        <tr>\n",
       "            <td>350 </td> <td>3           </td> <td>0.0377358     </td>\n",
       "        </tr>\n",
       "        <tr>\n",
       "            <td>400 </td> <td>0           </td> <td>0             </td>\n",
       "        </tr>\n",
       "    </tbody>\n",
       "</table>"
      ],
      "text/plain": [
       "bin  | height count | percent height\n",
       "200  | 117          | 1.4717\n",
       "250  | 27           | 0.339623\n",
       "300  | 12           | 0.150943\n",
       "350  | 3            | 0.0377358\n",
       "400  | 0            | 0"
      ]
     },
     "execution_count": 6,
     "metadata": {},
     "output_type": "execute_result"
    },
    {
     "data": {
      "image/png": "[encoded data removed]",
      "text/plain": [
       "<Figure size 432x288 with 1 Axes>"
      ]
     },
     "metadata": {},
     "output_type": "display_data"
    }
   ],
   "source": [
    "# Plot the height of the sky scrapers. Make another plot of when they were completed.\n",
    "bins = skyscrapers.bin('height', bins = np.arange(200, 401, 50))\n",
    "bins = bins.with_column(\"percent height\", bins.column('height count')/(50*bins.column('height count').sum())*100)\n",
    "skyscrapers.hist(\"height\", bins = np.arange(200, 401, 50))\n",
    "bins"
   ]
  },
  {
   "cell_type": "code",
   "execution_count": 7,
   "metadata": {},
   "outputs": [
    {
     "name": "stdout",
     "output_type": "stream",
     "text": [
      "27.03\n"
     ]
    }
   ],
   "source": [
    "#Using the histogram plot, calculate how many skyscrapers are between 250 and 300 meters?\n",
    "# Hint: make the histogram bins a useful width\n",
    "print(0.34 * 50 * bins.column('height count').sum()/100)"
   ]
  },
  {
   "cell_type": "code",
   "execution_count": 8,
   "metadata": {},
   "outputs": [
    {
     "data": {
      "text/plain": [
       "27"
      ]
     },
     "execution_count": 8,
     "metadata": {},
     "output_type": "execute_result"
    }
   ],
   "source": [
    "# Verify your above answer using data from the skyscraper table.\n",
    "skyscrapers.where('height', are.between(250,300)).num_rows"
   ]
  },
  {
   "cell_type": "code",
   "execution_count": 9,
   "metadata": {},
   "outputs": [
    {
     "name": "stdout",
     "output_type": "stream",
     "text": [
      "24.0\n"
     ]
    }
   ],
   "source": [
    "# Using the histogram plot, calculate how many skyscrapers were completed between 2010 and 2020?\n",
    "# Hint: make the histogram bins a useful width\n",
    "print(1.2 * 10 * skyscrapers.num_rows/100)"
   ]
  },
  {
   "cell_type": "code",
   "execution_count": 10,
   "metadata": {},
   "outputs": [
    {
     "data": {
      "text/plain": [
       "23"
      ]
     },
     "execution_count": 10,
     "metadata": {},
     "output_type": "execute_result"
    }
   ],
   "source": [
    "# Verify your above answer using data from the skyscraper table.\n",
    "skyscrapers.where('completed', are.between(2010,2020)).num_rows"
   ]
  },
  {
   "cell_type": "code",
   "execution_count": 11,
   "metadata": {},
   "outputs": [
    {
     "data": {
      "image/png": "[encoded data removed]",
      "text/plain": [
       "<Figure size 432x288 with 1 Axes>"
      ]
     },
     "metadata": {},
     "output_type": "display_data"
    }
   ],
   "source": [
    "# BONUS:\n",
    "# Plot the average height by composite\n",
    "skyscrapers.select('material', 'height').group('material', np.mean).sort('height mean').barh('material')"
   ]
  },
  {
   "cell_type": "code",
   "execution_count": 12,
   "metadata": {},
   "outputs": [
    {
     "name": "stderr",
     "output_type": "stream",
     "text": [
      "C:\\Users\\ksorauf\\AppData\\Local\\Continuum\\anaconda3\\lib\\site-packages\\datascience\\tables.py:3006: UserWarning: FixedFormatter should only be used together with FixedLocator\n",
      "  axis.set_xticklabels(tick_labels, stretch='ultra-condensed')\n"
     ]
    },
    {
     "data": {
      "image/png": "[encoded data removed]",
      "text/plain": [
       "<Figure size 432x288 with 1 Axes>"
      ]
     },
     "metadata": {},
     "output_type": "display_data"
    }
   ],
   "source": [
    "# BONUS:\n",
    "# Plot the average height by year\n",
    "skyscrapers.select('completed', 'height').group('completed', np.mean).bar('completed')"
   ]
  },
  {
   "cell_type": "markdown",
   "metadata": {},
   "source": [
    "# Chapter 8: Functions and Tables"
   ]
  },
  {
   "cell_type": "code",
   "execution_count": 13,
   "metadata": {},
   "outputs": [
    {
     "data": {
      "text/plain": [
       "30"
      ]
     },
     "execution_count": 13,
     "metadata": {},
     "output_type": "execute_result"
    }
   ],
   "source": [
    "def triple(x):\n",
    "    '''triple x'''\n",
    "    return 3*x\n",
    "triple(10)"
   ]
  },
  {
   "cell_type": "markdown",
   "metadata": {},
   "source": [
    "### Function synatx\n",
    "\n",
    "<img src=Function.PNG style=\"width: 900px;\"/>"
   ]
  },
  {
   "cell_type": "markdown",
   "metadata": {},
   "source": [
    "### Note About Scopes"
   ]
  },
  {
   "cell_type": "code",
   "execution_count": 14,
   "metadata": {},
   "outputs": [
    {
     "ename": "NameError",
     "evalue": "name 'x' is not defined",
     "output_type": "error",
     "traceback": [
      "\u001b[1;31m---------------------------------------------------------------------------\u001b[0m",
      "\u001b[1;31mNameError\u001b[0m                                 Traceback (most recent call last)",
      "\u001b[1;32m~\\AppData\\Local\\Temp/ipykernel_18232/32546335.py\u001b[0m in \u001b[0;36m<module>\u001b[1;34m\u001b[0m\n\u001b[1;32m----> 1\u001b[1;33m \u001b[0mx\u001b[0m\u001b[1;33m\u001b[0m\u001b[1;33m\u001b[0m\u001b[0m\n\u001b[0m",
      "\u001b[1;31mNameError\u001b[0m: name 'x' is not defined"
     ]
    }
   ],
   "source": [
    "x"
   ]
  },
  {
   "cell_type": "code",
   "execution_count": 15,
   "metadata": {},
   "outputs": [],
   "source": [
    "x = 5"
   ]
  },
  {
   "cell_type": "code",
   "execution_count": 17,
   "metadata": {},
   "outputs": [
    {
     "data": {
      "text/plain": [
       "30"
      ]
     },
     "execution_count": 17,
     "metadata": {},
     "output_type": "execute_result"
    }
   ],
   "source": [
    "triple(2 * x)"
   ]
  },
  {
   "cell_type": "code",
   "execution_count": 18,
   "metadata": {
    "scrolled": true
   },
   "outputs": [
    {
     "data": {
      "text/plain": [
       "5"
      ]
     },
     "execution_count": 18,
     "metadata": {},
     "output_type": "execute_result"
    }
   ],
   "source": [
    "x"
   ]
  },
  {
   "cell_type": "markdown",
   "metadata": {},
   "source": [
    "### Type Agnostic"
   ]
  },
  {
   "cell_type": "code",
   "execution_count": 19,
   "metadata": {},
   "outputs": [
    {
     "data": {
      "text/plain": [
       "'hahaha'"
      ]
     },
     "execution_count": 19,
     "metadata": {},
     "output_type": "execute_result"
    }
   ],
   "source": [
    "triple('ha')"
   ]
  },
  {
   "cell_type": "code",
   "execution_count": 20,
   "metadata": {},
   "outputs": [
    {
     "data": {
      "text/plain": [
       "array([0, 1, 2, 3])"
      ]
     },
     "execution_count": 20,
     "metadata": {},
     "output_type": "execute_result"
    }
   ],
   "source": [
    "np.arange(4)"
   ]
  },
  {
   "cell_type": "code",
   "execution_count": 21,
   "metadata": {},
   "outputs": [
    {
     "data": {
      "text/plain": [
       "array([0, 3, 6, 9])"
      ]
     },
     "execution_count": 21,
     "metadata": {},
     "output_type": "execute_result"
    }
   ],
   "source": [
    "triple(np.arange(4))"
   ]
  },
  {
   "cell_type": "markdown",
   "metadata": {},
   "source": [
    "## What does the following function do?  What kind of input does it take?"
   ]
  },
  {
   "cell_type": "code",
   "execution_count": 22,
   "metadata": {},
   "outputs": [],
   "source": [
    "def percent_of_total(s):\n",
    "    return np.round(s / sum(s) * 100, 2)"
   ]
  },
  {
   "cell_type": "code",
   "execution_count": 23,
   "metadata": {},
   "outputs": [
    {
     "data": {
      "text/plain": [
       "array([ 6.67, 13.33, 20.  , 26.67, 33.33])"
      ]
     },
     "execution_count": 23,
     "metadata": {},
     "output_type": "execute_result"
    }
   ],
   "source": [
    "percent_of_total(make_array(1,2,3,4,5))"
   ]
  },
  {
   "cell_type": "code",
   "execution_count": 24,
   "metadata": {},
   "outputs": [
    {
     "data": {
      "text/plain": [
       "array([ 0.4 , 84.52, 15.08])"
      ]
     },
     "execution_count": 24,
     "metadata": {},
     "output_type": "execute_result"
    }
   ],
   "source": [
    "percent_of_total(make_array(1, 213, 38))"
   ]
  },
  {
   "cell_type": "markdown",
   "metadata": {},
   "source": [
    "### Multiple Arguments\n",
    "\n",
    "$ c^2 = a^2 + b^2 \\hspace{20 pt} => \\hspace{20 pt} c = \\sqrt{ a^2 + b^2 } $"
   ]
  },
  {
   "cell_type": "code",
   "execution_count": 25,
   "metadata": {},
   "outputs": [],
   "source": [
    "def hypotenuse(a,b):\n",
    "    hypot_squared = (a ** 2 + b ** 2)\n",
    "    return hypot_squared ** 0.5"
   ]
  },
  {
   "cell_type": "code",
   "execution_count": 26,
   "metadata": {},
   "outputs": [
    {
     "data": {
      "text/plain": [
       "15.0"
      ]
     },
     "execution_count": 26,
     "metadata": {},
     "output_type": "execute_result"
    }
   ],
   "source": [
    "hypotenuse(9, 12)"
   ]
  },
  {
   "cell_type": "code",
   "execution_count": 27,
   "metadata": {},
   "outputs": [
    {
     "data": {
      "text/plain": [
       "5.0"
      ]
     },
     "execution_count": 27,
     "metadata": {},
     "output_type": "execute_result"
    }
   ],
   "source": [
    "hypotenuse(3, 4)"
   ]
  },
  {
   "cell_type": "markdown",
   "metadata": {},
   "source": [
    "## Applying functions to Columns\n",
    "The apply method creates an array by applying a function on every element in input column(s)\n",
    "* First argument: Function to apply\n",
    "* Other arguments: The input column(s)\n",
    "\n",
    "**table_name.apply(function_name, 'column_label')**"
   ]
  },
  {
   "cell_type": "code",
   "execution_count": 28,
   "metadata": {
    "scrolled": true
   },
   "outputs": [
    {
     "data": {
      "text/html": [
       "<table border=\"1\" class=\"dataframe\">\n",
       "    <thead>\n",
       "        <tr>\n",
       "            <th>Person</th> <th>Birth Year</th>\n",
       "        </tr>\n",
       "    </thead>\n",
       "    <tbody>\n",
       "        <tr>\n",
       "            <td>Jim    </td> <td>1985      </td>\n",
       "        </tr>\n",
       "        <tr>\n",
       "            <td>Pam    </td> <td>1988      </td>\n",
       "        </tr>\n",
       "        <tr>\n",
       "            <td>Michael</td> <td>1967      </td>\n",
       "        </tr>\n",
       "        <tr>\n",
       "            <td>Creed  </td> <td>1904      </td>\n",
       "        </tr>\n",
       "    </tbody>\n",
       "</table>"
      ],
      "text/plain": [
       "Person  | Birth Year\n",
       "Jim     | 1985\n",
       "Pam     | 1988\n",
       "Michael | 1967\n",
       "Creed   | 1904"
      ]
     },
     "execution_count": 28,
     "metadata": {},
     "output_type": "execute_result"
    }
   ],
   "source": [
    "ages = Table().with_columns(\n",
    "    'Person', make_array('Jim', 'Pam', 'Michael', 'Creed'),\n",
    "    'Birth Year', make_array(1985, 1988, 1967, 1904)\n",
    ")\n",
    "ages"
   ]
  },
  {
   "cell_type": "code",
   "execution_count": 29,
   "metadata": {},
   "outputs": [],
   "source": [
    "def cap_at_1980(x):\n",
    "    return min(x, 1980)"
   ]
  },
  {
   "cell_type": "code",
   "execution_count": 30,
   "metadata": {},
   "outputs": [
    {
     "data": {
      "text/plain": [
       "1975"
      ]
     },
     "execution_count": 30,
     "metadata": {},
     "output_type": "execute_result"
    }
   ],
   "source": [
    "cap_at_1980(1975)"
   ]
  },
  {
   "cell_type": "code",
   "execution_count": 31,
   "metadata": {},
   "outputs": [
    {
     "data": {
      "text/plain": [
       "1980"
      ]
     },
     "execution_count": 31,
     "metadata": {},
     "output_type": "execute_result"
    }
   ],
   "source": [
    "cap_at_1980(1991)"
   ]
  },
  {
   "cell_type": "code",
   "execution_count": 32,
   "metadata": {},
   "outputs": [
    {
     "data": {
      "text/plain": [
       "array([1980, 1980, 1967, 1904], dtype=int64)"
      ]
     },
     "execution_count": 32,
     "metadata": {},
     "output_type": "execute_result"
    }
   ],
   "source": [
    "ages.apply(cap_at_1980, 'Birth Year')"
   ]
  },
  {
   "cell_type": "code",
   "execution_count": 34,
   "metadata": {},
   "outputs": [],
   "source": [
    "def pick_up_phone(name):\n",
    "    return 'Dunder Mifflin, this is ' + name"
   ]
  },
  {
   "cell_type": "code",
   "execution_count": 35,
   "metadata": {
    "scrolled": true
   },
   "outputs": [
    {
     "data": {
      "text/plain": [
       "array(['Dunder Mifflin, this is Jim', 'Dunder Mifflin, this is Pam',\n",
       "       'Dunder Mifflin, this is Michael', 'Dunder Mifflin, this is Creed'],\n",
       "      dtype='<U31')"
      ]
     },
     "execution_count": 35,
     "metadata": {},
     "output_type": "execute_result"
    }
   ],
   "source": [
    "ages.apply(pick_up_phone, 'Person')"
   ]
  },
  {
   "cell_type": "code",
   "execution_count": 36,
   "metadata": {},
   "outputs": [],
   "source": [
    "def name_and_age(name, year):\n",
    "    age = 2021 - year\n",
    "    return name + ' is ' + str(age)"
   ]
  },
  {
   "cell_type": "code",
   "execution_count": 37,
   "metadata": {
    "scrolled": true
   },
   "outputs": [
    {
     "data": {
      "text/plain": [
       "array(['Jim is 36', 'Pam is 33', 'Michael is 54', 'Creed is 117'],\n",
       "      dtype='<U13')"
      ]
     },
     "execution_count": 37,
     "metadata": {},
     "output_type": "execute_result"
    }
   ],
   "source": [
    "ages.apply(name_and_age, 'Person', 'Birth Year')"
   ]
  },
  {
   "cell_type": "markdown",
   "metadata": {},
   "source": [
    "## Prediction\n",
    "We will use a data set collected by Sir Francis Galton (1822 - 1911).  The table has the heights of parents and their adult children (in inches).  The \"midparentHeight\" column is the average of height of the two parents. The \"childNum is the childs birth rank (1 = oldest).  The dataset was collected to predict child height from parents height. "
   ]
  },
  {
   "cell_type": "code",
   "execution_count": 38,
   "metadata": {
    "scrolled": true
   },
   "outputs": [
    {
     "data": {
      "text/html": [
       "<table border=\"1\" class=\"dataframe\">\n",
       "    <thead>\n",
       "        <tr>\n",
       "            <th>family</th> <th>father</th> <th>mother</th> <th>midparentHeight</th> <th>children</th> <th>childNum</th> <th>gender</th> <th>childHeight</th>\n",
       "        </tr>\n",
       "    </thead>\n",
       "    <tbody>\n",
       "        <tr>\n",
       "            <td>1     </td> <td>78.5  </td> <td>67    </td> <td>75.43          </td> <td>4       </td> <td>1       </td> <td>male  </td> <td>73.2       </td>\n",
       "        </tr>\n",
       "        <tr>\n",
       "            <td>1     </td> <td>78.5  </td> <td>67    </td> <td>75.43          </td> <td>4       </td> <td>2       </td> <td>female</td> <td>69.2       </td>\n",
       "        </tr>\n",
       "        <tr>\n",
       "            <td>1     </td> <td>78.5  </td> <td>67    </td> <td>75.43          </td> <td>4       </td> <td>3       </td> <td>female</td> <td>69         </td>\n",
       "        </tr>\n",
       "        <tr>\n",
       "            <td>1     </td> <td>78.5  </td> <td>67    </td> <td>75.43          </td> <td>4       </td> <td>4       </td> <td>female</td> <td>69         </td>\n",
       "        </tr>\n",
       "        <tr>\n",
       "            <td>2     </td> <td>75.5  </td> <td>66.5  </td> <td>73.66          </td> <td>4       </td> <td>1       </td> <td>male  </td> <td>73.5       </td>\n",
       "        </tr>\n",
       "        <tr>\n",
       "            <td>2     </td> <td>75.5  </td> <td>66.5  </td> <td>73.66          </td> <td>4       </td> <td>2       </td> <td>male  </td> <td>72.5       </td>\n",
       "        </tr>\n",
       "        <tr>\n",
       "            <td>2     </td> <td>75.5  </td> <td>66.5  </td> <td>73.66          </td> <td>4       </td> <td>3       </td> <td>female</td> <td>65.5       </td>\n",
       "        </tr>\n",
       "        <tr>\n",
       "            <td>2     </td> <td>75.5  </td> <td>66.5  </td> <td>73.66          </td> <td>4       </td> <td>4       </td> <td>female</td> <td>65.5       </td>\n",
       "        </tr>\n",
       "        <tr>\n",
       "            <td>3     </td> <td>75    </td> <td>64    </td> <td>72.06          </td> <td>2       </td> <td>1       </td> <td>male  </td> <td>71         </td>\n",
       "        </tr>\n",
       "        <tr>\n",
       "            <td>3     </td> <td>75    </td> <td>64    </td> <td>72.06          </td> <td>2       </td> <td>2       </td> <td>female</td> <td>68         </td>\n",
       "        </tr>\n",
       "    </tbody>\n",
       "</table>\n",
       "<p>... (924 rows omitted)</p>"
      ],
      "text/plain": [
       "family | father | mother | midparentHeight | children | childNum | gender | childHeight\n",
       "1      | 78.5   | 67     | 75.43           | 4        | 1        | male   | 73.2\n",
       "1      | 78.5   | 67     | 75.43           | 4        | 2        | female | 69.2\n",
       "1      | 78.5   | 67     | 75.43           | 4        | 3        | female | 69\n",
       "1      | 78.5   | 67     | 75.43           | 4        | 4        | female | 69\n",
       "2      | 75.5   | 66.5   | 73.66           | 4        | 1        | male   | 73.5\n",
       "2      | 75.5   | 66.5   | 73.66           | 4        | 2        | male   | 72.5\n",
       "2      | 75.5   | 66.5   | 73.66           | 4        | 3        | female | 65.5\n",
       "2      | 75.5   | 66.5   | 73.66           | 4        | 4        | female | 65.5\n",
       "3      | 75     | 64     | 72.06           | 2        | 1        | male   | 71\n",
       "3      | 75     | 64     | 72.06           | 2        | 2        | female | 68\n",
       "... (924 rows omitted)"
      ]
     },
     "execution_count": 38,
     "metadata": {},
     "output_type": "execute_result"
    }
   ],
   "source": [
    "galton = Table.read_table('galton.csv')\n",
    "galton"
   ]
  },
  {
   "cell_type": "markdown",
   "metadata": {},
   "source": [
    "##### We will use the table to see if there is a positive association with parents mid height and child height"
   ]
  },
  {
   "cell_type": "code",
   "execution_count": 39,
   "metadata": {},
   "outputs": [
    {
     "data": {
      "image/png": "[encoded data removed]",
      "text/plain": [
       "<Figure size 360x360 with 1 Axes>"
      ]
     },
     "metadata": {},
     "output_type": "display_data"
    }
   ],
   "source": [
    "galton.scatter('midparentHeight', 'childHeight')"
   ]
  },
  {
   "cell_type": "markdown",
   "metadata": {},
   "source": [
    "##### Suppose we want to predict childs height if their parent mid height is 68 inches.  We could find the aveage of childern heights ofparents mid height whos mid height is 68 +/- 0.5 inches tall. "
   ]
  },
  {
   "cell_type": "code",
   "execution_count": 40,
   "metadata": {},
   "outputs": [
    {
     "data": {
      "image/png": "[encoded data removed]",
      "text/plain": [
       "<Figure size 360x360 with 1 Axes>"
      ]
     },
     "metadata": {},
     "output_type": "display_data"
    }
   ],
   "source": [
    "galton.scatter('midparentHeight', 'childHeight')\n",
    "plots.plot([67.5, 67.5], [50, 85], color='red', lw=2)\n",
    "plots.plot([68.5, 68.5], [50, 85], color='red', lw=2);"
   ]
  },
  {
   "cell_type": "code",
   "execution_count": 44,
   "metadata": {
    "scrolled": true
   },
   "outputs": [
    {
     "data": {
      "text/plain": [
       "66.24045801526718"
      ]
     },
     "execution_count": 44,
     "metadata": {},
     "output_type": "execute_result"
    }
   ],
   "source": [
    "nearby = galton.where('midparentHeight', are.between(67.5, 68.5))\n",
    "nearby\n",
    "nearby_mean = nearby.column('childHeight').mean()\n",
    "nearby_mean"
   ]
  },
  {
   "cell_type": "code",
   "execution_count": 42,
   "metadata": {},
   "outputs": [
    {
     "data": {
      "image/png": "[encoded data removed]",
      "text/plain": [
       "<Figure size 360x360 with 1 Axes>"
      ]
     },
     "metadata": {},
     "output_type": "display_data"
    }
   ],
   "source": [
    "galton.scatter('midparentHeight', 'childHeight')\n",
    "plots.plot([67.5, 67.5], [50, 85], color='red', lw=2)\n",
    "plots.plot([68.5, 68.5], [50, 85], color='red', lw=2)\n",
    "plots.scatter(68, nearby_mean, color='gold', s=50);"
   ]
  },
  {
   "cell_type": "markdown",
   "metadata": {},
   "source": [
    "##### Lets wrap this calculation into a function."
   ]
  },
  {
   "cell_type": "code",
   "execution_count": 45,
   "metadata": {},
   "outputs": [],
   "source": [
    "def predict(h):\n",
    "    nearby = galton.where('midparentHeight', are.between(h - 1/2, h + 1/2))\n",
    "    return nearby.column('childHeight').mean()"
   ]
  },
  {
   "cell_type": "code",
   "execution_count": 46,
   "metadata": {},
   "outputs": [
    {
     "data": {
      "text/plain": [
       "66.24045801526718"
      ]
     },
     "execution_count": 46,
     "metadata": {},
     "output_type": "execute_result"
    }
   ],
   "source": [
    "predict(68)"
   ]
  },
  {
   "cell_type": "code",
   "execution_count": 47,
   "metadata": {},
   "outputs": [
    {
     "data": {
      "text/plain": [
       "67.27285067873302"
      ]
     },
     "execution_count": 47,
     "metadata": {},
     "output_type": "execute_result"
    }
   ],
   "source": [
    "predict(70)"
   ]
  },
  {
   "cell_type": "code",
   "execution_count": 48,
   "metadata": {},
   "outputs": [
    {
     "data": {
      "text/plain": [
       "69.5"
      ]
     },
     "execution_count": 48,
     "metadata": {},
     "output_type": "execute_result"
    }
   ],
   "source": [
    "predict(73)"
   ]
  },
  {
   "cell_type": "markdown",
   "metadata": {},
   "source": [
    "##### Now we can apply the function to each mid partent height column to get a prediction of the childs height"
   ]
  },
  {
   "cell_type": "code",
   "execution_count": 49,
   "metadata": {},
   "outputs": [
    {
     "data": {
      "text/plain": [
       "array([70.1       , 70.1       , 70.1       , 70.1       , 70.41578947,\n",
       "       70.41578947, 70.41578947, 70.41578947, 68.5025    , 68.5025    ,\n",
       "       68.5025    , 68.5025    , 68.5025    , 68.5025    , 68.5025    ,\n",
       "       66.43149606, 66.43149606, 66.43149606, 66.43149606, 66.43149606,\n",
       "       66.43149606, 70.41578947, 70.41578947, 70.41578947, 70.41578947,\n",
       "       70.41578947, 70.41578947, 70.41578947, 69.18571429, 69.18571429,\n",
       "       69.18571429, 69.18571429, 68.66052632, 67.63423913, 67.63423913,\n",
       "       67.63423913, 67.63423913, 67.63423913, 67.63423913, 67.63423913,\n",
       "       67.63423913, 67.37410714, 68.77428571, 68.77428571, 68.77428571,\n",
       "       68.77428571, 68.59230769, 68.59230769, 68.59230769, 68.07323944,\n",
       "       68.07323944, 68.07323944, 68.07323944, 68.07323944, 68.07323944,\n",
       "       68.07323944, 68.07323944, 68.07323944, 68.05465116, 68.05465116,\n",
       "       68.05465116, 68.05465116, 68.05465116, 68.05465116, 67.56276596,\n",
       "       67.56276596, 67.56276596, 67.71678832, 70.41578947, 70.41578947,\n",
       "       70.41578947, 70.41578947, 70.41578947, 70.41578947, 70.41578947,\n",
       "       70.41578947, 68.628125  , 68.628125  , 68.628125  , 68.54193548,\n",
       "       68.54193548, 68.54193548, 67.66941176, 67.66941176, 67.66941176,\n",
       "       67.66941176, 67.66941176, 67.66941176, 67.66941176, 68.05357143,\n",
       "       67.63352941, 67.63352941, 67.36355556, 67.36355556, 67.36355556,\n",
       "       67.36355556, 67.36355556, 67.36355556, 67.36355556, 67.36355556,\n",
       "       67.36355556, 67.36355556, 67.36355556, 67.36355556, 67.36355556,\n",
       "       67.36355556, 67.63352941, 67.63352941, 67.63352941, 66.75884956,\n",
       "       67.11255061, 67.11255061, 67.11255061, 67.11255061, 67.11255061,\n",
       "       67.11255061, 66.75884956, 66.75884956, 66.75884956, 66.75884956,\n",
       "       66.75884956, 66.75884956, 66.75884956, 66.75884956, 66.75884956,\n",
       "       66.75884956, 66.23647541, 68.628125  , 68.628125  , 68.628125  ,\n",
       "       68.628125  , 68.628125  , 67.97333333, 67.97333333, 67.97333333,\n",
       "       67.97333333, 67.85      , 67.85      , 67.85      , 67.85      ,\n",
       "       67.85      , 67.85      , 67.85      , 67.85      , 67.85      ,\n",
       "       67.85      , 67.85      , 67.85      , 67.85      , 67.85      ,\n",
       "       67.85      , 67.85      , 67.85      , 67.97294118, 67.8661157 ,\n",
       "       67.8661157 , 67.8661157 , 67.8661157 , 67.8661157 , 67.8661157 ,\n",
       "       67.79340659, 67.79340659, 67.75384615, 67.75384615, 67.67204969,\n",
       "       67.67204969, 67.67204969, 67.38465116, 67.38465116, 67.38465116,\n",
       "       67.38465116, 67.38465116, 67.38465116, 67.38465116, 67.38465116,\n",
       "       67.78319328, 67.78319328, 67.78319328, 67.78319328, 67.38465116,\n",
       "       67.38465116, 67.38465116, 67.62469136, 67.62469136, 67.62469136,\n",
       "       67.62469136, 67.62469136, 67.62469136, 67.62469136, 67.53815029,\n",
       "       67.53815029, 66.89330544, 66.89330544, 67.11359649, 67.11359649,\n",
       "       67.11359649, 67.11359649, 67.11359649, 66.74257426, 66.74257426,\n",
       "       66.74257426, 66.74257426, 66.74257426, 66.74257426, 66.74257426,\n",
       "       66.74257426, 66.74257426, 66.74257426, 66.74257426, 66.74257426,\n",
       "       66.74257426, 66.25390947, 66.25390947, 66.25390947, 66.25390947,\n",
       "       66.25390947, 66.25390947, 66.25390947, 66.25390947, 66.25390947,\n",
       "       66.25390947, 66.45882353, 66.45882353, 66.45882353, 66.45882353,\n",
       "       66.45882353, 66.25390947, 66.25390947, 66.25390947, 66.25390947,\n",
       "       66.25390947, 66.25390947, 66.25390947, 66.08640777, 65.31573034,\n",
       "       65.31573034, 68.03333333, 68.03333333, 68.03333333, 68.03333333,\n",
       "       68.03333333, 68.03333333, 68.03333333, 68.03333333, 68.03333333,\n",
       "       68.03333333, 68.41190476, 67.90697674, 67.90697674, 67.90697674,\n",
       "       67.90697674, 67.90697674, 67.90697674, 67.80695652, 67.80695652,\n",
       "       67.80695652, 67.80695652, 67.80695652, 67.80695652, 67.80695652,\n",
       "       67.80695652, 67.80695652, 67.80695652, 67.80695652, 67.53815029,\n",
       "       67.53815029, 67.53815029, 67.53815029, 67.53815029, 67.53815029,\n",
       "       67.53815029, 67.53815029, 67.53815029, 67.4388601 , 67.4388601 ,\n",
       "       67.4388601 , 67.4388601 , 67.4388601 , 67.4388601 , 67.4388601 ,\n",
       "       67.4388601 , 67.4388601 , 67.4388601 , 67.4388601 , 67.4388601 ,\n",
       "       67.4388601 , 67.4388601 , 67.4388601 , 67.4388601 , 67.4388601 ,\n",
       "       67.4388601 , 67.4388601 , 67.4388601 , 67.4388601 , 67.4388601 ,\n",
       "       67.4388601 , 67.4388601 , 67.4388601 , 67.4388601 , 67.4388601 ,\n",
       "       67.4388601 , 67.4388601 , 67.4388601 , 67.4388601 , 67.37410714,\n",
       "       67.37410714, 67.37410714, 67.37410714, 67.37410714, 67.37410714,\n",
       "       67.37410714, 66.86923077, 66.86923077, 66.86923077, 66.86923077,\n",
       "       66.86923077, 66.86923077, 66.86923077, 66.86923077, 66.86923077,\n",
       "       66.86923077, 66.86923077, 66.97462121, 66.97462121, 66.97462121,\n",
       "       66.97462121, 66.97462121, 67.10892857, 67.10892857, 67.10892857,\n",
       "       67.10892857, 67.10892857, 67.10892857, 67.10892857, 67.10892857,\n",
       "       67.34093264, 66.86923077, 66.86923077, 66.86923077, 66.86923077,\n",
       "       66.86923077, 66.86923077, 66.86923077, 66.86923077, 66.86923077,\n",
       "       66.86923077, 66.86923077, 66.86923077, 66.86923077, 66.74109589,\n",
       "       66.74109589, 66.74109589, 66.74109589, 66.74109589, 66.74109589,\n",
       "       66.74109589, 66.74109589, 66.45882353, 66.45882353, 66.45882353,\n",
       "       66.45882353, 66.45882353, 66.45882353, 66.45882353, 66.45882353,\n",
       "       66.45882353, 66.45882353, 66.45882353, 66.45882353, 66.45882353,\n",
       "       66.38858268, 66.38858268, 66.38858268, 66.38858268, 66.38858268,\n",
       "       66.38858268, 66.38858268, 66.38858268, 66.17280702, 66.17280702,\n",
       "       66.17280702, 66.17280702, 66.17280702, 66.17280702, 66.17280702,\n",
       "       66.17280702, 66.38858268, 66.38858268, 66.38858268, 66.38858268,\n",
       "       66.38858268, 66.38858268, 66.38858268, 66.17280702, 66.17280702,\n",
       "       66.17280702, 66.1618705 , 66.1618705 , 65.7423913 , 65.7423913 ,\n",
       "       65.7423913 , 65.7423913 , 65.7423913 , 65.7423913 , 65.20649351,\n",
       "       65.20649351, 65.20649351, 64.915     , 64.915     , 64.915     ,\n",
       "       64.915     , 64.915     , 67.9880597 , 67.9880597 , 67.9880597 ,\n",
       "       67.9880597 , 67.9880597 , 67.9880597 , 67.9880597 , 67.9880597 ,\n",
       "       67.9880597 , 67.9880597 , 67.78319328, 67.47553191, 67.47553191,\n",
       "       67.47553191, 67.47553191, 67.47553191, 67.47553191, 67.47553191,\n",
       "       67.47553191, 67.47553191, 67.47553191, 67.47553191, 67.63423913,\n",
       "       67.63423913, 67.63423913, 67.63423913, 67.47553191, 67.47553191,\n",
       "       67.47553191, 67.47553191, 67.47553191, 67.47553191, 67.59834254,\n",
       "       67.59834254, 67.59834254, 67.59834254, 67.59834254, 67.59834254,\n",
       "       67.59834254, 67.79461538, 67.79461538, 67.79461538, 67.79461538,\n",
       "       67.59834254, 67.59834254, 67.59834254, 67.59834254, 67.59834254,\n",
       "       67.59834254, 67.59834254, 67.59834254, 67.59834254, 67.59834254,\n",
       "       67.59834254, 67.59834254, 67.59834254, 67.47553191, 67.47553191,\n",
       "       67.47553191, 67.47553191, 67.47553191, 67.47553191, 67.47553191,\n",
       "       67.47553191, 67.47553191, 66.84719626, 66.84719626, 66.84719626,\n",
       "       66.84719626, 66.84719626, 66.84719626, 66.84719626, 66.87579909,\n",
       "       66.87579909, 66.87579909, 66.87579909, 66.87579909, 66.87579909,\n",
       "       66.87579909, 66.48518519, 66.48518519, 66.48518519, 66.48518519,\n",
       "       66.22488889, 66.03545455, 66.03545455, 66.03545455, 66.03545455,\n",
       "       66.03545455, 66.03545455, 66.03545455, 66.03545455, 66.03545455,\n",
       "       66.03545455, 66.22488889, 66.22488889, 66.22488889, 66.22488889,\n",
       "       66.22488889, 66.22488889, 66.22488889, 66.22488889, 66.22488889,\n",
       "       66.22488889, 66.22328042, 66.2819209 , 66.2819209 , 66.2819209 ,\n",
       "       66.24045802, 66.24045802, 66.24045802, 66.24045802, 66.24045802,\n",
       "       66.2819209 , 66.2819209 , 66.2819209 , 66.2819209 , 66.2819209 ,\n",
       "       66.2819209 , 66.2819209 , 66.2819209 , 66.2819209 , 66.2819209 ,\n",
       "       66.2819209 , 66.36648936, 66.36648936, 66.36648936, 66.36648936,\n",
       "       66.36648936, 66.36648936, 66.36648936, 66.36648936, 66.24045802,\n",
       "       66.24045802, 66.24045802, 66.24045802, 66.13076923, 66.13076923,\n",
       "       66.13076923, 66.13076923, 66.13076923, 65.76588235, 65.76588235,\n",
       "       65.76588235, 65.76588235, 65.76588235, 65.76588235, 65.76588235,\n",
       "       65.76588235, 65.76588235, 65.25119048, 65.25119048, 65.25119048,\n",
       "       65.25119048, 65.25119048, 65.25119048, 65.25119048, 65.64936709,\n",
       "       68.56190476, 68.56190476, 67.6125    , 67.6125    , 67.6125    ,\n",
       "       67.47553191, 67.47553191, 67.47553191, 67.47553191, 67.47553191,\n",
       "       67.47553191, 67.47553191, 67.47553191, 67.47553191, 67.47553191,\n",
       "       67.47553191, 66.43149606, 66.43149606, 66.71052632, 66.71052632,\n",
       "       66.71052632, 66.71052632, 66.71052632, 66.71052632, 66.71052632,\n",
       "       66.71052632, 66.71052632, 66.43149606, 66.43149606, 66.43149606,\n",
       "       66.43149606, 66.60041841, 66.60041841, 66.60041841, 66.60041841,\n",
       "       66.60041841, 66.60041841, 66.60041841, 66.60041841, 66.60041841,\n",
       "       66.60041841, 66.60041841, 66.60041841, 66.60041841, 66.60041841,\n",
       "       66.60041841, 66.60041841, 66.0175    , 66.0175    , 66.0175    ,\n",
       "       66.0175    , 66.0175    , 66.0175    , 66.0175    , 66.0175    ,\n",
       "       66.0175    , 66.0175    , 66.0175    , 66.0175    , 66.0175    ,\n",
       "       66.0175    , 66.0175    , 66.0175    , 66.0175    , 66.0175    ,\n",
       "       66.0175    , 66.24497817, 66.0175    , 66.0175    , 66.0175    ,\n",
       "       66.0175    , 66.0175    , 66.0175    , 66.0175    , 66.0175    ,\n",
       "       66.0175    , 66.0175    , 66.24045802, 66.24045802, 66.24045802,\n",
       "       66.24045802, 66.24045802, 66.24045802, 66.24045802, 66.24045802,\n",
       "       66.0175    , 66.0175    , 66.0175    , 66.0175    , 66.24045802,\n",
       "       66.24045802, 66.24045802, 66.24045802, 66.24045802, 66.24045802,\n",
       "       66.24045802, 66.24045802, 66.24045802, 66.24045802, 66.24045802,\n",
       "       66.24045802, 66.24045802, 66.24045802, 66.24045802, 66.24045802,\n",
       "       66.24045802, 66.24045802, 66.24045802, 66.0175    , 66.24045802,\n",
       "       66.08640777, 66.08640777, 66.08640777, 66.08640777, 66.08640777,\n",
       "       66.07539683, 66.16904762, 66.16904762, 66.07539683, 65.66582278,\n",
       "       65.66582278, 65.66582278, 65.66582278, 65.66582278, 65.21690141,\n",
       "       65.26346154, 65.26346154, 65.26346154, 65.26346154, 65.26346154,\n",
       "       65.26346154, 65.26346154, 65.26346154, 65.26346154, 65.26346154,\n",
       "       65.26346154, 64.82545455, 65.368     , 65.368     , 65.368     ,\n",
       "       65.368     , 65.368     , 65.368     , 65.368     , 65.368     ,\n",
       "       65.368     , 65.368     , 66.45882353, 66.45882353, 66.45882353,\n",
       "       66.45882353, 66.45882353, 66.74109589, 66.45629921, 66.45629921,\n",
       "       66.45629921, 66.45629921, 66.45629921, 66.45629921, 66.45629921,\n",
       "       66.45629921, 65.98267327, 65.98267327, 65.98267327, 65.98267327,\n",
       "       65.98267327, 65.98267327, 66.31355932, 66.31355932, 66.31355932,\n",
       "       66.31355932, 66.31355932, 66.31355932, 66.31355932, 66.31355932,\n",
       "       66.31355932, 65.98267327, 65.98267327, 65.98267327, 66.26140351,\n",
       "       66.26140351, 66.26140351, 66.26140351, 66.26140351, 66.26140351,\n",
       "       66.26140351, 66.26140351, 66.26140351, 66.26140351, 66.26140351,\n",
       "       66.44195804, 66.44195804, 66.44195804, 66.44195804, 66.1234375 ,\n",
       "       66.1234375 , 66.1234375 , 66.1234375 , 66.1234375 , 66.1234375 ,\n",
       "       66.1234375 , 66.1234375 , 66.2952381 , 66.2952381 , 66.2952381 ,\n",
       "       65.71190476, 65.71190476, 65.71190476, 65.71190476, 65.71190476,\n",
       "       65.28644068, 66.45846774, 66.45846774, 66.45846774, 66.45846774,\n",
       "       66.45846774, 66.45846774, 66.45846774, 66.45846774, 66.45846774,\n",
       "       66.45846774, 66.45846774, 66.45846774, 66.45846774, 66.45846774,\n",
       "       66.45846774, 66.45846774, 66.45846774, 66.05769231, 66.05769231,\n",
       "       66.05769231, 66.05769231, 66.05769231, 66.05769231, 66.05769231,\n",
       "       66.05769231, 66.05769231, 66.05769231, 66.05769231, 66.21702128,\n",
       "       66.21702128, 66.21702128, 66.21702128, 66.21702128, 66.21702128,\n",
       "       66.21702128, 66.21702128, 66.1120603 , 66.1120603 , 66.1120603 ,\n",
       "       66.1120603 , 66.1120603 , 65.52209302, 65.61341463, 65.61341463,\n",
       "       65.75348837, 65.75348837, 65.75348837, 65.75348837, 65.75348837,\n",
       "       65.75348837, 65.53563218, 65.53563218, 65.53563218, 65.53563218,\n",
       "       65.53563218, 65.53563218, 65.53563218, 64.69655172, 64.75833333,\n",
       "       64.75833333, 64.75833333, 64.75833333, 64.75833333, 63.96666667,\n",
       "       63.96666667, 63.96666667, 63.96666667, 63.96666667, 63.96666667,\n",
       "       63.96666667, 63.96666667, 63.96666667, 63.96666667, 63.96666667,\n",
       "       63.96666667, 63.96666667, 63.96666667, 63.96666667, 66.26966825,\n",
       "       66.26966825, 66.26966825, 66.26966825, 66.26966825, 66.35481928,\n",
       "       66.35481928, 66.35481928, 66.35481928, 66.35481928, 66.35481928,\n",
       "       66.35481928, 66.35481928, 66.35481928, 66.36513761, 66.36513761,\n",
       "       66.36513761, 66.36513761, 66.36513761, 66.36513761, 66.36513761,\n",
       "       66.36513761, 66.36513761, 65.99259259, 65.99259259, 66.36513761,\n",
       "       66.36513761, 66.36513761, 66.36513761, 66.36513761, 66.36513761,\n",
       "       65.55833333, 65.55833333, 65.55833333, 65.55833333, 65.55833333,\n",
       "       65.55833333, 65.21690141, 65.21690141, 65.21690141, 65.21690141,\n",
       "       65.21690141, 65.36296296, 65.36296296, 65.36296296, 65.36296296,\n",
       "       64.22962963, 64.22962963, 64.22962963, 64.22962963, 64.22962963,\n",
       "       65.2943662 , 65.2943662 , 65.2943662 , 65.2943662 , 65.2943662 ,\n",
       "       65.2943662 , 65.2943662 , 65.2943662 , 65.2943662 , 65.2943662 ,\n",
       "       65.2943662 , 65.2943662 , 65.2943662 , 65.2943662 , 64.42121212,\n",
       "       63.51176471, 63.51176471, 65.11      , 65.11      , 65.15657895,\n",
       "       65.15657895, 65.15657895, 64.22962963, 64.22962963])"
      ]
     },
     "execution_count": 49,
     "metadata": {},
     "output_type": "execute_result"
    }
   ],
   "source": [
    "predicted_heights = galton.apply(predict, 'midparentHeight')\n",
    "predicted_heights"
   ]
  },
  {
   "cell_type": "code",
   "execution_count": 50,
   "metadata": {},
   "outputs": [
    {
     "data": {
      "text/html": [
       "<table border=\"1\" class=\"dataframe\">\n",
       "    <thead>\n",
       "        <tr>\n",
       "            <th>family</th> <th>father</th> <th>mother</th> <th>midparentHeight</th> <th>children</th> <th>childNum</th> <th>gender</th> <th>childHeight</th> <th>predictedHeight</th>\n",
       "        </tr>\n",
       "    </thead>\n",
       "    <tbody>\n",
       "        <tr>\n",
       "            <td>1     </td> <td>78.5  </td> <td>67    </td> <td>75.43          </td> <td>4       </td> <td>1       </td> <td>male  </td> <td>73.2       </td> <td>70.1           </td>\n",
       "        </tr>\n",
       "        <tr>\n",
       "            <td>1     </td> <td>78.5  </td> <td>67    </td> <td>75.43          </td> <td>4       </td> <td>2       </td> <td>female</td> <td>69.2       </td> <td>70.1           </td>\n",
       "        </tr>\n",
       "        <tr>\n",
       "            <td>1     </td> <td>78.5  </td> <td>67    </td> <td>75.43          </td> <td>4       </td> <td>3       </td> <td>female</td> <td>69         </td> <td>70.1           </td>\n",
       "        </tr>\n",
       "        <tr>\n",
       "            <td>1     </td> <td>78.5  </td> <td>67    </td> <td>75.43          </td> <td>4       </td> <td>4       </td> <td>female</td> <td>69         </td> <td>70.1           </td>\n",
       "        </tr>\n",
       "        <tr>\n",
       "            <td>2     </td> <td>75.5  </td> <td>66.5  </td> <td>73.66          </td> <td>4       </td> <td>1       </td> <td>male  </td> <td>73.5       </td> <td>70.4158        </td>\n",
       "        </tr>\n",
       "        <tr>\n",
       "            <td>2     </td> <td>75.5  </td> <td>66.5  </td> <td>73.66          </td> <td>4       </td> <td>2       </td> <td>male  </td> <td>72.5       </td> <td>70.4158        </td>\n",
       "        </tr>\n",
       "        <tr>\n",
       "            <td>2     </td> <td>75.5  </td> <td>66.5  </td> <td>73.66          </td> <td>4       </td> <td>3       </td> <td>female</td> <td>65.5       </td> <td>70.4158        </td>\n",
       "        </tr>\n",
       "        <tr>\n",
       "            <td>2     </td> <td>75.5  </td> <td>66.5  </td> <td>73.66          </td> <td>4       </td> <td>4       </td> <td>female</td> <td>65.5       </td> <td>70.4158        </td>\n",
       "        </tr>\n",
       "        <tr>\n",
       "            <td>3     </td> <td>75    </td> <td>64    </td> <td>72.06          </td> <td>2       </td> <td>1       </td> <td>male  </td> <td>71         </td> <td>68.5025        </td>\n",
       "        </tr>\n",
       "        <tr>\n",
       "            <td>3     </td> <td>75    </td> <td>64    </td> <td>72.06          </td> <td>2       </td> <td>2       </td> <td>female</td> <td>68         </td> <td>68.5025        </td>\n",
       "        </tr>\n",
       "    </tbody>\n",
       "</table>\n",
       "<p>... (924 rows omitted)</p>"
      ],
      "text/plain": [
       "family | father | mother | midparentHeight | children | childNum | gender | childHeight | predictedHeight\n",
       "1      | 78.5   | 67     | 75.43           | 4        | 1        | male   | 73.2        | 70.1\n",
       "1      | 78.5   | 67     | 75.43           | 4        | 2        | female | 69.2        | 70.1\n",
       "1      | 78.5   | 67     | 75.43           | 4        | 3        | female | 69          | 70.1\n",
       "1      | 78.5   | 67     | 75.43           | 4        | 4        | female | 69          | 70.1\n",
       "2      | 75.5   | 66.5   | 73.66           | 4        | 1        | male   | 73.5        | 70.4158\n",
       "2      | 75.5   | 66.5   | 73.66           | 4        | 2        | male   | 72.5        | 70.4158\n",
       "2      | 75.5   | 66.5   | 73.66           | 4        | 3        | female | 65.5        | 70.4158\n",
       "2      | 75.5   | 66.5   | 73.66           | 4        | 4        | female | 65.5        | 70.4158\n",
       "3      | 75     | 64     | 72.06           | 2        | 1        | male   | 71          | 68.5025\n",
       "3      | 75     | 64     | 72.06           | 2        | 2        | female | 68          | 68.5025\n",
       "... (924 rows omitted)"
      ]
     },
     "execution_count": 50,
     "metadata": {},
     "output_type": "execute_result"
    }
   ],
   "source": [
    "galton = galton.with_column('predictedHeight', predicted_heights)\n",
    "galton"
   ]
  },
  {
   "cell_type": "code",
   "execution_count": 51,
   "metadata": {
    "scrolled": false
   },
   "outputs": [
    {
     "data": {
      "image/png": "[encoded data removed]",
      "text/plain": [
       "<Figure size 360x360 with 1 Axes>"
      ]
     },
     "metadata": {},
     "output_type": "display_data"
    }
   ],
   "source": [
    "galton.select(\n",
    "    'midparentHeight', 'childHeight', 'predictedHeight').scatter('midparentHeight')"
   ]
  },
  {
   "cell_type": "markdown",
   "metadata": {},
   "source": [
    "Galton's calculations and visulaizations were similar to ours (except he had pencil and paper, not Python). He noticed the correlation between parents height and childrens height.  He noticed the averages through the scatter plot was roughly a straight line.  We know this line to be a *regression line* and is one of the most common methods of making predictions."
   ]
  },
  {
   "cell_type": "markdown",
   "metadata": {},
   "source": [
    "## Prediction Accuracy\n",
    "How close is the regression line to the actual child height?  How close the line is to each true value will give us some insight in prediction accuracy and the uncertanity of our model.\n",
    "\n",
    "Lets create a function to measure the accuacy of the predicted height to the actual height and apply the function to our data."
   ]
  },
  {
   "cell_type": "code",
   "execution_count": 52,
   "metadata": {},
   "outputs": [],
   "source": [
    "def difference(x, y):\n",
    "    return x - y"
   ]
  },
  {
   "cell_type": "code",
   "execution_count": 53,
   "metadata": {},
   "outputs": [
    {
     "data": {
      "text/plain": [
       "array([-3.10000000e+00,  9.00000000e-01,  1.10000000e+00,  1.10000000e+00,\n",
       "       -3.08421053e+00, -2.08421053e+00,  4.91578947e+00,  4.91578947e+00,\n",
       "       -2.49750000e+00,  5.02500000e-01, -1.99750000e+00,  2.50000000e-03,\n",
       "        1.50250000e+00,  4.00250000e+00,  5.50250000e+00, -5.56850394e+00,\n",
       "       -2.56850394e+00, -1.56850394e+00, -6.85039370e-02,  3.93149606e+00,\n",
       "        3.93149606e+00,  9.15789474e-01, -6.08421053e+00, -3.58421053e+00,\n",
       "       -2.58421053e+00, -2.58421053e+00, -8.42105263e-02,  6.41578947e+00,\n",
       "       -1.31428571e+00,  1.18571429e+00,  3.18571429e+00,  3.18571429e+00,\n",
       "        3.16052632e+00, -6.36576087e+00, -2.36576087e+00, -3.65760870e-01,\n",
       "        6.34239130e-01,  6.34239130e-01,  1.63423913e+00,  4.13423913e+00,\n",
       "        4.63423913e+00,  2.37410714e+00, -2.22571429e+00,  6.77428571e+00,\n",
       "        7.74285714e-01,  1.77428571e+00, -2.40769231e+00, -1.90769231e+00,\n",
       "        1.89230769e+00, -3.92676056e+00, -2.42676056e+00, -2.12676056e+00,\n",
       "       -2.12676056e+00, -1.12676056e+00, -6.26760563e-01,  1.57323944e+00,\n",
       "        3.57323944e+00,  4.57323944e+00, -5.94534884e+00, -4.94534884e+00,\n",
       "       -3.44534884e+00,  5.55465116e+00,  1.55465116e+00,  5.75465116e+00,\n",
       "        1.56276596e+00,  3.06276596e+00,  3.56276596e+00,  5.01678832e+00,\n",
       "       -2.78421053e+00, -2.58421053e+00, -2.28421053e+00,  4.15789474e-01,\n",
       "        1.41578947e+00,  1.91578947e+00,  2.41578947e+00,  4.41578947e+00,\n",
       "       -4.37187500e+00,  1.28125000e-01,  6.28125000e-01, -4.45806452e+00,\n",
       "       -2.45806452e+00,  1.54193548e+00, -6.53058824e+00, -2.83058824e+00,\n",
       "       -1.83058824e+00,  1.66941176e+00,  2.16941176e+00,  2.66941176e+00,\n",
       "        2.66941176e+00,  2.55357143e+00,  1.63352941e+00,  4.63352941e+00,\n",
       "       -3.13644444e+00, -3.13644444e+00, -1.63644444e+00,  2.36355556e+00,\n",
       "        4.36355556e+00, -1.63644444e+00,  3.63555556e-01,  4.36355556e+00,\n",
       "       -5.63644444e+00,  3.63555556e-01, -3.13644444e+00, -2.63644444e+00,\n",
       "        8.63555556e-01,  4.36355556e+00,  1.33529412e-01,  4.33529412e-01,\n",
       "        9.33529412e-01,  2.75884956e+00, -3.88744939e+00, -2.88744939e+00,\n",
       "       -2.88744939e+00,  1.11255061e+00,  2.11255061e+00,  2.11255061e+00,\n",
       "       -7.24115044e+00, -5.24115044e+00, -2.24115044e+00, -7.41150442e-01,\n",
       "        3.25884956e+00, -5.24115044e+00, -4.74115044e+00, -4.74115044e+00,\n",
       "       -3.24115044e+00, -1.24115044e+00,  5.36475410e-01, -9.37187500e+00,\n",
       "       -5.37187500e+00, -4.37187500e+00, -3.37187500e+00,  1.62812500e+00,\n",
       "       -5.22666667e+00, -5.02666667e+00, -1.02666667e+00,  9.73333333e-01,\n",
       "       -2.15000000e+00,  8.50000000e-01,  8.50000000e-01,  1.35000000e+00,\n",
       "       -2.15000000e+00, -1.15000000e+00, -6.50000000e-01,  1.85000000e+00,\n",
       "        3.35000000e+00,  4.85000000e+00, -3.15000000e+00,  8.50000000e-01,\n",
       "       -8.15000000e+00, -4.15000000e+00, -3.15000000e+00,  1.85000000e+00,\n",
       "        1.85000000e+00, -2.52705882e+00, -4.13388430e+00, -4.13388430e+00,\n",
       "       -3.13388430e+00, -1.13388430e+00,  1.86611570e+00,  2.86611570e+00,\n",
       "       -5.20659341e+00,  2.59340659e+00, -7.46153846e-01,  5.38461538e-02,\n",
       "       -3.27950311e-01, -3.27950311e-01,  5.67204969e+00, -6.15348837e-01,\n",
       "       -6.15348837e-01, -1.15348837e-01,  8.84651163e-01,  8.84651163e-01,\n",
       "        1.38465116e+00,  1.88465116e+00,  2.38465116e+00, -4.21680672e+00,\n",
       "       -3.21680672e+00, -2.71680672e+00,  7.83193277e-01, -6.15348837e-01,\n",
       "       -6.15348837e-01, -6.15348837e-01, -4.37530864e+00, -3.37530864e+00,\n",
       "       -2.37530864e+00,  1.62469136e+00,  3.12469136e+00,  3.12469136e+00,\n",
       "        5.62469136e+00, -5.46184971e+00,  5.53815029e+00, -6.06694561e-01,\n",
       "        2.39330544e+00, -3.88640351e+00,  1.13596491e-01,  1.11359649e+00,\n",
       "        2.11359649e+00,  3.61359649e+00, -4.25742574e+00, -3.25742574e+00,\n",
       "       -3.25742574e+00,  2.74257426e+00,  1.74257426e+00,  1.74257426e+00,\n",
       "        2.74257426e+00,  3.74257426e+00,  3.74257426e+00, -4.25742574e+00,\n",
       "       -4.25742574e+00, -3.25742574e+00,  3.24257426e+00, -4.74609053e+00,\n",
       "       -3.74609053e+00,  1.75390947e+00,  3.75390947e+00,  4.75390947e+00,\n",
       "       -5.74609053e+00, -4.24609053e+00, -4.24609053e+00,  1.75390947e+00,\n",
       "        6.25390947e+00, -3.54117647e+00,  2.45882353e+00,  2.45882353e+00,\n",
       "        2.45882353e+00,  3.95882353e+00, -4.24609053e+00, -3.74609053e+00,\n",
       "       -2.74609053e+00, -2.74609053e+00,  2.53909465e-01,  1.75390947e+00,\n",
       "        2.25390947e+00,  4.08640777e+00, -6.18426966e+00, -3.68426966e+00,\n",
       "       -2.96666667e+00, -1.96666667e+00, -9.66666667e-01, -9.66666667e-01,\n",
       "       -1.96666667e+00, -6.66666667e-01,  3.33333333e-02,  2.03333333e+00,\n",
       "        4.03333333e+00,  6.03333333e+00, -6.58809524e+00, -2.09302326e+00,\n",
       "       -1.09302326e+00,  1.90697674e+00,  3.90697674e+00,  7.90697674e+00,\n",
       "        4.06976744e-01, -5.19304348e+00, -4.19304348e+00, -4.19304348e+00,\n",
       "        1.30695652e+00, -1.39304348e+00,  6.06956522e-01,  1.30695652e+00,\n",
       "        1.80695652e+00,  1.80695652e+00,  3.60695652e+00,  4.10695652e+00,\n",
       "       -4.46184971e+00, -2.66184971e+00, -1.46184971e+00, -9.61849711e-01,\n",
       "       -4.61849711e-01,  2.53815029e+00,  6.03815029e+00,  6.53815029e+00,\n",
       "        6.53815029e+00, -5.56113990e+00, -4.56113990e+00, -3.06113990e+00,\n",
       "        2.43886010e+00,  2.43886010e+00,  2.93886010e+00,  4.43886010e+00,\n",
       "        5.43886010e+00,  4.38860104e-01,  2.43886010e+00,  2.93886010e+00,\n",
       "        4.93886010e+00,  4.93886010e+00, -2.56113990e+00, -2.56113990e+00,\n",
       "        4.38860104e-01,  2.43886010e+00,  2.43886010e+00,  4.43886010e+00,\n",
       "       -1.15611399e+01, -7.56113990e+00, -3.56113990e+00, -1.56113990e+00,\n",
       "        4.38860104e-01,  1.73886010e+00,  5.43886010e+00, -5.56113990e+00,\n",
       "       -5.06113990e+00,  2.43886010e+00, -1.56113990e+00, -1.56113990e+00,\n",
       "       -4.62589286e+00, -2.62589286e+00, -1.32589286e+00,  8.74107143e-01,\n",
       "        1.87410714e+00,  2.67410714e+00,  2.87410714e+00, -3.83076923e+00,\n",
       "       -3.13076923e+00, -1.13076923e+00, -1.30769231e-01,  8.69230769e-01,\n",
       "        1.86923077e+00, -1.30769231e-01, -3.13076923e+00, -1.13076923e+00,\n",
       "        1.69230769e-01,  1.36923077e+00, -5.02537879e+00, -3.02537879e+00,\n",
       "        4.47462121e+00,  5.77462121e+00,  6.87462121e+00, -6.89107143e+00,\n",
       "       -2.39107143e+00, -1.89107143e+00, -8.91071429e-01, -8.91071429e-01,\n",
       "       -8.91071429e-01,  1.60892857e+00,  2.10892857e+00,  7.34093264e+00,\n",
       "       -1.13076923e+00,  1.86923077e+00,  2.86923077e+00,  4.86923077e+00,\n",
       "       -4.13076923e+00, -3.13076923e+00, -3.13076923e+00, -3.13076923e+00,\n",
       "       -2.63076923e+00, -1.63076923e+00, -2.13076923e+00,  1.86923077e+00,\n",
       "        2.86923077e+00, -3.25890411e+00, -2.58904110e-01,  1.24109589e+00,\n",
       "        3.04109589e+00,  3.54109589e+00,  4.24109589e+00,  4.54109589e+00,\n",
       "        5.74109589e+00, -3.54117647e+00, -2.04117647e+00,  9.58823529e-01,\n",
       "        2.95882353e+00, -6.04117647e+00, -2.54117647e+00, -5.41176471e-01,\n",
       "        1.95882353e+00,  2.45882353e+00, -4.54117647e+00, -1.04117647e+00,\n",
       "       -1.04117647e+00,  2.95882353e+00, -1.61141732e+00, -6.11417323e-01,\n",
       "        2.68858268e+00,  4.38858268e+00, -3.61141732e+00, -1.11417323e-01,\n",
       "        4.38858268e+00,  5.38858268e+00, -5.82719298e+00, -3.82719298e+00,\n",
       "       -3.32719298e+00, -3.32719298e+00, -1.82719298e+00,  1.17280702e+00,\n",
       "        2.17280702e+00,  3.17280702e+00, -4.31141732e+00, -3.31141732e+00,\n",
       "       -2.81141732e+00,  1.18858268e+00,  2.38858268e+00,  2.88858268e+00,\n",
       "        3.18858268e+00, -5.82719298e+00, -5.82719298e+00,  6.17280702e+00,\n",
       "       -5.03812950e+00, -8.38129496e-01, -1.25760870e+00,  1.24239130e+00,\n",
       "        7.42391304e-01,  2.74239130e+00,  7.42391304e-01,  7.42391304e-01,\n",
       "       -6.29350649e+00,  7.06493506e-01,  2.20649351e+00, -7.08500000e+00,\n",
       "       -1.08500000e+00, -1.08500000e+00, -8.50000000e-02,  1.91500000e+00,\n",
       "       -7.01194030e+00, -3.01194030e+00, -2.01194030e+00,  1.98805970e+00,\n",
       "        1.98805970e+00,  2.48805970e+00,  2.98805970e+00,  2.98805970e+00,\n",
       "        3.98805970e+00,  3.98805970e+00,  3.78319328e+00, -5.52446809e+00,\n",
       "       -4.52446809e+00, -4.22446809e+00, -4.02446809e+00,  1.97553191e+00,\n",
       "        2.47553191e+00,  4.77553191e+00,  4.97553191e+00, -3.72446809e+00,\n",
       "       -3.52446809e+00, -2.52446809e+00, -7.36576087e+00, -6.36576087e+00,\n",
       "       -4.36576087e+00, -8.65760870e-01, -2.52446809e+00, -1.02446809e+00,\n",
       "       -5.24468085e-01,  2.47553191e+00,  4.47553191e+00,  4.97553191e+00,\n",
       "       -5.40165746e+00, -3.40165746e+00, -2.90165746e+00, -2.90165746e+00,\n",
       "        5.98342541e-01,  1.59834254e+00,  6.59834254e+00, -2.70538462e+00,\n",
       "        2.94615385e-01,  3.29461538e+00,  3.79461538e+00, -3.40165746e+00,\n",
       "       -9.01657459e-01,  9.83425414e-02,  1.59834254e+00,  4.59834254e+00,\n",
       "        4.59834254e+00, -3.40165746e+00, -3.40165746e+00, -2.90165746e+00,\n",
       "       -2.90165746e+00,  1.09834254e+00,  2.09834254e+00,  3.09834254e+00,\n",
       "       -5.52446809e+00, -4.52446809e+00, -1.52446809e+00, -1.52446809e+00,\n",
       "        9.75531915e-01,  1.97553191e+00,  1.97553191e+00,  2.47553191e+00,\n",
       "        3.47553191e+00, -3.15280374e+00, -1.65280374e+00, -1.52803738e-01,\n",
       "        1.84719626e+00,  2.84719626e+00,  3.34719626e+00,  5.84719626e+00,\n",
       "       -2.82420091e+00, -1.12420091e+00,  6.87579909e+00,  1.67579909e+00,\n",
       "        2.37579909e+00,  3.17579909e+00,  6.87579909e+00, -5.21481481e+00,\n",
       "       -1.48148148e-02,  1.48518519e+00,  2.98518519e+00,  7.24888889e-01,\n",
       "       -2.96454545e+00, -1.46454545e+00,  2.53545455e+00, -5.96454545e+00,\n",
       "       -6.96454545e+00, -3.96454545e+00, -3.96454545e+00,  2.03545455e+00,\n",
       "        3.54545455e-02,  4.03545455e+00, -4.27511111e+00, -7.75111111e-01,\n",
       "        2.24888889e-01,  1.22488889e+00,  3.22488889e+00,  4.22488889e+00,\n",
       "        5.22488889e+00, -4.27511111e+00,  2.52488889e+00,  3.22488889e+00,\n",
       "        3.72328042e+00, -6.71807910e+00, -5.71807910e+00, -2.71807910e+00,\n",
       "       -6.75954198e+00, -4.75954198e+00, -4.75954198e+00, -2.75954198e+00,\n",
       "        3.24045802e+00, -5.71807910e+00, -3.71807910e+00, -1.51807910e+00,\n",
       "        1.08192090e+00,  1.58192090e+00,  1.78192090e+00,  2.78192090e+00,\n",
       "        2.78192090e+00,  3.78192090e+00,  4.28192090e+00,  4.78192090e+00,\n",
       "       -4.63351064e+00, -3.63351064e+00, -3.63351064e+00, -2.63351064e+00,\n",
       "        2.86648936e+00,  3.86648936e+00,  3.86648936e+00,  4.36648936e+00,\n",
       "       -5.75954198e+00, -1.75954198e+00,  2.40458015e-01,  2.40458015e-01,\n",
       "       -3.86923077e+00, -3.36923077e+00, -2.86923077e+00,  3.13076923e+00,\n",
       "        4.13076923e+00, -2.23411765e+00, -2.23411765e+00, -1.73411765e+00,\n",
       "        1.76588235e+00,  2.76588235e+00,  2.76588235e+00,  2.26588235e+00,\n",
       "        3.76588235e+00,  3.76588235e+00, -5.24880952e+00, -2.74880952e+00,\n",
       "        2.75119048e+00, -3.74880952e+00, -7.48809524e-01,  3.55119048e+00,\n",
       "        4.75119048e+00, -3.85063291e+00, -2.43809524e+00,  6.86190476e+00,\n",
       "       -5.38750000e+00, -3.38750000e+00,  6.12500000e-01, -2.52446809e+00,\n",
       "       -1.52446809e+00, -1.52446809e+00, -1.22446809e+00, -1.02446809e+00,\n",
       "       -1.02446809e+00, -5.24468085e-01, -5.24468085e-01, -5.24468085e-01,\n",
       "        1.27553191e+00,  4.27553191e+00, -1.06850394e+00,  4.31496063e-01,\n",
       "        7.10526316e-01,  2.71052632e+00, -4.98947368e+00, -4.78947368e+00,\n",
       "       -3.98947368e+00,  1.21052632e+00,  2.10526316e-01,  1.51052632e+00,\n",
       "        5.21052632e+00, -5.56850394e+00, -5.56850394e+00, -1.56850394e+00,\n",
       "        4.31496063e-01, -2.59958159e+00, -1.39958159e+00,  6.00418410e-01,\n",
       "        6.00418410e-01,  4.60041841e+00,  5.10041841e+00,  5.60041841e+00,\n",
       "        6.60041841e+00, -5.39958159e+00, -3.89958159e+00, -2.09958159e+00,\n",
       "       -1.89958159e+00, -1.09958159e+00,  2.60041841e+00,  3.10041841e+00,\n",
       "        3.60041841e+00, -4.98250000e+00, -1.98250000e+00, -1.98250000e+00,\n",
       "       -9.82500000e-01,  1.01750000e+00,  2.01750000e+00,  3.01750000e+00,\n",
       "        3.01750000e+00,  4.01750000e+00,  5.01750000e+00,  1.75000000e-02,\n",
       "        3.01750000e+00,  5.17500000e-01,  4.01750000e+00, -5.18250000e+00,\n",
       "       -5.18250000e+00, -2.98250000e+00, -2.48250000e+00,  3.51750000e+00,\n",
       "        4.24497817e+00, -2.98250000e+00, -9.82500000e-01,  1.75000000e-02,\n",
       "        1.75000000e-02,  1.75000000e-02,  1.01750000e+00,  1.01750000e+00,\n",
       "        1.01750000e+00,  2.01750000e+00,  3.01750000e+00, -4.25954198e+00,\n",
       "       -3.75954198e+00, -1.75954198e+00,  2.40458015e-01,  2.40458015e-01,\n",
       "        2.40458015e-01,  4.24045802e+00,  4.74045802e+00, -7.48250000e+00,\n",
       "       -3.98250000e+00, -3.48250000e+00,  5.17500000e-01, -7.59541985e-01,\n",
       "       -3.75954198e+00, -1.75954198e+00,  1.74045802e+00,  2.24045802e+00,\n",
       "       -4.75954198e+00, -1.75954198e+00,  2.40458015e-01,  7.40458015e-01,\n",
       "        1.24045802e+00,  3.24045802e+00,  4.24045802e+00,  4.24045802e+00,\n",
       "       -7.59541985e-01, -7.59541985e-01,  2.40458015e-01,  2.24045802e+00,\n",
       "        2.74045802e+00,  5.24045802e+00, -2.18250000e+00, -3.75954198e+00,\n",
       "       -3.91359223e+00, -2.91359223e+00, -9.13592233e-01,  5.86407767e-01,\n",
       "        1.58640777e+00, -2.42460317e+00, -1.53095238e+00,  4.46904762e+00,\n",
       "       -4.24603175e-01, -2.83417722e+00, -2.33417722e+00,  1.66582278e+00,\n",
       "        2.16582278e+00,  2.66582278e+00, -1.48309859e+00,  1.26346154e+00,\n",
       "        4.26346154e+00,  4.26346154e+00,  5.26346154e+00,  5.26346154e+00,\n",
       "        5.26346154e+00,  9.26346154e+00, -2.23653846e+00, -1.73653846e+00,\n",
       "       -1.23653846e+00,  5.26346154e+00, -4.17454545e+00, -2.63200000e+00,\n",
       "        3.68000000e-01,  6.68000000e-01,  1.36800000e+00,  1.36800000e+00,\n",
       "        2.36800000e+00,  3.68000000e-01,  3.68000000e-01,  3.36800000e+00,\n",
       "        4.36800000e+00, -6.24117647e+00, -6.24117647e+00, -5.04117647e+00,\n",
       "        9.58823529e-01,  2.95882353e+00, -4.25890411e+00, -6.54370079e+00,\n",
       "       -4.54370079e+00, -4.24370079e+00, -3.54370079e+00, -2.54370079e+00,\n",
       "       -1.54370079e+00,  9.56299213e-01,  4.45629921e+00, -3.71732673e+00,\n",
       "       -1.51732673e+00,  4.82673267e-01,  9.82673267e-01,  1.48267327e+00,\n",
       "        2.48267327e+00, -3.68644068e+00, -2.68644068e+00,  8.13559322e-01,\n",
       "        8.13559322e-01,  3.31355932e+00, -3.68644068e+00, -1.38644068e+00,\n",
       "        3.31355932e+00,  6.31355932e+00,  9.82673267e-01,  3.98267327e+00,\n",
       "        3.98267327e+00, -4.73859649e+00, -2.73859649e+00,  2.26140351e+00,\n",
       "        2.26140351e+00,  3.26140351e+00,  3.26140351e+00,  3.26140351e+00,\n",
       "        3.26140351e+00,  3.26140351e+00,  3.76140351e+00,  4.26140351e+00,\n",
       "       -5.05804196e+00, -3.55804196e+00, -5.58041958e-01, -5.58041958e-01,\n",
       "       -4.87656250e+00, -4.07656250e+00, -3.07656250e+00, -2.37656250e+00,\n",
       "       -1.87656250e+00, -8.76562500e-01,  6.23437500e-01,  2.62343750e+00,\n",
       "       -2.70476190e+00, -1.70476190e+00,  3.29523810e+00, -4.28809524e+00,\n",
       "       -3.78809524e+00, -3.28809524e+00, -2.78809524e+00, -2.88095238e-01,\n",
       "       -1.71355932e+00, -4.04153226e+00, -4.04153226e+00, -5.41532258e-01,\n",
       "        4.58467742e-01,  4.58467742e-01,  4.45846774e+00,  4.45846774e+00,\n",
       "        4.95846774e+00, -5.54153226e+00,  1.45846774e+00,  1.45846774e+00,\n",
       "       -5.41532258e-01,  2.45846774e+00,  2.45846774e+00,  4.45846774e+00,\n",
       "        6.45846774e+00,  6.45846774e+00,  5.76923077e-02,  1.05769231e+00,\n",
       "       -9.42307692e-01, -4.42307692e-01,  5.57692308e-01, -5.94230769e+00,\n",
       "       -1.94230769e+00,  5.76923077e-02,  1.05769231e+00,  4.05769231e+00,\n",
       "        5.05769231e+00, -2.48297872e+00, -2.28297872e+00, -2.82978723e-01,\n",
       "        1.71702128e+00,  3.71702128e+00,  5.71702128e+00,  5.71702128e+00,\n",
       "        8.71702128e+00, -5.88793970e+00, -4.88793970e+00, -8.87939698e-01,\n",
       "        1.12060302e-01,  1.11206030e+00, -4.47790698e+00,  1.11341463e+00,\n",
       "        3.61341463e+00, -1.44651163e+00, -1.24651163e+00,  7.53488372e-01,\n",
       "        7.53488372e-01,  7.53488372e-01,  2.75348837e+00, -4.46436782e+00,\n",
       "       -2.46436782e+00,  2.03563218e+00,  3.03563218e+00,  3.03563218e+00,\n",
       "        3.03563218e+00,  3.03563218e+00, -5.30344828e+00, -3.24166667e+00,\n",
       "       -2.24166667e+00, -2.41666667e-01,  4.75833333e+00, -2.41666667e-01,\n",
       "       -4.03333333e+00, -3.03333333e+00, -2.53333333e+00, -2.03333333e+00,\n",
       "       -1.73333333e+00, -1.53333333e+00, -1.03333333e+00, -1.03333333e+00,\n",
       "       -3.33333333e-02,  9.66666667e-01,  1.96666667e+00,  2.96666667e+00,\n",
       "        3.96666667e+00,  5.96666667e+00,  6.96666667e+00, -2.30331754e-01,\n",
       "        2.69668246e-01,  2.69668246e-01,  1.26966825e+00,  3.26966825e+00,\n",
       "        3.35481928e+00,  3.35481928e+00,  3.35481928e+00,  6.35481928e+00,\n",
       "       -6.45180723e-01,  3.54819277e-01,  1.35481928e+00,  1.35481928e+00,\n",
       "        5.35481928e+00, -2.63486239e+00, -1.63486239e+00, -1.63486239e+00,\n",
       "        1.36513761e+00,  1.36513761e+00,  4.36513761e+00,  4.36513761e+00,\n",
       "        5.36513761e+00,  7.36513761e+00, -4.70740741e+00,  4.92592593e-01,\n",
       "       -2.83486239e+00, -2.63486239e+00, -1.63486239e+00, -1.33486239e+00,\n",
       "        1.86513761e+00,  5.86513761e+00, -1.44166667e+00, -1.44166667e+00,\n",
       "        1.55833333e+00,  1.55833333e+00,  3.05833333e+00,  5.05833333e+00,\n",
       "       -4.78309859e+00,  2.21690141e+00, -7.83098592e-01, -7.83098592e-01,\n",
       "        2.21690141e+00, -5.63703704e+00, -5.63703704e+00, -3.63703704e+00,\n",
       "        1.86296296e+00, -3.77037037e+00, -3.77037037e+00, -2.77037037e+00,\n",
       "       -2.77037037e+00,  2.22962963e+00, -6.20563380e+00, -2.70563380e+00,\n",
       "       -2.05633803e-01,  1.29436620e+00,  3.29436620e+00,  3.29436620e+00,\n",
       "        4.29436620e+00, -5.20563380e+00, -2.70563380e+00, -1.70563380e+00,\n",
       "        2.94366197e-01,  1.29436620e+00,  1.29436620e+00,  5.29436620e+00,\n",
       "       -7.87878788e-02, -2.48823529e+00,  3.51176471e+00, -3.39000000e+00,\n",
       "        1.61000000e+00,  1.15657895e+00,  3.15657895e+00,  4.15657895e+00,\n",
       "       -2.27037037e+00,  7.22962963e+00])"
      ]
     },
     "execution_count": 53,
     "metadata": {},
     "output_type": "execute_result"
    }
   ],
   "source": [
    "pred_errs = galton.apply(difference, 'predictedHeight', 'childHeight')\n",
    "pred_errs"
   ]
  },
  {
   "cell_type": "code",
   "execution_count": 54,
   "metadata": {},
   "outputs": [
    {
     "data": {
      "text/html": [
       "<table border=\"1\" class=\"dataframe\">\n",
       "    <thead>\n",
       "        <tr>\n",
       "            <th>family</th> <th>father</th> <th>mother</th> <th>midparentHeight</th> <th>children</th> <th>childNum</th> <th>gender</th> <th>childHeight</th> <th>predictedHeight</th> <th>errors</th>\n",
       "        </tr>\n",
       "    </thead>\n",
       "    <tbody>\n",
       "        <tr>\n",
       "            <td>1     </td> <td>78.5  </td> <td>67    </td> <td>75.43          </td> <td>4       </td> <td>1       </td> <td>male  </td> <td>73.2       </td> <td>70.1           </td> <td>-3.1    </td>\n",
       "        </tr>\n",
       "        <tr>\n",
       "            <td>1     </td> <td>78.5  </td> <td>67    </td> <td>75.43          </td> <td>4       </td> <td>2       </td> <td>female</td> <td>69.2       </td> <td>70.1           </td> <td>0.9     </td>\n",
       "        </tr>\n",
       "        <tr>\n",
       "            <td>1     </td> <td>78.5  </td> <td>67    </td> <td>75.43          </td> <td>4       </td> <td>3       </td> <td>female</td> <td>69         </td> <td>70.1           </td> <td>1.1     </td>\n",
       "        </tr>\n",
       "        <tr>\n",
       "            <td>1     </td> <td>78.5  </td> <td>67    </td> <td>75.43          </td> <td>4       </td> <td>4       </td> <td>female</td> <td>69         </td> <td>70.1           </td> <td>1.1     </td>\n",
       "        </tr>\n",
       "        <tr>\n",
       "            <td>2     </td> <td>75.5  </td> <td>66.5  </td> <td>73.66          </td> <td>4       </td> <td>1       </td> <td>male  </td> <td>73.5       </td> <td>70.4158        </td> <td>-3.08421</td>\n",
       "        </tr>\n",
       "        <tr>\n",
       "            <td>2     </td> <td>75.5  </td> <td>66.5  </td> <td>73.66          </td> <td>4       </td> <td>2       </td> <td>male  </td> <td>72.5       </td> <td>70.4158        </td> <td>-2.08421</td>\n",
       "        </tr>\n",
       "        <tr>\n",
       "            <td>2     </td> <td>75.5  </td> <td>66.5  </td> <td>73.66          </td> <td>4       </td> <td>3       </td> <td>female</td> <td>65.5       </td> <td>70.4158        </td> <td>4.91579 </td>\n",
       "        </tr>\n",
       "        <tr>\n",
       "            <td>2     </td> <td>75.5  </td> <td>66.5  </td> <td>73.66          </td> <td>4       </td> <td>4       </td> <td>female</td> <td>65.5       </td> <td>70.4158        </td> <td>4.91579 </td>\n",
       "        </tr>\n",
       "        <tr>\n",
       "            <td>3     </td> <td>75    </td> <td>64    </td> <td>72.06          </td> <td>2       </td> <td>1       </td> <td>male  </td> <td>71         </td> <td>68.5025        </td> <td>-2.4975 </td>\n",
       "        </tr>\n",
       "        <tr>\n",
       "            <td>3     </td> <td>75    </td> <td>64    </td> <td>72.06          </td> <td>2       </td> <td>2       </td> <td>female</td> <td>68         </td> <td>68.5025        </td> <td>0.5025  </td>\n",
       "        </tr>\n",
       "    </tbody>\n",
       "</table>\n",
       "<p>... (924 rows omitted)</p>"
      ],
      "text/plain": [
       "family | father | mother | midparentHeight | children | childNum | gender | childHeight | predictedHeight | errors\n",
       "1      | 78.5   | 67     | 75.43           | 4        | 1        | male   | 73.2        | 70.1            | -3.1\n",
       "1      | 78.5   | 67     | 75.43           | 4        | 2        | female | 69.2        | 70.1            | 0.9\n",
       "1      | 78.5   | 67     | 75.43           | 4        | 3        | female | 69          | 70.1            | 1.1\n",
       "1      | 78.5   | 67     | 75.43           | 4        | 4        | female | 69          | 70.1            | 1.1\n",
       "2      | 75.5   | 66.5   | 73.66           | 4        | 1        | male   | 73.5        | 70.4158         | -3.08421\n",
       "2      | 75.5   | 66.5   | 73.66           | 4        | 2        | male   | 72.5        | 70.4158         | -2.08421\n",
       "2      | 75.5   | 66.5   | 73.66           | 4        | 3        | female | 65.5        | 70.4158         | 4.91579\n",
       "2      | 75.5   | 66.5   | 73.66           | 4        | 4        | female | 65.5        | 70.4158         | 4.91579\n",
       "3      | 75     | 64     | 72.06           | 2        | 1        | male   | 71          | 68.5025         | -2.4975\n",
       "3      | 75     | 64     | 72.06           | 2        | 2        | female | 68          | 68.5025         | 0.5025\n",
       "... (924 rows omitted)"
      ]
     },
     "execution_count": 54,
     "metadata": {},
     "output_type": "execute_result"
    }
   ],
   "source": [
    "galton = galton.with_column('errors',pred_errs)\n",
    "galton"
   ]
  },
  {
   "cell_type": "markdown",
   "metadata": {},
   "source": [
    "We can view a histogram of the errors"
   ]
  },
  {
   "cell_type": "code",
   "execution_count": 55,
   "metadata": {},
   "outputs": [
    {
     "data": {
      "image/png": "[encoded data removed]",
      "text/plain": [
       "<Figure size 432x288 with 1 Axes>"
      ]
     },
     "metadata": {},
     "output_type": "display_data"
    }
   ],
   "source": [
    "galton.hist('errors')"
   ]
  },
  {
   "cell_type": "code",
   "execution_count": 56,
   "metadata": {
    "scrolled": false
   },
   "outputs": [
    {
     "name": "stderr",
     "output_type": "stream",
     "text": [
      "C:\\Users\\ksorauf\\AppData\\Local\\Continuum\\anaconda3\\lib\\site-packages\\datascience\\tables.py:920: VisibleDeprecationWarning: Creating an ndarray from ragged nested sequences (which is a list-or-tuple of lists-or-tuples-or ndarrays with different lengths or shapes) is deprecated. If you meant to do this, you must specify 'dtype=object' when creating the ndarray.\n",
      "  values = np.array(tuple(values))\n"
     ]
    },
    {
     "data": {
      "image/png": "[encoded data removed]",
      "text/plain": [
       "<Figure size 432x288 with 1 Axes>"
      ]
     },
     "metadata": {},
     "output_type": "display_data"
    }
   ],
   "source": [
    "galton.hist('errors', group='gender')"
   ]
  },
  {
   "cell_type": "markdown",
   "metadata": {},
   "source": [
    "## How does the prediction change if we factor gender in the prediction? "
   ]
  },
  {
   "cell_type": "code",
   "execution_count": 57,
   "metadata": {},
   "outputs": [],
   "source": [
    "def predict_gender(h, gender):\n",
    "    galton_gender = galton.where('gender', are.equal_to(gender))\n",
    "    nearby = galton_gender.where('midparentHeight', are.between(h - 1/2, h + 1/2))\n",
    "    return nearby.column('childHeight').mean()"
   ]
  },
  {
   "cell_type": "code",
   "execution_count": 58,
   "metadata": {},
   "outputs": [
    {
     "data": {
      "text/html": [
       "<table border=\"1\" class=\"dataframe\">\n",
       "    <thead>\n",
       "        <tr>\n",
       "            <th>family</th> <th>father</th> <th>mother</th> <th>midparentHeight</th> <th>children</th> <th>childNum</th> <th>gender</th> <th>childHeight</th> <th>predictedHeight</th> <th>errors</th>\n",
       "        </tr>\n",
       "    </thead>\n",
       "    <tbody>\n",
       "        <tr>\n",
       "            <td>1     </td> <td>78.5  </td> <td>67    </td> <td>75.43          </td> <td>4       </td> <td>2       </td> <td>female</td> <td>69.2       </td> <td>70.1           </td> <td>0.9       </td>\n",
       "        </tr>\n",
       "        <tr>\n",
       "            <td>1     </td> <td>78.5  </td> <td>67    </td> <td>75.43          </td> <td>4       </td> <td>3       </td> <td>female</td> <td>69         </td> <td>70.1           </td> <td>1.1       </td>\n",
       "        </tr>\n",
       "        <tr>\n",
       "            <td>1     </td> <td>78.5  </td> <td>67    </td> <td>75.43          </td> <td>4       </td> <td>4       </td> <td>female</td> <td>69         </td> <td>70.1           </td> <td>1.1       </td>\n",
       "        </tr>\n",
       "        <tr>\n",
       "            <td>2     </td> <td>75.5  </td> <td>66.5  </td> <td>73.66          </td> <td>4       </td> <td>3       </td> <td>female</td> <td>65.5       </td> <td>70.4158        </td> <td>4.91579   </td>\n",
       "        </tr>\n",
       "        <tr>\n",
       "            <td>2     </td> <td>75.5  </td> <td>66.5  </td> <td>73.66          </td> <td>4       </td> <td>4       </td> <td>female</td> <td>65.5       </td> <td>70.4158        </td> <td>4.91579   </td>\n",
       "        </tr>\n",
       "        <tr>\n",
       "            <td>3     </td> <td>75    </td> <td>64    </td> <td>72.06          </td> <td>2       </td> <td>2       </td> <td>female</td> <td>68         </td> <td>68.5025        </td> <td>0.5025    </td>\n",
       "        </tr>\n",
       "        <tr>\n",
       "            <td>4     </td> <td>75    </td> <td>64    </td> <td>72.06          </td> <td>5       </td> <td>3       </td> <td>female</td> <td>67         </td> <td>68.5025        </td> <td>1.5025    </td>\n",
       "        </tr>\n",
       "        <tr>\n",
       "            <td>4     </td> <td>75    </td> <td>64    </td> <td>72.06          </td> <td>5       </td> <td>4       </td> <td>female</td> <td>64.5       </td> <td>68.5025        </td> <td>4.0025    </td>\n",
       "        </tr>\n",
       "        <tr>\n",
       "            <td>4     </td> <td>75    </td> <td>64    </td> <td>72.06          </td> <td>5       </td> <td>5       </td> <td>female</td> <td>63         </td> <td>68.5025        </td> <td>5.5025    </td>\n",
       "        </tr>\n",
       "        <tr>\n",
       "            <td>5     </td> <td>75    </td> <td>58.5  </td> <td>69.09          </td> <td>6       </td> <td>4       </td> <td>female</td> <td>66.5       </td> <td>66.4315        </td> <td>-0.0685039</td>\n",
       "        </tr>\n",
       "    </tbody>\n",
       "</table>\n",
       "<p>... (443 rows omitted)</p>"
      ],
      "text/plain": [
       "family | father | mother | midparentHeight | children | childNum | gender | childHeight | predictedHeight | errors\n",
       "1      | 78.5   | 67     | 75.43           | 4        | 2        | female | 69.2        | 70.1            | 0.9\n",
       "1      | 78.5   | 67     | 75.43           | 4        | 3        | female | 69          | 70.1            | 1.1\n",
       "1      | 78.5   | 67     | 75.43           | 4        | 4        | female | 69          | 70.1            | 1.1\n",
       "2      | 75.5   | 66.5   | 73.66           | 4        | 3        | female | 65.5        | 70.4158         | 4.91579\n",
       "2      | 75.5   | 66.5   | 73.66           | 4        | 4        | female | 65.5        | 70.4158         | 4.91579\n",
       "3      | 75     | 64     | 72.06           | 2        | 2        | female | 68          | 68.5025         | 0.5025\n",
       "4      | 75     | 64     | 72.06           | 5        | 3        | female | 67          | 68.5025         | 1.5025\n",
       "4      | 75     | 64     | 72.06           | 5        | 4        | female | 64.5        | 68.5025         | 4.0025\n",
       "4      | 75     | 64     | 72.06           | 5        | 5        | female | 63          | 68.5025         | 5.5025\n",
       "5      | 75     | 58.5   | 69.09           | 6        | 4        | female | 66.5        | 66.4315         | -0.0685039\n",
       "... (443 rows omitted)"
      ]
     },
     "execution_count": 58,
     "metadata": {},
     "output_type": "execute_result"
    }
   ],
   "source": [
    "galton.where('gender', are.equal_to('female'))"
   ]
  },
  {
   "cell_type": "code",
   "execution_count": 59,
   "metadata": {},
   "outputs": [
    {
     "data": {
      "text/plain": [
       "array([73.2       , 69.06666667, 69.06666667, 69.06666667, 73.48888889,\n",
       "       73.48888889, 67.65      , 67.65      , 70.79545455, 65.7       ,\n",
       "       70.79545455, 70.79545455, 65.7       , 65.7       , 65.7       ,\n",
       "       69.08217054, 69.08217054, 69.08217054, 63.696     , 63.696     ,\n",
       "       63.696     , 67.65      , 73.48888889, 73.48888889, 73.48888889,\n",
       "       73.48888889, 67.65      , 67.65      , 66.44      , 66.44      ,\n",
       "       66.44      , 66.44      , 65.75882353, 70.17234043, 70.17234043,\n",
       "       64.98333333, 64.98333333, 64.98333333, 64.98333333, 64.98333333,\n",
       "       64.98333333, 64.67788462, 71.17777778, 66.22941176, 71.17777778,\n",
       "       71.17777778, 71.00952381, 71.00952381, 65.77222222, 70.84285714,\n",
       "       70.84285714, 70.84285714, 70.84285714, 70.84285714, 65.38055556,\n",
       "       65.38055556, 65.38055556, 65.38055556, 70.79047619, 70.79047619,\n",
       "       70.79047619, 70.79047619, 65.44318182, 65.44318182, 65.08823529,\n",
       "       65.08823529, 65.08823529, 64.89090909, 73.48888889, 73.48888889,\n",
       "       73.48888889, 67.65      , 67.65      , 67.65      , 67.65      ,\n",
       "       67.65      , 71.075     , 66.18125   , 66.18125   , 70.90588235,\n",
       "       70.90588235, 65.67142857, 70.46      , 70.46      , 70.46      ,\n",
       "       65.18888889, 65.18888889, 65.18888889, 65.18888889, 65.44318182,\n",
       "       64.90963855, 64.90963855, 69.73781513, 69.73781513, 69.73781513,\n",
       "       64.69811321, 64.69811321, 69.73781513, 69.73781513, 64.69811321,\n",
       "       69.73781513, 69.73781513, 64.69811321, 64.69811321, 64.69811321,\n",
       "       64.69811321, 64.90963855, 64.90963855, 64.90963855, 63.88190476,\n",
       "       69.5       , 69.5       , 69.5       , 64.41637931, 64.41637931,\n",
       "       64.41637931, 69.2553719 , 69.2553719 , 69.2553719 , 63.88190476,\n",
       "       63.88190476, 69.2553719 , 69.2553719 , 69.2553719 , 69.2553719 ,\n",
       "       63.88190476, 63.5928    , 71.075     , 71.075     , 71.075     ,\n",
       "       71.075     , 66.18125   , 70.85454545, 70.85454545, 70.85454545,\n",
       "       65.2173913 , 70.56976744, 65.36170213, 65.36170213, 65.36170213,\n",
       "       70.56976744, 70.56976744, 70.56976744, 65.36170213, 65.36170213,\n",
       "       65.36170213, 70.56976744, 65.36170213, 70.56976744, 70.56976744,\n",
       "       70.56976744, 70.56976744, 65.36170213, 70.68780488, 70.59152542,\n",
       "       70.59152542, 70.59152542, 70.59152542, 65.27258065, 65.27258065,\n",
       "       70.56976744, 65.30625   , 70.54920635, 70.54920635, 70.31190476,\n",
       "       70.31190476, 64.79220779, 64.81456311, 64.81456311, 64.81456311,\n",
       "       64.81456311, 64.81456311, 64.81456311, 64.81456311, 64.81456311,\n",
       "       70.65087719, 70.65087719, 70.65087719, 65.14677419, 69.74821429,\n",
       "       69.74821429, 69.74821429, 70.31190476, 70.31190476, 70.31190476,\n",
       "       64.73076923, 64.73076923, 64.73076923, 64.73076923, 70.15172414,\n",
       "       64.89418605, 64.2982906 , 64.2982906 , 69.43114754, 69.43114754,\n",
       "       64.44622642, 64.44622642, 64.44622642, 69.22056075, 69.22056075,\n",
       "       69.22056075, 69.22056075, 63.95157895, 63.95157895, 63.95157895,\n",
       "       63.95157895, 63.95157895, 69.22056075, 69.22056075, 69.22056075,\n",
       "       63.95157895, 69.01344538, 69.01344538, 63.60564516, 63.60564516,\n",
       "       63.60564516, 69.01344538, 69.01344538, 69.01344538, 63.60564516,\n",
       "       63.60564516, 69.21166667, 63.65932203, 63.65932203, 63.65932203,\n",
       "       63.65932203, 69.01344538, 69.01344538, 69.01344538, 69.01344538,\n",
       "       69.01344538, 63.60564516, 63.60564516, 63.44215686, 68.14047619,\n",
       "       68.14047619, 70.24705882, 70.24705882, 70.24705882, 65.68125   ,\n",
       "       70.24705882, 70.24705882, 65.68125   , 65.68125   , 65.68125   ,\n",
       "       65.68125   , 71.08181818, 70.64634146, 70.64634146, 65.41111111,\n",
       "       65.41111111, 65.41111111, 65.41111111, 70.58      , 70.58      ,\n",
       "       70.58      , 70.58      , 65.265     , 65.265     , 65.265     ,\n",
       "       65.265     , 65.265     , 65.265     , 65.265     , 70.15172414,\n",
       "       70.15172414, 70.15172414, 70.15172414, 64.89418605, 64.89418605,\n",
       "       64.89418605, 64.89418605, 64.89418605, 70.090625  , 70.090625  ,\n",
       "       70.090625  , 70.090625  , 70.090625  , 64.81443299, 64.81443299,\n",
       "       64.81443299, 70.090625  , 70.090625  , 64.81443299, 64.81443299,\n",
       "       64.81443299, 70.090625  , 70.090625  , 64.81443299, 64.81443299,\n",
       "       64.81443299, 64.81443299, 70.090625  , 70.090625  , 70.090625  ,\n",
       "       64.81443299, 64.81443299, 64.81443299, 64.81443299, 70.090625  ,\n",
       "       70.090625  , 64.81443299, 70.090625  , 70.090625  , 69.71083333,\n",
       "       69.71083333, 69.71083333, 64.67788462, 64.67788462, 64.67788462,\n",
       "       64.67788462, 69.28272727, 69.28272727, 69.28272727, 69.28272727,\n",
       "       69.28272727, 69.28272727, 64.16020408, 69.28272727, 69.28272727,\n",
       "       69.28272727, 64.16020408, 69.39928058, 69.39928058, 64.2784    ,\n",
       "       64.2784    , 64.2784    , 69.43416667, 69.43416667, 69.43416667,\n",
       "       69.43416667, 69.43416667, 69.43416667, 64.42596154, 64.42596154,\n",
       "       64.77731959, 69.28272727, 64.16020408, 64.16020408, 64.16020408,\n",
       "       69.28272727, 69.28272727, 69.28272727, 69.28272727, 69.28272727,\n",
       "       69.28272727, 64.16020408, 64.16020408, 64.16020408, 69.23050847,\n",
       "       69.23050847, 69.23050847, 63.83267327, 63.83267327, 63.83267327,\n",
       "       63.83267327, 63.83267327, 69.21166667, 69.21166667, 63.65932203,\n",
       "       63.65932203, 69.21166667, 69.21166667, 69.21166667, 63.65932203,\n",
       "       63.65932203, 69.21166667, 69.21166667, 63.65932203, 63.65932203,\n",
       "       69.14761905, 69.14761905, 63.67265625, 63.67265625, 69.14761905,\n",
       "       69.14761905, 63.67265625, 63.67265625, 68.99279279, 68.99279279,\n",
       "       68.99279279, 68.99279279, 68.99279279, 63.4974359 , 63.4974359 ,\n",
       "       63.4974359 , 69.14761905, 69.14761905, 69.14761905, 69.14761905,\n",
       "       63.67265625, 63.67265625, 63.67265625, 68.99279279, 68.99279279,\n",
       "       63.4974359 , 68.36024096, 68.36024096, 67.918     , 67.918     ,\n",
       "       63.15238095, 63.15238095, 63.15238095, 63.15238095, 68.2       ,\n",
       "       68.2       , 62.57804878, 67.33      , 67.33      , 62.5       ,\n",
       "       62.5       , 62.5       , 70.921875  , 70.921875  , 70.921875  ,\n",
       "       65.30571429, 65.30571429, 65.30571429, 65.30571429, 65.30571429,\n",
       "       65.30571429, 65.30571429, 65.14677419, 70.09684211, 70.09684211,\n",
       "       70.09684211, 70.09684211, 64.79784946, 64.79784946, 64.79784946,\n",
       "       64.79784946, 70.09684211, 70.09684211, 70.09684211, 70.17234043,\n",
       "       70.17234043, 70.17234043, 70.17234043, 70.09684211, 70.09684211,\n",
       "       70.09684211, 64.79784946, 64.79784946, 64.79784946, 70.14408602,\n",
       "       70.14408602, 70.14408602, 70.14408602, 70.14408602, 70.14408602,\n",
       "       64.90795455, 70.31343284, 70.31343284, 65.11587302, 65.11587302,\n",
       "       70.14408602, 64.90795455, 64.90795455, 64.90795455, 64.90795455,\n",
       "       64.90795455, 70.14408602, 70.14408602, 70.14408602, 70.14408602,\n",
       "       64.90795455, 64.90795455, 64.90795455, 70.09684211, 70.09684211,\n",
       "       70.09684211, 70.09684211, 64.79784946, 64.79784946, 64.79784946,\n",
       "       64.79784946, 64.79784946, 69.23727273, 69.23727273, 69.23727273,\n",
       "       64.31923077, 64.31923077, 64.31923077, 64.31923077, 69.24867257,\n",
       "       69.24867257, 69.24867257, 64.34622642, 64.34622642, 64.34622642,\n",
       "       64.34622642, 69.1512    , 69.1512    , 63.66101695, 63.66101695,\n",
       "       63.58521739, 68.67090909, 63.4       , 63.4       , 68.67090909,\n",
       "       68.67090909, 68.67090909, 68.67090909, 68.67090909, 63.4       ,\n",
       "       63.4       , 68.98454545, 68.98454545, 68.98454545, 63.58521739,\n",
       "       63.58521739, 63.58521739, 63.58521739, 68.98454545, 63.58521739,\n",
       "       63.58521739, 63.50337079, 68.4877551 , 68.4877551 , 68.4877551 ,\n",
       "       68.57662338, 68.57662338, 68.57662338, 68.57662338, 62.90925926,\n",
       "       68.4877551 , 68.4877551 , 68.4877551 , 63.54556962, 63.54556962,\n",
       "       63.54556962, 63.54556962, 63.54556962, 63.54556962, 63.54556962,\n",
       "       63.54556962, 68.61714286, 68.61714286, 68.61714286, 68.61714286,\n",
       "       63.51927711, 63.51927711, 63.51927711, 63.51927711, 68.57662338,\n",
       "       68.57662338, 62.90925926, 62.90925926, 68.00140845, 68.00140845,\n",
       "       68.00140845, 63.24347826, 63.24347826, 67.88085106, 67.88085106,\n",
       "       67.88085106, 67.88085106, 67.88085106, 67.88085106, 63.15      ,\n",
       "       63.15      , 63.15      , 68.0975    , 62.66363636, 62.66363636,\n",
       "       68.0975    , 68.0975    , 62.66363636, 62.66363636, 67.95365854,\n",
       "       71.00952381, 66.11428571, 70.1742268 , 70.1742268 , 64.99684211,\n",
       "       70.09684211, 70.09684211, 70.09684211, 70.09684211, 70.09684211,\n",
       "       70.09684211, 70.09684211, 70.09684211, 70.09684211, 70.09684211,\n",
       "       64.79784946, 69.08217054, 69.08217054, 69.22868852, 63.81226415,\n",
       "       69.22868852, 69.22868852, 69.22868852, 69.22868852, 63.81226415,\n",
       "       63.81226415, 63.81226415, 69.08217054, 69.08217054, 63.696     ,\n",
       "       63.696     , 69.24112903, 69.24112903, 69.24112903, 69.24112903,\n",
       "       63.75304348, 63.75304348, 63.75304348, 63.75304348, 69.24112903,\n",
       "       69.24112903, 69.24112903, 69.24112903, 69.24112903, 63.75304348,\n",
       "       63.75304348, 63.75304348, 68.80721649, 68.80721649, 68.80721649,\n",
       "       68.80721649, 63.39029126, 63.39029126, 63.39029126, 63.39029126,\n",
       "       63.39029126, 63.39029126, 68.80721649, 68.80721649, 63.39029126,\n",
       "       63.39029126, 68.80721649, 68.80721649, 68.80721649, 68.80721649,\n",
       "       63.39029126, 63.61794872, 68.80721649, 68.80721649, 68.80721649,\n",
       "       63.39029126, 63.39029126, 63.39029126, 63.39029126, 63.39029126,\n",
       "       63.39029126, 63.39029126, 68.57662338, 68.57662338, 68.57662338,\n",
       "       68.57662338, 68.57662338, 62.90925926, 62.90925926, 62.90925926,\n",
       "       68.80721649, 68.80721649, 68.80721649, 63.39029126, 68.57662338,\n",
       "       68.57662338, 68.57662338, 62.90925926, 62.90925926, 68.57662338,\n",
       "       68.57662338, 68.57662338, 68.57662338, 68.57662338, 62.90925926,\n",
       "       62.90925926, 62.90925926, 68.57662338, 68.57662338, 68.57662338,\n",
       "       62.90925926, 62.90925926, 62.90925926, 68.80721649, 68.57662338,\n",
       "       68.67980769, 68.67980769, 68.67980769, 68.67980769, 63.44215686,\n",
       "       68.14931507, 68.32027027, 63.10769231, 68.14931507, 68.16842105,\n",
       "       68.16842105, 68.16842105, 63.34634146, 63.34634146, 68.10882353,\n",
       "       68.14230769, 62.38461538, 62.38461538, 62.38461538, 62.38461538,\n",
       "       62.38461538, 62.38461538, 68.14230769, 68.14230769, 68.14230769,\n",
       "       62.38461538, 67.11153846, 66.34666667, 66.34666667, 66.34666667,\n",
       "       66.34666667, 66.34666667, 66.34666667, 63.9       , 63.9       ,\n",
       "       63.9       , 63.9       , 69.21166667, 69.21166667, 69.21166667,\n",
       "       63.65932203, 63.65932203, 69.23050847, 69.10775194, 69.10775194,\n",
       "       69.10775194, 69.10775194, 69.10775194, 63.72      , 63.72      ,\n",
       "       63.72      , 68.83125   , 68.83125   , 63.40283019, 63.40283019,\n",
       "       63.40283019, 63.40283019, 69.01880342, 69.01880342, 63.65378151,\n",
       "       63.65378151, 63.65378151, 69.01880342, 69.01880342, 63.65378151,\n",
       "       63.65378151, 68.83125   , 63.40283019, 63.40283019, 68.98928571,\n",
       "       68.98928571, 63.62758621, 63.62758621, 63.62758621, 63.62758621,\n",
       "       63.62758621, 63.62758621, 63.62758621, 63.62758621, 63.62758621,\n",
       "       68.73647059, 68.73647059, 68.73647059, 68.73647059, 68.32027027,\n",
       "       68.32027027, 68.32027027, 68.32027027, 68.32027027, 68.32027027,\n",
       "       68.32027027, 63.11296296, 68.282     , 68.282     , 63.37352941,\n",
       "       68.05909091, 68.05909091, 68.05909091, 68.05909091, 63.13      ,\n",
       "       68.17931034, 69.18031496, 69.18031496, 69.18031496, 69.18031496,\n",
       "       69.18031496, 63.60165289, 63.60165289, 63.60165289, 69.18031496,\n",
       "       69.18031496, 69.18031496, 63.60165289, 63.60165289, 63.60165289,\n",
       "       63.60165289, 63.60165289, 63.60165289, 68.853     , 68.853     ,\n",
       "       63.46944444, 63.46944444, 63.46944444, 68.853     , 68.853     ,\n",
       "       63.46944444, 63.46944444, 63.46944444, 63.46944444, 68.65353535,\n",
       "       68.65353535, 68.65353535, 68.65353535, 63.50674157, 63.50674157,\n",
       "       63.50674157, 63.50674157, 68.68019802, 68.68019802, 68.68019802,\n",
       "       63.46530612, 63.46530612, 67.86190476, 63.12051282, 63.12051282,\n",
       "       68.03478261, 68.03478261, 68.03478261, 63.13      , 63.13      ,\n",
       "       63.13      , 67.83488372, 67.83488372, 63.28863636, 63.28863636,\n",
       "       63.28863636, 63.28863636, 63.28863636, 66.9962963 , 66.01333333,\n",
       "       66.01333333, 66.01333333, 62.66666667, 66.01333333, 66.63076923,\n",
       "       66.63076923, 66.63076923, 66.63076923, 66.63076923, 66.63076923,\n",
       "       66.63076923, 60.81818182, 60.81818182, 60.81818182, 60.81818182,\n",
       "       60.81818182, 60.81818182, 60.81818182, 60.81818182, 69.08932039,\n",
       "       69.08932039, 69.08932039, 63.58055556, 63.58055556, 68.62553191,\n",
       "       63.39027778, 63.39027778, 63.39027778, 68.62553191, 68.62553191,\n",
       "       68.62553191, 63.39027778, 63.39027778, 68.18529412, 68.18529412,\n",
       "       68.18529412, 63.34634146, 63.34634146, 63.34634146, 63.34634146,\n",
       "       63.34634146, 63.34634146, 68.25512821, 62.89649123, 68.18529412,\n",
       "       68.18529412, 68.18529412, 68.18529412, 63.34634146, 63.34634146,\n",
       "       67.93170732, 67.93170732, 63.29534884, 63.29534884, 63.29534884,\n",
       "       63.29534884, 68.10882353, 62.55945946, 68.10882353, 68.10882353,\n",
       "       62.55945946, 68.27435897, 68.27435897, 68.27435897, 62.65952381,\n",
       "       66.575     , 66.575     , 66.575     , 66.575     , 60.81818182,\n",
       "       68.27058824, 68.27058824, 62.55945946, 62.55945946, 62.55945946,\n",
       "       62.55945946, 62.55945946, 68.27058824, 68.27058824, 62.55945946,\n",
       "       62.55945946, 62.55945946, 62.55945946, 62.55945946, 66.40588235,\n",
       "       66.2125    , 61.11111111, 63.57142857, 63.57142857, 68.17714286,\n",
       "       62.57804878, 62.57804878, 66.575     , 60.81818182])"
      ]
     },
     "execution_count": 59,
     "metadata": {},
     "output_type": "execute_result"
    }
   ],
   "source": [
    "gender_preds = galton.apply(predict_gender, 'midparentHeight', 'gender')\n",
    "gender_preds"
   ]
  },
  {
   "cell_type": "code",
   "execution_count": 63,
   "metadata": {},
   "outputs": [
    {
     "data": {
      "text/html": [
       "<table border=\"1\" class=\"dataframe\">\n",
       "    <thead>\n",
       "        <tr>\n",
       "            <th>family</th> <th>father</th> <th>mother</th> <th>midparentHeight</th> <th>children</th> <th>childNum</th> <th>gender</th> <th>childHeight</th> <th>predictedHeight</th> <th>errors</th>\n",
       "        </tr>\n",
       "    </thead>\n",
       "    <tbody>\n",
       "        <tr>\n",
       "            <td>1     </td> <td>78.5  </td> <td>67    </td> <td>75.43          </td> <td>4       </td> <td>1       </td> <td>male  </td> <td>73.2       </td> <td>73.2           </td> <td>-3.1    </td>\n",
       "        </tr>\n",
       "        <tr>\n",
       "            <td>1     </td> <td>78.5  </td> <td>67    </td> <td>75.43          </td> <td>4       </td> <td>2       </td> <td>female</td> <td>69.2       </td> <td>69.0667        </td> <td>0.9     </td>\n",
       "        </tr>\n",
       "        <tr>\n",
       "            <td>1     </td> <td>78.5  </td> <td>67    </td> <td>75.43          </td> <td>4       </td> <td>3       </td> <td>female</td> <td>69         </td> <td>69.0667        </td> <td>1.1     </td>\n",
       "        </tr>\n",
       "        <tr>\n",
       "            <td>1     </td> <td>78.5  </td> <td>67    </td> <td>75.43          </td> <td>4       </td> <td>4       </td> <td>female</td> <td>69         </td> <td>69.0667        </td> <td>1.1     </td>\n",
       "        </tr>\n",
       "        <tr>\n",
       "            <td>2     </td> <td>75.5  </td> <td>66.5  </td> <td>73.66          </td> <td>4       </td> <td>1       </td> <td>male  </td> <td>73.5       </td> <td>73.4889        </td> <td>-3.08421</td>\n",
       "        </tr>\n",
       "        <tr>\n",
       "            <td>2     </td> <td>75.5  </td> <td>66.5  </td> <td>73.66          </td> <td>4       </td> <td>2       </td> <td>male  </td> <td>72.5       </td> <td>73.4889        </td> <td>-2.08421</td>\n",
       "        </tr>\n",
       "        <tr>\n",
       "            <td>2     </td> <td>75.5  </td> <td>66.5  </td> <td>73.66          </td> <td>4       </td> <td>3       </td> <td>female</td> <td>65.5       </td> <td>67.65          </td> <td>4.91579 </td>\n",
       "        </tr>\n",
       "        <tr>\n",
       "            <td>2     </td> <td>75.5  </td> <td>66.5  </td> <td>73.66          </td> <td>4       </td> <td>4       </td> <td>female</td> <td>65.5       </td> <td>67.65          </td> <td>4.91579 </td>\n",
       "        </tr>\n",
       "        <tr>\n",
       "            <td>3     </td> <td>75    </td> <td>64    </td> <td>72.06          </td> <td>2       </td> <td>1       </td> <td>male  </td> <td>71         </td> <td>70.7955        </td> <td>-2.4975 </td>\n",
       "        </tr>\n",
       "        <tr>\n",
       "            <td>3     </td> <td>75    </td> <td>64    </td> <td>72.06          </td> <td>2       </td> <td>2       </td> <td>female</td> <td>68         </td> <td>65.7           </td> <td>0.5025  </td>\n",
       "        </tr>\n",
       "    </tbody>\n",
       "</table>\n",
       "<p>... (924 rows omitted)</p>"
      ],
      "text/plain": [
       "family | father | mother | midparentHeight | children | childNum | gender | childHeight | predictedHeight | errors\n",
       "1      | 78.5   | 67     | 75.43           | 4        | 1        | male   | 73.2        | 73.2            | -3.1\n",
       "1      | 78.5   | 67     | 75.43           | 4        | 2        | female | 69.2        | 69.0667         | 0.9\n",
       "1      | 78.5   | 67     | 75.43           | 4        | 3        | female | 69          | 69.0667         | 1.1\n",
       "1      | 78.5   | 67     | 75.43           | 4        | 4        | female | 69          | 69.0667         | 1.1\n",
       "2      | 75.5   | 66.5   | 73.66           | 4        | 1        | male   | 73.5        | 73.4889         | -3.08421\n",
       "2      | 75.5   | 66.5   | 73.66           | 4        | 2        | male   | 72.5        | 73.4889         | -2.08421\n",
       "2      | 75.5   | 66.5   | 73.66           | 4        | 3        | female | 65.5        | 67.65           | 4.91579\n",
       "2      | 75.5   | 66.5   | 73.66           | 4        | 4        | female | 65.5        | 67.65           | 4.91579\n",
       "3      | 75     | 64     | 72.06           | 2        | 1        | male   | 71          | 70.7955         | -2.4975\n",
       "3      | 75     | 64     | 72.06           | 2        | 2        | female | 68          | 65.7            | 0.5025\n",
       "... (924 rows omitted)"
      ]
     },
     "execution_count": 63,
     "metadata": {},
     "output_type": "execute_result"
    }
   ],
   "source": [
    "galton_gender = galton.with_column('predictedHeight', galton.apply(predict_gender, 'midparentHeight', 'gender'))\n",
    "galton_gender"
   ]
  },
  {
   "cell_type": "code",
   "execution_count": 64,
   "metadata": {},
   "outputs": [],
   "source": [
    "galton_gender = galton_gender.with_column('errors', galton_gender.apply(difference, 'predictedHeight', 'childHeight'))"
   ]
  },
  {
   "cell_type": "code",
   "execution_count": 65,
   "metadata": {},
   "outputs": [
    {
     "data": {
      "text/html": [
       "<table border=\"1\" class=\"dataframe\">\n",
       "    <thead>\n",
       "        <tr>\n",
       "            <th>family</th> <th>father</th> <th>mother</th> <th>midparentHeight</th> <th>children</th> <th>childNum</th> <th>gender</th> <th>childHeight</th> <th>predictedHeight</th> <th>errors</th>\n",
       "        </tr>\n",
       "    </thead>\n",
       "    <tbody>\n",
       "        <tr>\n",
       "            <td>1     </td> <td>78.5  </td> <td>67    </td> <td>75.43          </td> <td>4       </td> <td>1       </td> <td>male  </td> <td>73.2       </td> <td>73.2           </td> <td>0         </td>\n",
       "        </tr>\n",
       "        <tr>\n",
       "            <td>1     </td> <td>78.5  </td> <td>67    </td> <td>75.43          </td> <td>4       </td> <td>2       </td> <td>female</td> <td>69.2       </td> <td>69.0667        </td> <td>-0.133333 </td>\n",
       "        </tr>\n",
       "        <tr>\n",
       "            <td>1     </td> <td>78.5  </td> <td>67    </td> <td>75.43          </td> <td>4       </td> <td>3       </td> <td>female</td> <td>69         </td> <td>69.0667        </td> <td>0.0666667 </td>\n",
       "        </tr>\n",
       "        <tr>\n",
       "            <td>1     </td> <td>78.5  </td> <td>67    </td> <td>75.43          </td> <td>4       </td> <td>4       </td> <td>female</td> <td>69         </td> <td>69.0667        </td> <td>0.0666667 </td>\n",
       "        </tr>\n",
       "        <tr>\n",
       "            <td>2     </td> <td>75.5  </td> <td>66.5  </td> <td>73.66          </td> <td>4       </td> <td>1       </td> <td>male  </td> <td>73.5       </td> <td>73.4889        </td> <td>-0.0111111</td>\n",
       "        </tr>\n",
       "        <tr>\n",
       "            <td>2     </td> <td>75.5  </td> <td>66.5  </td> <td>73.66          </td> <td>4       </td> <td>2       </td> <td>male  </td> <td>72.5       </td> <td>73.4889        </td> <td>0.988889  </td>\n",
       "        </tr>\n",
       "        <tr>\n",
       "            <td>2     </td> <td>75.5  </td> <td>66.5  </td> <td>73.66          </td> <td>4       </td> <td>3       </td> <td>female</td> <td>65.5       </td> <td>67.65          </td> <td>2.15      </td>\n",
       "        </tr>\n",
       "        <tr>\n",
       "            <td>2     </td> <td>75.5  </td> <td>66.5  </td> <td>73.66          </td> <td>4       </td> <td>4       </td> <td>female</td> <td>65.5       </td> <td>67.65          </td> <td>2.15      </td>\n",
       "        </tr>\n",
       "        <tr>\n",
       "            <td>3     </td> <td>75    </td> <td>64    </td> <td>72.06          </td> <td>2       </td> <td>1       </td> <td>male  </td> <td>71         </td> <td>70.7955        </td> <td>-0.204545 </td>\n",
       "        </tr>\n",
       "        <tr>\n",
       "            <td>3     </td> <td>75    </td> <td>64    </td> <td>72.06          </td> <td>2       </td> <td>2       </td> <td>female</td> <td>68         </td> <td>65.7           </td> <td>-2.3      </td>\n",
       "        </tr>\n",
       "    </tbody>\n",
       "</table>\n",
       "<p>... (924 rows omitted)</p>"
      ],
      "text/plain": [
       "family | father | mother | midparentHeight | children | childNum | gender | childHeight | predictedHeight | errors\n",
       "1      | 78.5   | 67     | 75.43           | 4        | 1        | male   | 73.2        | 73.2            | 0\n",
       "1      | 78.5   | 67     | 75.43           | 4        | 2        | female | 69.2        | 69.0667         | -0.133333\n",
       "1      | 78.5   | 67     | 75.43           | 4        | 3        | female | 69          | 69.0667         | 0.0666667\n",
       "1      | 78.5   | 67     | 75.43           | 4        | 4        | female | 69          | 69.0667         | 0.0666667\n",
       "2      | 75.5   | 66.5   | 73.66           | 4        | 1        | male   | 73.5        | 73.4889         | -0.0111111\n",
       "2      | 75.5   | 66.5   | 73.66           | 4        | 2        | male   | 72.5        | 73.4889         | 0.988889\n",
       "2      | 75.5   | 66.5   | 73.66           | 4        | 3        | female | 65.5        | 67.65           | 2.15\n",
       "2      | 75.5   | 66.5   | 73.66           | 4        | 4        | female | 65.5        | 67.65           | 2.15\n",
       "3      | 75     | 64     | 72.06           | 2        | 1        | male   | 71          | 70.7955         | -0.204545\n",
       "3      | 75     | 64     | 72.06           | 2        | 2        | female | 68          | 65.7            | -2.3\n",
       "... (924 rows omitted)"
      ]
     },
     "execution_count": 65,
     "metadata": {},
     "output_type": "execute_result"
    }
   ],
   "source": [
    "galton_gender"
   ]
  },
  {
   "cell_type": "code",
   "execution_count": 66,
   "metadata": {},
   "outputs": [
    {
     "data": {
      "image/png": "[encoded data removed]",
      "text/plain": [
       "<Figure size 360x360 with 1 Axes>"
      ]
     },
     "metadata": {},
     "output_type": "display_data"
    }
   ],
   "source": [
    "galton_gender.select(\n",
    "    'midparentHeight', 'childHeight', 'predictedHeight').scatter('midparentHeight')"
   ]
  },
  {
   "cell_type": "code",
   "execution_count": 67,
   "metadata": {},
   "outputs": [
    {
     "data": {
      "image/png": "[encoded data removed]",
      "text/plain": [
       "<Figure size 432x288 with 1 Axes>"
      ]
     },
     "metadata": {},
     "output_type": "display_data"
    }
   ],
   "source": [
    "galton_gender.hist('errors')"
   ]
  },
  {
   "cell_type": "code",
   "execution_count": 69,
   "metadata": {},
   "outputs": [
    {
     "name": "stderr",
     "output_type": "stream",
     "text": [
      "C:\\Users\\ksorauf\\AppData\\Local\\Continuum\\anaconda3\\lib\\site-packages\\datascience\\tables.py:920: VisibleDeprecationWarning: Creating an ndarray from ragged nested sequences (which is a list-or-tuple of lists-or-tuples-or ndarrays with different lengths or shapes) is deprecated. If you meant to do this, you must specify 'dtype=object' when creating the ndarray.\n",
      "  values = np.array(tuple(values))\n"
     ]
    },
    {
     "data": {
      "image/png": "[encoded data removed]",
      "text/plain": [
       "<Figure size 432x288 with 1 Axes>"
      ]
     },
     "metadata": {},
     "output_type": "display_data"
    }
   ],
   "source": [
    "galton_gender.hist('errors', group='gender')"
   ]
  },
  {
   "cell_type": "markdown",
   "metadata": {},
   "source": [
    "## Grouping"
   ]
  },
  {
   "cell_type": "code",
   "execution_count": 70,
   "metadata": {},
   "outputs": [],
   "source": [
    "cones = Table.read_table(\"cones.csv\")"
   ]
  },
  {
   "cell_type": "code",
   "execution_count": 71,
   "metadata": {},
   "outputs": [
    {
     "data": {
      "text/html": [
       "<table border=\"1\" class=\"dataframe\">\n",
       "    <thead>\n",
       "        <tr>\n",
       "            <th>Flavor</th> <th>Color</th> <th>Price</th>\n",
       "        </tr>\n",
       "    </thead>\n",
       "    <tbody>\n",
       "        <tr>\n",
       "            <td>strawberry</td> <td>pink       </td> <td>3.55 </td>\n",
       "        </tr>\n",
       "        <tr>\n",
       "            <td>chocolate </td> <td>light brown</td> <td>4.75 </td>\n",
       "        </tr>\n",
       "        <tr>\n",
       "            <td>chocolate </td> <td>dark brown </td> <td>5.25 </td>\n",
       "        </tr>\n",
       "        <tr>\n",
       "            <td>strawberry</td> <td>pink       </td> <td>5.25 </td>\n",
       "        </tr>\n",
       "        <tr>\n",
       "            <td>chocolate </td> <td>dark brown </td> <td>5.25 </td>\n",
       "        </tr>\n",
       "        <tr>\n",
       "            <td>bubblegum </td> <td>pink       </td> <td>4.75 </td>\n",
       "        </tr>\n",
       "    </tbody>\n",
       "</table>"
      ],
      "text/plain": [
       "Flavor     | Color       | Price\n",
       "strawberry | pink        | 3.55\n",
       "chocolate  | light brown | 4.75\n",
       "chocolate  | dark brown  | 5.25\n",
       "strawberry | pink        | 5.25\n",
       "chocolate  | dark brown  | 5.25\n",
       "bubblegum  | pink        | 4.75"
      ]
     },
     "execution_count": 71,
     "metadata": {},
     "output_type": "execute_result"
    }
   ],
   "source": [
    "cones"
   ]
  },
  {
   "cell_type": "code",
   "execution_count": 72,
   "metadata": {},
   "outputs": [
    {
     "data": {
      "text/html": [
       "<table border=\"1\" class=\"dataframe\">\n",
       "    <thead>\n",
       "        <tr>\n",
       "            <th>Flavor</th> <th>count</th>\n",
       "        </tr>\n",
       "    </thead>\n",
       "    <tbody>\n",
       "        <tr>\n",
       "            <td>bubblegum </td> <td>1    </td>\n",
       "        </tr>\n",
       "        <tr>\n",
       "            <td>chocolate </td> <td>3    </td>\n",
       "        </tr>\n",
       "        <tr>\n",
       "            <td>strawberry</td> <td>2    </td>\n",
       "        </tr>\n",
       "    </tbody>\n",
       "</table>"
      ],
      "text/plain": [
       "Flavor     | count\n",
       "bubblegum  | 1\n",
       "chocolate  | 3\n",
       "strawberry | 2"
      ]
     },
     "execution_count": 72,
     "metadata": {},
     "output_type": "execute_result"
    }
   ],
   "source": [
    "cones.group('Flavor')"
   ]
  },
  {
   "cell_type": "code",
   "execution_count": 73,
   "metadata": {},
   "outputs": [
    {
     "data": {
      "text/html": [
       "<table border=\"1\" class=\"dataframe\">\n",
       "    <thead>\n",
       "        <tr>\n",
       "            <th>Flavor</th> <th>Price average</th>\n",
       "        </tr>\n",
       "    </thead>\n",
       "    <tbody>\n",
       "        <tr>\n",
       "            <td>bubblegum </td> <td>4.75         </td>\n",
       "        </tr>\n",
       "        <tr>\n",
       "            <td>chocolate </td> <td>5.08333      </td>\n",
       "        </tr>\n",
       "        <tr>\n",
       "            <td>strawberry</td> <td>4.4          </td>\n",
       "        </tr>\n",
       "    </tbody>\n",
       "</table>"
      ],
      "text/plain": [
       "Flavor     | Price average\n",
       "bubblegum  | 4.75\n",
       "chocolate  | 5.08333\n",
       "strawberry | 4.4"
      ]
     },
     "execution_count": 73,
     "metadata": {},
     "output_type": "execute_result"
    }
   ],
   "source": [
    "cones.drop('Color').group('Flavor', np.average)"
   ]
  },
  {
   "cell_type": "code",
   "execution_count": 74,
   "metadata": {},
   "outputs": [
    {
     "data": {
      "text/html": [
       "<table border=\"1\" class=\"dataframe\">\n",
       "    <thead>\n",
       "        <tr>\n",
       "            <th>Flavor</th> <th>Price min</th>\n",
       "        </tr>\n",
       "    </thead>\n",
       "    <tbody>\n",
       "        <tr>\n",
       "            <td>bubblegum </td> <td>4.75     </td>\n",
       "        </tr>\n",
       "        <tr>\n",
       "            <td>chocolate </td> <td>4.75     </td>\n",
       "        </tr>\n",
       "        <tr>\n",
       "            <td>strawberry</td> <td>3.55     </td>\n",
       "        </tr>\n",
       "    </tbody>\n",
       "</table>"
      ],
      "text/plain": [
       "Flavor     | Price min\n",
       "bubblegum  | 4.75\n",
       "chocolate  | 4.75\n",
       "strawberry | 3.55"
      ]
     },
     "execution_count": 74,
     "metadata": {},
     "output_type": "execute_result"
    }
   ],
   "source": [
    "cones.drop('Color').group('Flavor', min)"
   ]
  },
  {
   "cell_type": "markdown",
   "metadata": {},
   "source": [
    "### Find the total price of the cones by flavor "
   ]
  },
  {
   "cell_type": "code",
   "execution_count": 75,
   "metadata": {},
   "outputs": [
    {
     "data": {
      "text/html": [
       "<table border=\"1\" class=\"dataframe\">\n",
       "    <thead>\n",
       "        <tr>\n",
       "            <th>Flavor</th> <th>Price sum</th>\n",
       "        </tr>\n",
       "    </thead>\n",
       "    <tbody>\n",
       "        <tr>\n",
       "            <td>bubblegum </td> <td>4.75     </td>\n",
       "        </tr>\n",
       "        <tr>\n",
       "            <td>chocolate </td> <td>15.25    </td>\n",
       "        </tr>\n",
       "        <tr>\n",
       "            <td>strawberry</td> <td>8.8      </td>\n",
       "        </tr>\n",
       "    </tbody>\n",
       "</table>"
      ],
      "text/plain": [
       "Flavor     | Price sum\n",
       "bubblegum  | 4.75\n",
       "chocolate  | 15.25\n",
       "strawberry | 8.8"
      ]
     },
     "execution_count": 75,
     "metadata": {},
     "output_type": "execute_result"
    }
   ],
   "source": [
    "cones.drop('Color').group('Flavor', sum)"
   ]
  },
  {
   "cell_type": "markdown",
   "metadata": {},
   "source": [
    "## Grouping 2 Columns"
   ]
  },
  {
   "cell_type": "code",
   "execution_count": 76,
   "metadata": {},
   "outputs": [
    {
     "name": "stderr",
     "output_type": "stream",
     "text": [
      "C:\\Users\\ksorauf\\AppData\\Local\\Continuum\\anaconda3\\lib\\site-packages\\datascience\\tables.py:920: VisibleDeprecationWarning: Creating an ndarray from ragged nested sequences (which is a list-or-tuple of lists-or-tuples-or ndarrays with different lengths or shapes) is deprecated. If you meant to do this, you must specify 'dtype=object' when creating the ndarray.\n",
      "  values = np.array(tuple(values))\n"
     ]
    },
    {
     "data": {
      "text/html": [
       "<table border=\"1\" class=\"dataframe\">\n",
       "    <thead>\n",
       "        <tr>\n",
       "            <th>Flavor</th> <th>Color</th> <th>count</th>\n",
       "        </tr>\n",
       "    </thead>\n",
       "    <tbody>\n",
       "        <tr>\n",
       "            <td>bubblegum </td> <td>pink       </td> <td>1    </td>\n",
       "        </tr>\n",
       "        <tr>\n",
       "            <td>chocolate </td> <td>dark brown </td> <td>2    </td>\n",
       "        </tr>\n",
       "        <tr>\n",
       "            <td>chocolate </td> <td>light brown</td> <td>1    </td>\n",
       "        </tr>\n",
       "        <tr>\n",
       "            <td>strawberry</td> <td>pink       </td> <td>2    </td>\n",
       "        </tr>\n",
       "    </tbody>\n",
       "</table>"
      ],
      "text/plain": [
       "Flavor     | Color       | count\n",
       "bubblegum  | pink        | 1\n",
       "chocolate  | dark brown  | 2\n",
       "chocolate  | light brown | 1\n",
       "strawberry | pink        | 2"
      ]
     },
     "execution_count": 76,
     "metadata": {},
     "output_type": "execute_result"
    }
   ],
   "source": [
    "cones.group(['Flavor', 'Color'])"
   ]
  },
  {
   "cell_type": "markdown",
   "metadata": {},
   "source": [
    "### Pivot tables rearrage the output of group"
   ]
  },
  {
   "cell_type": "code",
   "execution_count": 79,
   "metadata": {},
   "outputs": [
    {
     "data": {
      "text/html": [
       "<table border=\"1\" class=\"dataframe\">\n",
       "    <thead>\n",
       "        <tr>\n",
       "            <th>Flavor</th> <th>Color</th> <th>Price</th> <th>other numbers</th>\n",
       "        </tr>\n",
       "    </thead>\n",
       "    <tbody>\n",
       "        <tr>\n",
       "            <td>strawberry</td> <td>pink       </td> <td>3.55 </td> <td>3            </td>\n",
       "        </tr>\n",
       "        <tr>\n",
       "            <td>chocolate </td> <td>light brown</td> <td>4.75 </td> <td>5            </td>\n",
       "        </tr>\n",
       "        <tr>\n",
       "            <td>chocolate </td> <td>dark brown </td> <td>5.25 </td> <td>7            </td>\n",
       "        </tr>\n",
       "        <tr>\n",
       "            <td>strawberry</td> <td>pink       </td> <td>5.25 </td> <td>9            </td>\n",
       "        </tr>\n",
       "        <tr>\n",
       "            <td>chocolate </td> <td>dark brown </td> <td>5.25 </td> <td>11           </td>\n",
       "        </tr>\n",
       "        <tr>\n",
       "            <td>bubblegum </td> <td>pink       </td> <td>4.75 </td> <td>13           </td>\n",
       "        </tr>\n",
       "    </tbody>\n",
       "</table>"
      ],
      "text/plain": [
       "Flavor     | Color       | Price | other numbers\n",
       "strawberry | pink        | 3.55  | 3\n",
       "chocolate  | light brown | 4.75  | 5\n",
       "chocolate  | dark brown  | 5.25  | 7\n",
       "strawberry | pink        | 5.25  | 9\n",
       "chocolate  | dark brown  | 5.25  | 11\n",
       "bubblegum  | pink        | 4.75  | 13"
      ]
     },
     "execution_count": 79,
     "metadata": {},
     "output_type": "execute_result"
    }
   ],
   "source": [
    "cones"
   ]
  },
  {
   "cell_type": "code",
   "execution_count": 78,
   "metadata": {},
   "outputs": [
    {
     "data": {
      "text/html": [
       "<table border=\"1\" class=\"dataframe\">\n",
       "    <thead>\n",
       "        <tr>\n",
       "            <th>Color</th> <th>bubblegum</th> <th>chocolate</th> <th>strawberry</th>\n",
       "        </tr>\n",
       "    </thead>\n",
       "    <tbody>\n",
       "        <tr>\n",
       "            <td>dark brown </td> <td>0        </td> <td>2        </td> <td>0         </td>\n",
       "        </tr>\n",
       "        <tr>\n",
       "            <td>light brown</td> <td>0        </td> <td>1        </td> <td>0         </td>\n",
       "        </tr>\n",
       "        <tr>\n",
       "            <td>pink       </td> <td>1        </td> <td>0        </td> <td>2         </td>\n",
       "        </tr>\n",
       "    </tbody>\n",
       "</table>"
      ],
      "text/plain": [
       "Color       | bubblegum | chocolate | strawberry\n",
       "dark brown  | 0         | 2         | 0\n",
       "light brown | 0         | 1         | 0\n",
       "pink        | 1         | 0         | 2"
      ]
     },
     "execution_count": 78,
     "metadata": {},
     "output_type": "execute_result"
    }
   ],
   "source": [
    "cones.pivot('Flavor', 'Color')"
   ]
  },
  {
   "cell_type": "code",
   "execution_count": 81,
   "metadata": {},
   "outputs": [
    {
     "data": {
      "text/html": [
       "<table border=\"1\" class=\"dataframe\">\n",
       "    <thead>\n",
       "        <tr>\n",
       "            <th>Color</th> <th>bubblegum</th> <th>chocolate</th> <th>strawberry</th>\n",
       "        </tr>\n",
       "    </thead>\n",
       "    <tbody>\n",
       "        <tr>\n",
       "            <td>dark brown </td> <td>0        </td> <td>5.25     </td> <td>0         </td>\n",
       "        </tr>\n",
       "        <tr>\n",
       "            <td>light brown</td> <td>0        </td> <td>4.75     </td> <td>0         </td>\n",
       "        </tr>\n",
       "        <tr>\n",
       "            <td>pink       </td> <td>4.75     </td> <td>0        </td> <td>4.4       </td>\n",
       "        </tr>\n",
       "    </tbody>\n",
       "</table>"
      ],
      "text/plain": [
       "Color       | bubblegum | chocolate | strawberry\n",
       "dark brown  | 0         | 5.25      | 0\n",
       "light brown | 0         | 4.75      | 0\n",
       "pink        | 4.75      | 0         | 4.4"
      ]
     },
     "execution_count": 81,
     "metadata": {},
     "output_type": "execute_result"
    }
   ],
   "source": [
    "cones.pivot('Flavor', 'Color', values='Price', collect=np.average)"
   ]
  },
  {
   "cell_type": "markdown",
   "metadata": {},
   "source": [
    "## Load the nba_salaries.csv then relabel the '15-'16 SALARY colum as 'SALARY'"
   ]
  },
  {
   "cell_type": "code",
   "execution_count": 82,
   "metadata": {},
   "outputs": [],
   "source": [
    "salary = Table().read_table('nba_salaries.csv')"
   ]
  },
  {
   "cell_type": "markdown",
   "metadata": {},
   "source": [
    "### How much money did each team pay their players?"
   ]
  },
  {
   "cell_type": "code",
   "execution_count": null,
   "metadata": {},
   "outputs": [],
   "source": []
  },
  {
   "cell_type": "markdown",
   "metadata": {},
   "source": [
    "### What was the average salary at each position?"
   ]
  },
  {
   "cell_type": "code",
   "execution_count": null,
   "metadata": {},
   "outputs": [],
   "source": []
  },
  {
   "cell_type": "markdown",
   "metadata": {},
   "source": [
    "### What is the max salary of each position on each team?"
   ]
  },
  {
   "cell_type": "code",
   "execution_count": null,
   "metadata": {},
   "outputs": [],
   "source": []
  },
  {
   "cell_type": "markdown",
   "metadata": {},
   "source": [
    "## Joining"
   ]
  },
  {
   "cell_type": "markdown",
   "metadata": {},
   "source": [
    "The general format for join is:\n",
    "\n",
    "<code>table1.join(table1_column_for_joining, table2, table2_column_for_joining)"
   ]
  },
  {
   "cell_type": "code",
   "execution_count": 83,
   "metadata": {},
   "outputs": [
    {
     "data": {
      "text/html": [
       "<table border=\"1\" class=\"dataframe\">\n",
       "    <thead>\n",
       "        <tr>\n",
       "            <th>Flavor</th> <th>Color</th> <th>Price</th>\n",
       "        </tr>\n",
       "    </thead>\n",
       "    <tbody>\n",
       "        <tr>\n",
       "            <td>strawberry</td> <td>pink       </td> <td>3.55 </td>\n",
       "        </tr>\n",
       "        <tr>\n",
       "            <td>chocolate </td> <td>light brown</td> <td>4.75 </td>\n",
       "        </tr>\n",
       "        <tr>\n",
       "            <td>chocolate </td> <td>dark brown </td> <td>5.25 </td>\n",
       "        </tr>\n",
       "        <tr>\n",
       "            <td>strawberry</td> <td>pink       </td> <td>5.25 </td>\n",
       "        </tr>\n",
       "        <tr>\n",
       "            <td>chocolate </td> <td>dark brown </td> <td>5.25 </td>\n",
       "        </tr>\n",
       "        <tr>\n",
       "            <td>bubblegum </td> <td>pink       </td> <td>4.75 </td>\n",
       "        </tr>\n",
       "    </tbody>\n",
       "</table>"
      ],
      "text/plain": [
       "Flavor     | Color       | Price\n",
       "strawberry | pink        | 3.55\n",
       "chocolate  | light brown | 4.75\n",
       "chocolate  | dark brown  | 5.25\n",
       "strawberry | pink        | 5.25\n",
       "chocolate  | dark brown  | 5.25\n",
       "bubblegum  | pink        | 4.75"
      ]
     },
     "execution_count": 83,
     "metadata": {},
     "output_type": "execute_result"
    }
   ],
   "source": [
    "cones = cones.drop('other numbers')\n",
    "cones"
   ]
  },
  {
   "cell_type": "code",
   "execution_count": 84,
   "metadata": {},
   "outputs": [
    {
     "data": {
      "text/html": [
       "<table border=\"1\" class=\"dataframe\">\n",
       "    <thead>\n",
       "        <tr>\n",
       "            <th>Stars</th> <th>Flavor</th>\n",
       "        </tr>\n",
       "    </thead>\n",
       "    <tbody>\n",
       "        <tr>\n",
       "            <td>4    </td> <td>strawberry</td>\n",
       "        </tr>\n",
       "        <tr>\n",
       "            <td>4.5  </td> <td>chocolate </td>\n",
       "        </tr>\n",
       "        <tr>\n",
       "            <td>3.5  </td> <td>bubblegum </td>\n",
       "        </tr>\n",
       "    </tbody>\n",
       "</table>"
      ],
      "text/plain": [
       "Stars | Flavor\n",
       "4     | strawberry\n",
       "4.5   | chocolate\n",
       "3.5   | bubblegum"
      ]
     },
     "execution_count": 84,
     "metadata": {},
     "output_type": "execute_result"
    }
   ],
   "source": [
    "ratings = Table().with_columns('Stars', [4.0, 4.5, 3.5],\n",
    "                           'Flavor', [\"strawberry\", \"chocolate\", \"bubblegum\"])\n",
    "ratings"
   ]
  },
  {
   "cell_type": "code",
   "execution_count": 85,
   "metadata": {},
   "outputs": [
    {
     "data": {
      "text/html": [
       "<table border=\"1\" class=\"dataframe\">\n",
       "    <thead>\n",
       "        <tr>\n",
       "            <th>Flavor</th> <th>Color</th> <th>Price</th> <th>Stars</th>\n",
       "        </tr>\n",
       "    </thead>\n",
       "    <tbody>\n",
       "        <tr>\n",
       "            <td>bubblegum </td> <td>pink       </td> <td>4.75 </td> <td>3.5  </td>\n",
       "        </tr>\n",
       "        <tr>\n",
       "            <td>chocolate </td> <td>light brown</td> <td>4.75 </td> <td>4.5  </td>\n",
       "        </tr>\n",
       "        <tr>\n",
       "            <td>chocolate </td> <td>dark brown </td> <td>5.25 </td> <td>4.5  </td>\n",
       "        </tr>\n",
       "        <tr>\n",
       "            <td>chocolate </td> <td>dark brown </td> <td>5.25 </td> <td>4.5  </td>\n",
       "        </tr>\n",
       "        <tr>\n",
       "            <td>strawberry</td> <td>pink       </td> <td>3.55 </td> <td>4    </td>\n",
       "        </tr>\n",
       "        <tr>\n",
       "            <td>strawberry</td> <td>pink       </td> <td>5.25 </td> <td>4    </td>\n",
       "        </tr>\n",
       "    </tbody>\n",
       "</table>"
      ],
      "text/plain": [
       "Flavor     | Color       | Price | Stars\n",
       "bubblegum  | pink        | 4.75  | 3.5\n",
       "chocolate  | light brown | 4.75  | 4.5\n",
       "chocolate  | dark brown  | 5.25  | 4.5\n",
       "chocolate  | dark brown  | 5.25  | 4.5\n",
       "strawberry | pink        | 3.55  | 4\n",
       "strawberry | pink        | 5.25  | 4"
      ]
     },
     "execution_count": 85,
     "metadata": {},
     "output_type": "execute_result"
    }
   ],
   "source": [
    "rated = cones.join('Flavor', ratings, 'Flavor')\n",
    "rated"
   ]
  },
  {
   "cell_type": "markdown",
   "metadata": {},
   "source": [
    "## Demo of billionaires"
   ]
  },
  {
   "cell_type": "markdown",
   "metadata": {},
   "source": [
    "CEO data: 100 = Demoratic party; 200 = Republican Party"
   ]
  },
  {
   "cell_type": "code",
   "execution_count": 86,
   "metadata": {},
   "outputs": [
    {
     "data": {
      "text/html": [
       "<table border=\"1\" class=\"dataframe\">\n",
       "    <thead>\n",
       "        <tr>\n",
       "            <th>name</th> <th>net worth</th> <th>citizenship</th> <th>industry</th>\n",
       "        </tr>\n",
       "    </thead>\n",
       "    <tbody>\n",
       "        <tr>\n",
       "            <td>Jeff Bezos     </td> <td>115739645754</td> <td>United States</td> <td>Technology </td>\n",
       "        </tr>\n",
       "        <tr>\n",
       "            <td>Bill Gates     </td> <td>115488591742</td> <td>United States</td> <td>Technology </td>\n",
       "        </tr>\n",
       "        <tr>\n",
       "            <td>Bernard Arnault</td> <td>102244728472</td> <td>France       </td> <td>Consumer   </td>\n",
       "        </tr>\n",
       "        <tr>\n",
       "            <td>Warren Buffett </td> <td>89408278188 </td> <td>United States</td> <td>Diversified</td>\n",
       "        </tr>\n",
       "        <tr>\n",
       "            <td>Mark Zuckerberg</td> <td>83053011017 </td> <td>United States</td> <td>Technology </td>\n",
       "        </tr>\n",
       "        <tr>\n",
       "            <td>Amancio Ortega </td> <td>73839366133 </td> <td>Spain        </td> <td>Retail     </td>\n",
       "        </tr>\n",
       "        <tr>\n",
       "            <td>Larry Page     </td> <td>69933009751 </td> <td>United States</td> <td>Technology </td>\n",
       "        </tr>\n",
       "        <tr>\n",
       "            <td>Sergey Brin    </td> <td>67825250468 </td> <td>United States</td> <td>Technology </td>\n",
       "        </tr>\n",
       "        <tr>\n",
       "            <td>Carlos Slim    </td> <td>62527178289 </td> <td>Mexico       </td> <td>Diversified</td>\n",
       "        </tr>\n",
       "        <tr>\n",
       "            <td>Charles Koch   </td> <td>61046822719 </td> <td>United States</td> <td>Industrial </td>\n",
       "        </tr>\n",
       "    </tbody>\n",
       "</table>\n",
       "<p>... (490 rows omitted)</p>"
      ],
      "text/plain": [
       "name            | net worth    | citizenship   | industry\n",
       "Jeff Bezos      | 115739645754 | United States | Technology\n",
       "Bill Gates      | 115488591742 | United States | Technology\n",
       "Bernard Arnault | 102244728472 | France        | Consumer\n",
       "Warren Buffett  | 89408278188  | United States | Diversified\n",
       "Mark Zuckerberg | 83053011017  | United States | Technology\n",
       "Amancio Ortega  | 73839366133  | Spain         | Retail\n",
       "Larry Page      | 69933009751  | United States | Technology\n",
       "Sergey Brin     | 67825250468  | United States | Technology\n",
       "Carlos Slim     | 62527178289  | Mexico        | Diversified\n",
       "Charles Koch    | 61046822719  | United States | Industrial\n",
       "... (490 rows omitted)"
      ]
     },
     "execution_count": 86,
     "metadata": {},
     "output_type": "execute_result"
    }
   ],
   "source": [
    "billionaires = Table().read_table('billionaires.csv')\n",
    "billionaires"
   ]
  },
  {
   "cell_type": "code",
   "execution_count": 87,
   "metadata": {},
   "outputs": [
    {
     "data": {
      "image/png": "[encoded data removed]",
      "text/plain": [
       "<Figure size 432x1692 with 1 Axes>"
      ]
     },
     "metadata": {},
     "output_type": "display_data"
    }
   ],
   "source": [
    "billionaires.group('citizenship').sort(1, descending=True).barh('citizenship')"
   ]
  },
  {
   "cell_type": "code",
   "execution_count": 88,
   "metadata": {},
   "outputs": [
    {
     "data": {
      "image/png": "[encoded data removed]",
      "text/plain": [
       "<Figure size 432x504 with 1 Axes>"
      ]
     },
     "metadata": {},
     "output_type": "display_data"
    }
   ],
   "source": [
    "billionaires.group('industry').sort(1, descending=True).barh('industry')"
   ]
  },
  {
   "cell_type": "code",
   "execution_count": 89,
   "metadata": {},
   "outputs": [
    {
     "data": {
      "text/html": [
       "<table border=\"1\" class=\"dataframe\">\n",
       "    <thead>\n",
       "        <tr>\n",
       "            <th>citizenship</th> <th>Commodities</th> <th>Consumer</th> <th>Diversified</th> <th>Energy</th> <th>Entertainment</th> <th>Finance</th> <th>Food & Beverage</th> <th>Health Care</th> <th>Industrial</th> <th>Media & Telecom</th> <th>Real Estate</th> <th>Retail</th> <th>Services</th> <th>Technology</th>\n",
       "        </tr>\n",
       "    </thead>\n",
       "    <tbody>\n",
       "        <tr>\n",
       "            <td>Australia     </td> <td>2          </td> <td>0       </td> <td>0          </td> <td>0     </td> <td>0            </td> <td>0      </td> <td>0              </td> <td>0          </td> <td>1         </td> <td>0              </td> <td>2          </td> <td>0     </td> <td>0       </td> <td>2         </td>\n",
       "        </tr>\n",
       "        <tr>\n",
       "            <td>Austria       </td> <td>0          </td> <td>0       </td> <td>0          </td> <td>0     </td> <td>1            </td> <td>0      </td> <td>1              </td> <td>0          </td> <td>0         </td> <td>0              </td> <td>0          </td> <td>0     </td> <td>0       </td> <td>0         </td>\n",
       "        </tr>\n",
       "        <tr>\n",
       "            <td>Brazil        </td> <td>1          </td> <td>0       </td> <td>0          </td> <td>0     </td> <td>0            </td> <td>5      </td> <td>3              </td> <td>0          </td> <td>1         </td> <td>0              </td> <td>0          </td> <td>0     </td> <td>0       </td> <td>1         </td>\n",
       "        </tr>\n",
       "        <tr>\n",
       "            <td>Canada        </td> <td>1          </td> <td>0       </td> <td>0          </td> <td>1     </td> <td>0            </td> <td>0      </td> <td>1              </td> <td>0          </td> <td>0         </td> <td>7              </td> <td>0          </td> <td>3     </td> <td>0       </td> <td>1         </td>\n",
       "        </tr>\n",
       "        <tr>\n",
       "            <td>Cayman Islands</td> <td>0          </td> <td>0       </td> <td>0          </td> <td>0     </td> <td>0            </td> <td>1      </td> <td>0              </td> <td>0          </td> <td>0         </td> <td>0              </td> <td>0          </td> <td>0     </td> <td>0       </td> <td>0         </td>\n",
       "        </tr>\n",
       "        <tr>\n",
       "            <td>Chile         </td> <td>1          </td> <td>0       </td> <td>0          </td> <td>0     </td> <td>0            </td> <td>0      </td> <td>0              </td> <td>0          </td> <td>0         </td> <td>0              </td> <td>0          </td> <td>0     </td> <td>0       </td> <td>0         </td>\n",
       "        </tr>\n",
       "        <tr>\n",
       "            <td>China         </td> <td>1          </td> <td>6       </td> <td>2          </td> <td>3     </td> <td>0            </td> <td>1      </td> <td>5              </td> <td>6          </td> <td>4         </td> <td>0              </td> <td>7          </td> <td>2     </td> <td>4       </td> <td>15        </td>\n",
       "        </tr>\n",
       "        <tr>\n",
       "            <td>Colombia      </td> <td>0          </td> <td>0       </td> <td>0          </td> <td>0     </td> <td>0            </td> <td>1      </td> <td>1              </td> <td>0          </td> <td>0         </td> <td>0              </td> <td>0          </td> <td>0     </td> <td>0       </td> <td>0         </td>\n",
       "        </tr>\n",
       "        <tr>\n",
       "            <td>Cyprus        </td> <td>0          </td> <td>0       </td> <td>0          </td> <td>0     </td> <td>0            </td> <td>0      </td> <td>0              </td> <td>0          </td> <td>1         </td> <td>0              </td> <td>0          </td> <td>0     </td> <td>0       </td> <td>0         </td>\n",
       "        </tr>\n",
       "        <tr>\n",
       "            <td>Czech Republic</td> <td>0          </td> <td>0       </td> <td>1          </td> <td>0     </td> <td>0            </td> <td>0      </td> <td>0              </td> <td>0          </td> <td>0         </td> <td>0              </td> <td>0          </td> <td>0     </td> <td>0       </td> <td>0         </td>\n",
       "        </tr>\n",
       "    </tbody>\n",
       "</table>\n",
       "<p>... (37 rows omitted)</p>"
      ],
      "text/plain": [
       "citizenship    | Commodities | Consumer | Diversified | Energy | Entertainment | Finance | Food & Beverage | Health Care | Industrial | Media & Telecom | Real Estate | Retail | Services | Technology\n",
       "Australia      | 2           | 0        | 0           | 0      | 0             | 0       | 0               | 0           | 1          | 0               | 2           | 0      | 0        | 2\n",
       "Austria        | 0           | 0        | 0           | 0      | 1             | 0       | 1               | 0           | 0          | 0               | 0           | 0      | 0        | 0\n",
       "Brazil         | 1           | 0        | 0           | 0      | 0             | 5       | 3               | 0           | 1          | 0               | 0           | 0      | 0        | 1\n",
       "Canada         | 1           | 0        | 0           | 1      | 0             | 0       | 1               | 0           | 0          | 7               | 0           | 3      | 0        | 1\n",
       "Cayman Islands | 0           | 0        | 0           | 0      | 0             | 1       | 0               | 0           | 0          | 0               | 0           | 0      | 0        | 0\n",
       "Chile          | 1           | 0        | 0           | 0      | 0             | 0       | 0               | 0           | 0          | 0               | 0           | 0      | 0        | 0\n",
       "China          | 1           | 6        | 2           | 3      | 0             | 1       | 5               | 6           | 4          | 0               | 7           | 2      | 4        | 15\n",
       "Colombia       | 0           | 0        | 0           | 0      | 0             | 1       | 1               | 0           | 0          | 0               | 0           | 0      | 0        | 0\n",
       "Cyprus         | 0           | 0        | 0           | 0      | 0             | 0       | 0               | 0           | 1          | 0               | 0           | 0      | 0        | 0\n",
       "Czech Republic | 0           | 0        | 1           | 0      | 0             | 0       | 0               | 0           | 0          | 0               | 0           | 0      | 0        | 0\n",
       "... (37 rows omitted)"
      ]
     },
     "execution_count": 89,
     "metadata": {},
     "output_type": "execute_result"
    }
   ],
   "source": [
    "billionaires.pivot('industry', 'citizenship')"
   ]
  },
  {
   "cell_type": "code",
   "execution_count": 90,
   "metadata": {},
   "outputs": [
    {
     "data": {
      "text/html": [
       "<table border=\"1\" class=\"dataframe\">\n",
       "    <thead>\n",
       "        <tr>\n",
       "            <th>company</th> <th>ceo</th> <th>party</th> <th>amount</th>\n",
       "        </tr>\n",
       "    </thead>\n",
       "    <tbody>\n",
       "        <tr>\n",
       "            <td>3M Co          </td> <td>Bob Ulrich      </td> <td>200  </td> <td>8500   </td>\n",
       "        </tr>\n",
       "        <tr>\n",
       "            <td>3M Co          </td> <td>Linda Alvarado  </td> <td>100  </td> <td>11244.6</td>\n",
       "        </tr>\n",
       "        <tr>\n",
       "            <td>3M Co          </td> <td>Robert Ulrich   </td> <td>200  </td> <td>591450 </td>\n",
       "        </tr>\n",
       "        <tr>\n",
       "            <td>AES Corporation</td> <td>Andres Gluski   </td> <td>100  </td> <td>6000   </td>\n",
       "        </tr>\n",
       "        <tr>\n",
       "            <td>AES Corporation</td> <td>Charles Rossotti</td> <td>100  </td> <td>2500   </td>\n",
       "        </tr>\n",
       "        <tr>\n",
       "            <td>AES Corporation</td> <td>Charles Rossotti</td> <td>200  </td> <td>1000   </td>\n",
       "        </tr>\n",
       "        <tr>\n",
       "            <td>AES Corporation</td> <td>John Koskinen   </td> <td>100  </td> <td>19000  </td>\n",
       "        </tr>\n",
       "        <tr>\n",
       "            <td>AES Corporation</td> <td>Kristina Johnson</td> <td>100  </td> <td>28480  </td>\n",
       "        </tr>\n",
       "        <tr>\n",
       "            <td>AES Corporation</td> <td>Philip Lader    </td> <td>100  </td> <td>2500   </td>\n",
       "        </tr>\n",
       "        <tr>\n",
       "            <td>AES Corporation</td> <td>Philip Odeen    </td> <td>100  </td> <td>750    </td>\n",
       "        </tr>\n",
       "    </tbody>\n",
       "</table>\n",
       "<p>... (4677 rows omitted)</p>"
      ],
      "text/plain": [
       "company         | ceo              | party | amount\n",
       "3M Co           | Bob Ulrich       | 200   | 8500\n",
       "3M Co           | Linda Alvarado   | 100   | 11244.6\n",
       "3M Co           | Robert Ulrich    | 200   | 591450\n",
       "AES Corporation | Andres Gluski    | 100   | 6000\n",
       "AES Corporation | Charles Rossotti | 100   | 2500\n",
       "AES Corporation | Charles Rossotti | 200   | 1000\n",
       "AES Corporation | John Koskinen    | 100   | 19000\n",
       "AES Corporation | Kristina Johnson | 100   | 28480\n",
       "AES Corporation | Philip Lader     | 100   | 2500\n",
       "AES Corporation | Philip Odeen     | 100   | 750\n",
       "... (4677 rows omitted)"
      ]
     },
     "execution_count": 90,
     "metadata": {},
     "output_type": "execute_result"
    }
   ],
   "source": [
    "ceos = Table.read_table('ceo.csv')\n",
    "ceos"
   ]
  },
  {
   "cell_type": "code",
   "execution_count": 91,
   "metadata": {},
   "outputs": [
    {
     "name": "stderr",
     "output_type": "stream",
     "text": [
      "C:\\Users\\ksorauf\\AppData\\Local\\Continuum\\anaconda3\\lib\\site-packages\\datascience\\tables.py:5206: UserWarning: FixedFormatter should only be used together with FixedLocator\n",
      "  axis.set_xticklabels(ticks, rotation='vertical')\n"
     ]
    },
    {
     "data": {
      "image/png": "[encoded data removed]",
      "text/plain": [
       "<Figure size 432x288 with 1 Axes>"
      ]
     },
     "metadata": {},
     "output_type": "display_data"
    }
   ],
   "source": [
    "ceos.hist('amount')"
   ]
  },
  {
   "cell_type": "code",
   "execution_count": 92,
   "metadata": {},
   "outputs": [
    {
     "data": {
      "text/html": [
       "<table border=\"1\" class=\"dataframe\">\n",
       "    <thead>\n",
       "        <tr>\n",
       "            <th>company</th> <th>ceo</th> <th>party</th> <th>amount</th>\n",
       "        </tr>\n",
       "    </thead>\n",
       "    <tbody>\n",
       "        <tr>\n",
       "            <td>Hewlett-Packard Co </td> <td>Margaret Whitman </td> <td>200  </td> <td>1.25273e+08</td>\n",
       "        </tr>\n",
       "        <tr>\n",
       "            <td>Caterpillar Inc    </td> <td>Jon Huntsman     </td> <td>200  </td> <td>1.27686e+07</td>\n",
       "        </tr>\n",
       "        <tr>\n",
       "            <td>Las Vegas Sands    </td> <td>Sheldon Adelson  </td> <td>200  </td> <td>6.20425e+06</td>\n",
       "        </tr>\n",
       "        <tr>\n",
       "            <td>Las Vegas Sands    </td> <td>Sheldon g Adelson</td> <td>200  </td> <td>5e+06      </td>\n",
       "        </tr>\n",
       "        <tr>\n",
       "            <td>Visteon            </td> <td>Harry Wilson     </td> <td>200  </td> <td>4.0304e+06 </td>\n",
       "        </tr>\n",
       "        <tr>\n",
       "            <td>Yahoo! Inc         </td> <td>Daniel Loeb      </td> <td>200  </td> <td>2.51255e+06</td>\n",
       "        </tr>\n",
       "        <tr>\n",
       "            <td>YRC Worldwide Inc  </td> <td>Matthew Doheny   </td> <td>200  </td> <td>1.47332e+06</td>\n",
       "        </tr>\n",
       "        <tr>\n",
       "            <td>Charles Schwab Corp</td> <td>Charles Schwab   </td> <td>200  </td> <td>1.2364e+06 </td>\n",
       "        </tr>\n",
       "        <tr>\n",
       "            <td>DTE Energy         </td> <td>James Nicholson  </td> <td>200  </td> <td>986850     </td>\n",
       "        </tr>\n",
       "        <tr>\n",
       "            <td>Limited Brance     </td> <td>Leslie Wexner    </td> <td>200  </td> <td>942800     </td>\n",
       "        </tr>\n",
       "    </tbody>\n",
       "</table>\n",
       "<p>... (4677 rows omitted)</p>"
      ],
      "text/plain": [
       "company             | ceo               | party | amount\n",
       "Hewlett-Packard Co  | Margaret Whitman  | 200   | 1.25273e+08\n",
       "Caterpillar Inc     | Jon Huntsman      | 200   | 1.27686e+07\n",
       "Las Vegas Sands     | Sheldon Adelson   | 200   | 6.20425e+06\n",
       "Las Vegas Sands     | Sheldon g Adelson | 200   | 5e+06\n",
       "Visteon             | Harry Wilson      | 200   | 4.0304e+06\n",
       "Yahoo! Inc          | Daniel Loeb       | 200   | 2.51255e+06\n",
       "YRC Worldwide Inc   | Matthew Doheny    | 200   | 1.47332e+06\n",
       "Charles Schwab Corp | Charles Schwab    | 200   | 1.2364e+06\n",
       "DTE Energy          | James Nicholson   | 200   | 986850\n",
       "Limited Brance      | Leslie Wexner     | 200   | 942800\n",
       "... (4677 rows omitted)"
      ]
     },
     "execution_count": 92,
     "metadata": {},
     "output_type": "execute_result"
    }
   ],
   "source": [
    "ceos.sort('amount', descending=True)"
   ]
  },
  {
   "cell_type": "code",
   "execution_count": 93,
   "metadata": {},
   "outputs": [
    {
     "data": {
      "text/html": [
       "<table border=\"1\" class=\"dataframe\">\n",
       "    <thead>\n",
       "        <tr>\n",
       "            <th>company</th> <th>ceo</th> <th>party</th> <th>amount</th>\n",
       "        </tr>\n",
       "    </thead>\n",
       "    <tbody>\n",
       "        <tr>\n",
       "            <td>Bristol-Myers Squibb Company</td> <td>Robert Williams  </td> <td>100  </td> <td>9     </td>\n",
       "        </tr>\n",
       "        <tr>\n",
       "            <td>Amgen Inc                   </td> <td>Gil Omenn        </td> <td>100  </td> <td>10    </td>\n",
       "        </tr>\n",
       "        <tr>\n",
       "            <td>Bristol-Myers Squibb Company</td> <td>Michael Grobstein</td> <td>100  </td> <td>10    </td>\n",
       "        </tr>\n",
       "        <tr>\n",
       "            <td>Caterpillar Inc             </td> <td>Leon Patten      </td> <td>100  </td> <td>10    </td>\n",
       "        </tr>\n",
       "        <tr>\n",
       "            <td>Caseys General Stores       </td> <td>Richard Wilkey   </td> <td>100  </td> <td>23    </td>\n",
       "        </tr>\n",
       "        <tr>\n",
       "            <td>AK Steel                    </td> <td>William Gerber   </td> <td>200  </td> <td>25    </td>\n",
       "        </tr>\n",
       "        <tr>\n",
       "            <td>Hollyfrontier Corporation   </td> <td>Matthews Clifton </td> <td>100  </td> <td>25    </td>\n",
       "        </tr>\n",
       "        <tr>\n",
       "            <td>Nordstrom Inc               </td> <td>Alison Winter    </td> <td>100  </td> <td>25    </td>\n",
       "        </tr>\n",
       "        <tr>\n",
       "            <td>Calpine                     </td> <td>Rob Mosbacher    </td> <td>100  </td> <td>35    </td>\n",
       "        </tr>\n",
       "        <tr>\n",
       "            <td>CF Industries Holdings      </td> <td>John Johnson     </td> <td>100  </td> <td>40    </td>\n",
       "        </tr>\n",
       "    </tbody>\n",
       "</table>\n",
       "<p>... (4677 rows omitted)</p>"
      ],
      "text/plain": [
       "company                      | ceo               | party | amount\n",
       "Bristol-Myers Squibb Company | Robert Williams   | 100   | 9\n",
       "Amgen Inc                    | Gil Omenn         | 100   | 10\n",
       "Bristol-Myers Squibb Company | Michael Grobstein | 100   | 10\n",
       "Caterpillar Inc              | Leon Patten       | 100   | 10\n",
       "Caseys General Stores        | Richard Wilkey    | 100   | 23\n",
       "AK Steel                     | William Gerber    | 200   | 25\n",
       "Hollyfrontier Corporation    | Matthews Clifton  | 100   | 25\n",
       "Nordstrom Inc                | Alison Winter     | 100   | 25\n",
       "Calpine                      | Rob Mosbacher     | 100   | 35\n",
       "CF Industries Holdings       | John Johnson      | 100   | 40\n",
       "... (4677 rows omitted)"
      ]
     },
     "execution_count": 93,
     "metadata": {},
     "output_type": "execute_result"
    }
   ],
   "source": [
    "ceos.sort('amount', descending=False)"
   ]
  },
  {
   "cell_type": "code",
   "execution_count": 94,
   "metadata": {},
   "outputs": [
    {
     "name": "stderr",
     "output_type": "stream",
     "text": [
      "C:\\Users\\ksorauf\\AppData\\Local\\Continuum\\anaconda3\\lib\\site-packages\\datascience\\tables.py:5206: UserWarning: FixedFormatter should only be used together with FixedLocator\n",
      "  axis.set_xticklabels(ticks, rotation='vertical')\n"
     ]
    },
    {
     "data": {
      "image/png": "[encoded data removed]",
      "text/plain": [
       "<Figure size 432x288 with 1 Axes>"
      ]
     },
     "metadata": {},
     "output_type": "display_data"
    }
   ],
   "source": [
    "ceos.hist('amount', bins=np.arange(0, 1e5, 1e3), unit='$1000')"
   ]
  },
  {
   "cell_type": "code",
   "execution_count": 95,
   "metadata": {},
   "outputs": [
    {
     "data": {
      "text/html": [
       "<table border=\"1\" class=\"dataframe\">\n",
       "    <thead>\n",
       "        <tr>\n",
       "            <th>name</th> <th>net worth</th> <th>citizenship</th> <th>industry</th> <th>company</th> <th>party</th> <th>amount</th>\n",
       "        </tr>\n",
       "    </thead>\n",
       "    <tbody>\n",
       "        <tr>\n",
       "            <td>Barry Diller   </td> <td>5479965153  </td> <td>United States</td> <td>Technology     </td> <td>Coca-Cola Co          </td> <td>100  </td> <td>107500     </td>\n",
       "        </tr>\n",
       "        <tr>\n",
       "            <td>Carl Icahn     </td> <td>20515698449 </td> <td>United States</td> <td>Diversified    </td> <td>CVR Energy            </td> <td>100  </td> <td>3000       </td>\n",
       "        </tr>\n",
       "        <tr>\n",
       "            <td>Carl Icahn     </td> <td>20515698449 </td> <td>United States</td> <td>Diversified    </td> <td>CVR Energy            </td> <td>200  </td> <td>225900     </td>\n",
       "        </tr>\n",
       "        <tr>\n",
       "            <td>Charles Dolan  </td> <td>5387774353  </td> <td>United States</td> <td>Media & Telecom</td> <td>Cablevision           </td> <td>100  </td> <td>39400      </td>\n",
       "        </tr>\n",
       "        <tr>\n",
       "            <td>Charles Dolan  </td> <td>5387774353  </td> <td>United States</td> <td>Media & Telecom</td> <td>Cablevision           </td> <td>200  </td> <td>107000     </td>\n",
       "        </tr>\n",
       "        <tr>\n",
       "            <td>Charles Johnson</td> <td>4587892463  </td> <td>United States</td> <td>Finance        </td> <td>Franklin Resources    </td> <td>200  </td> <td>858000     </td>\n",
       "        </tr>\n",
       "        <tr>\n",
       "            <td>Charles Koch   </td> <td>61046822719 </td> <td>United States</td> <td>Industrial     </td> <td>Assurant              </td> <td>100  </td> <td>1500       </td>\n",
       "        </tr>\n",
       "        <tr>\n",
       "            <td>Charles Koch   </td> <td>61046822719 </td> <td>United States</td> <td>Industrial     </td> <td>Assurant              </td> <td>200  </td> <td>25400      </td>\n",
       "        </tr>\n",
       "        <tr>\n",
       "            <td>Charles Schwab </td> <td>9063879795  </td> <td>United States</td> <td>Finance        </td> <td>Charles Schwab Corp   </td> <td>100  </td> <td>1800       </td>\n",
       "        </tr>\n",
       "        <tr>\n",
       "            <td>Charles Schwab </td> <td>9063879795  </td> <td>United States</td> <td>Finance        </td> <td>Charles Schwab Corp   </td> <td>200  </td> <td>1.2364e+06 </td>\n",
       "        </tr>\n",
       "        <tr>\n",
       "            <td>David Bonderman</td> <td>4966912311  </td> <td>United States</td> <td>Finance        </td> <td>Caesars Entertainment </td> <td>100  </td> <td>42500      </td>\n",
       "        </tr>\n",
       "        <tr>\n",
       "            <td>David Bonderman</td> <td>4966912311  </td> <td>United States</td> <td>Finance        </td> <td>Caesars Entertainment </td> <td>200  </td> <td>54050      </td>\n",
       "        </tr>\n",
       "        <tr>\n",
       "            <td>Dick Schulze   </td> <td>4919301393  </td> <td>United States</td> <td>Retail         </td> <td>Best Buy Co Inc       </td> <td>200  </td> <td>7200       </td>\n",
       "        </tr>\n",
       "        <tr>\n",
       "            <td>Eric Schmidt   </td> <td>16579148665 </td> <td>United States</td> <td>Technology     </td> <td>google                </td> <td>100  </td> <td>257300     </td>\n",
       "        </tr>\n",
       "        <tr>\n",
       "            <td>Eric Schmidt   </td> <td>16579148665 </td> <td>United States</td> <td>Technology     </td> <td>google                </td> <td>200  </td> <td>55500      </td>\n",
       "        </tr>\n",
       "        <tr>\n",
       "            <td>Gordon Moore   </td> <td>13054676683 </td> <td>United States</td> <td>Technology     </td> <td>Gilead Sciences Inc   </td> <td>200  </td> <td>4800       </td>\n",
       "        </tr>\n",
       "        <tr>\n",
       "            <td>Henry Kravis   </td> <td>7280344087  </td> <td>United States</td> <td>Finance        </td> <td>First Data Corporation</td> <td>100  </td> <td>8300       </td>\n",
       "        </tr>\n",
       "        <tr>\n",
       "            <td>Henry Kravis   </td> <td>7280344087  </td> <td>United States</td> <td>Finance        </td> <td>First Data Corporation</td> <td>200  </td> <td>206349     </td>\n",
       "        </tr>\n",
       "        <tr>\n",
       "            <td>Howard Schultz </td> <td>4875359022  </td> <td>United States</td> <td>Food & Beverage</td> <td>starbucks             </td> <td>100  </td> <td>79050      </td>\n",
       "        </tr>\n",
       "        <tr>\n",
       "            <td>Howard Schultz </td> <td>4875359022  </td> <td>United States</td> <td>Food & Beverage</td> <td>starbucks             </td> <td>200  </td> <td>19500      </td>\n",
       "        </tr>\n",
       "        <tr>\n",
       "            <td>Jane Lauder    </td> <td>4449133938  </td> <td>United States</td> <td>Consumer       </td> <td>Estee Lauder          </td> <td>200  </td> <td>7500       </td>\n",
       "        </tr>\n",
       "        <tr>\n",
       "            <td>Jeff Bezos     </td> <td>115739645754</td> <td>United States</td> <td>Technology     </td> <td>Amazon.com Inc        </td> <td>100  </td> <td>1800       </td>\n",
       "        </tr>\n",
       "        <tr>\n",
       "            <td>Jeff Bezos     </td> <td>115739645754</td> <td>United States</td> <td>Technology     </td> <td>Amazon.com Inc        </td> <td>200  </td> <td>25000      </td>\n",
       "        </tr>\n",
       "        <tr>\n",
       "            <td>Jim Walton     </td> <td>52493506006 </td> <td>United States</td> <td>Retail         </td> <td>Wal-Mart Stores Inc   </td> <td>100  </td> <td>34500      </td>\n",
       "        </tr>\n",
       "        <tr>\n",
       "            <td>Jim Walton     </td> <td>52493506006 </td> <td>United States</td> <td>Retail         </td> <td>Wal-Mart Stores Inc   </td> <td>200  </td> <td>444700     </td>\n",
       "        </tr>\n",
       "        <tr>\n",
       "            <td>John Brown     </td> <td>4463648749  </td> <td>United States</td> <td>Technology     </td> <td>Amazon.com Inc        </td> <td>100  </td> <td>2812       </td>\n",
       "        </tr>\n",
       "        <tr>\n",
       "            <td>John Brown     </td> <td>4463648749  </td> <td>United States</td> <td>Technology     </td> <td>St. Jude Medical Inc  </td> <td>100  </td> <td>77900      </td>\n",
       "        </tr>\n",
       "        <tr>\n",
       "            <td>John Brown     </td> <td>4463648749  </td> <td>United States</td> <td>Technology     </td> <td>St. Jude Medical Inc  </td> <td>200  </td> <td>18000      </td>\n",
       "        </tr>\n",
       "        <tr>\n",
       "            <td>John Malone    </td> <td>8069296402  </td> <td>United States</td> <td>Media & Telecom</td> <td>Liberty Global        </td> <td>200  </td> <td>280050     </td>\n",
       "        </tr>\n",
       "        <tr>\n",
       "            <td>Kelcy Warren   </td> <td>4595072119  </td> <td>United States</td> <td>Energy         </td> <td>Energy Transfer       </td> <td>100  </td> <td>7200       </td>\n",
       "        </tr>\n",
       "        <tr>\n",
       "            <td>Kelcy Warren   </td> <td>4595072119  </td> <td>United States</td> <td>Energy         </td> <td>Energy Transfer       </td> <td>200  </td> <td>529886     </td>\n",
       "        </tr>\n",
       "        <tr>\n",
       "            <td>Lakshmi Mittal </td> <td>12192105414 </td> <td>India        </td> <td>Commodities    </td> <td>Goldman Sachs Group   </td> <td>100  </td> <td>200        </td>\n",
       "        </tr>\n",
       "        <tr>\n",
       "            <td>Les Wexner     </td> <td>6802731859  </td> <td>United States</td> <td>Retail         </td> <td>Limited Brance        </td> <td>200  </td> <td>12500      </td>\n",
       "        </tr>\n",
       "        <tr>\n",
       "            <td>Michael Dell   </td> <td>30492123849 </td> <td>United States</td> <td>Technology     </td> <td>Dell Inc              </td> <td>200  </td> <td>44000      </td>\n",
       "        </tr>\n",
       "        <tr>\n",
       "            <td>Phil Knight    </td> <td>37043632390 </td> <td>United States</td> <td>Consumer       </td> <td>Nike Inc              </td> <td>200  </td> <td>20000      </td>\n",
       "        </tr>\n",
       "        <tr>\n",
       "            <td>Ralph Lauren   </td> <td>7243211707  </td> <td>United States</td> <td>Consumer       </td> <td>Ralph Lauren          </td> <td>100  </td> <td>71600      </td>\n",
       "        </tr>\n",
       "        <tr>\n",
       "            <td>Ray Hunt       </td> <td>5421192714  </td> <td>United States</td> <td>Energy         </td> <td>PepsiCo Inc           </td> <td>200  </td> <td>442364     </td>\n",
       "        </tr>\n",
       "        <tr>\n",
       "            <td>Reed Hastings  </td> <td>4569628489  </td> <td>United States</td> <td>Technology     </td> <td>Facebook              </td> <td>100  </td> <td>241700     </td>\n",
       "        </tr>\n",
       "        <tr>\n",
       "            <td>Reed Hastings  </td> <td>4569628489  </td> <td>United States</td> <td>Technology     </td> <td>Facebook              </td> <td>200  </td> <td>11000      </td>\n",
       "        </tr>\n",
       "        <tr>\n",
       "            <td>Richard Kinder </td> <td>8398076785  </td> <td>United States</td> <td>Energy         </td> <td>Kinder Morgan         </td> <td>100  </td> <td>1000       </td>\n",
       "        </tr>\n",
       "        <tr>\n",
       "            <td>Richard Kinder </td> <td>8398076785  </td> <td>United States</td> <td>Energy         </td> <td>Kinder Morgan         </td> <td>200  </td> <td>368000     </td>\n",
       "        </tr>\n",
       "        <tr>\n",
       "            <td>Ronda Stryker  </td> <td>6645102614  </td> <td>United States</td> <td>Health Care    </td> <td>Stryker               </td> <td>100  </td> <td>38000      </td>\n",
       "        </tr>\n",
       "        <tr>\n",
       "            <td>Ronda Stryker  </td> <td>6645102614  </td> <td>United States</td> <td>Health Care    </td> <td>Stryker               </td> <td>200  </td> <td>3400       </td>\n",
       "        </tr>\n",
       "        <tr>\n",
       "            <td>Rupert Murdoch </td> <td>7787753846  </td> <td>United States</td> <td>Media & Telecom</td> <td>News Corp             </td> <td>100  </td> <td>2500       </td>\n",
       "        </tr>\n",
       "        <tr>\n",
       "            <td>Rupert Murdoch </td> <td>7787753846  </td> <td>United States</td> <td>Media & Telecom</td> <td>News Corp             </td> <td>200  </td> <td>14900      </td>\n",
       "        </tr>\n",
       "        <tr>\n",
       "            <td>Sam Zell       </td> <td>5241983302  </td> <td>United States</td> <td>Real Estate    </td> <td>Anixter International </td> <td>200  </td> <td>31500      </td>\n",
       "        </tr>\n",
       "        <tr>\n",
       "            <td>Sergey Brin    </td> <td>67825250468 </td> <td>United States</td> <td>Technology     </td> <td>google                </td> <td>100  </td> <td>71600      </td>\n",
       "        </tr>\n",
       "        <tr>\n",
       "            <td>Sheldon Adelson</td> <td>38008857087 </td> <td>United States</td> <td>Entertainment  </td> <td>Las Vegas Sands       </td> <td>200  </td> <td>6.20425e+06</td>\n",
       "        </tr>\n",
       "        <tr>\n",
       "            <td>Steve Ballmer  </td> <td>60550361299 </td> <td>United States</td> <td>Technology     </td> <td>Microsoft Corp        </td> <td>100  </td> <td>10000      </td>\n",
       "        </tr>\n",
       "        <tr>\n",
       "            <td>Steve Ballmer  </td> <td>60550361299 </td> <td>United States</td> <td>Technology     </td> <td>Microsoft Corp        </td> <td>200  </td> <td>3000       </td>\n",
       "        </tr>\n",
       "        <tr>\n",
       "            <td>Thomas Frist   </td> <td>13899392370 </td> <td>United States</td> <td>Health Care    </td> <td>HCA Holdings Inc      </td> <td>100  </td> <td>2400       </td>\n",
       "        </tr>\n",
       "        <tr>\n",
       "            <td>Thomas Frist   </td> <td>13899392370 </td> <td>United States</td> <td>Health Care    </td> <td>HCA Holdings Inc      </td> <td>200  </td> <td>15000      </td>\n",
       "        </tr>\n",
       "        <tr>\n",
       "            <td>Walter Scott   </td> <td>5253083416  </td> <td>United States</td> <td>Energy         </td> <td>Berkshire Hathaway Inc</td> <td>100  </td> <td>2500       </td>\n",
       "        </tr>\n",
       "        <tr>\n",
       "            <td>Walter Scott   </td> <td>5253083416  </td> <td>United States</td> <td>Energy         </td> <td>Berkshire Hathaway Inc</td> <td>200  </td> <td>138400     </td>\n",
       "        </tr>\n",
       "        <tr>\n",
       "            <td>Warren Buffett </td> <td>89408278188 </td> <td>United States</td> <td>Diversified    </td> <td>Berkshire Hatahway    </td> <td>100  </td> <td>208700     </td>\n",
       "        </tr>\n",
       "        <tr>\n",
       "            <td>Warren Buffett </td> <td>89408278188 </td> <td>United States</td> <td>Diversified    </td> <td>Berkshire Hatahway    </td> <td>200  </td> <td>5100       </td>\n",
       "        </tr>\n",
       "    </tbody>\n",
       "</table>"
      ],
      "text/plain": [
       "<IPython.core.display.HTML object>"
      ]
     },
     "metadata": {},
     "output_type": "display_data"
    }
   ],
   "source": [
    "b_donations = billionaires.join('name', ceos, 'ceo')\n",
    "b_donations.show()"
   ]
  },
  {
   "cell_type": "code",
   "execution_count": 96,
   "metadata": {},
   "outputs": [
    {
     "data": {
      "image/png": "[encoded data removed]",
      "text/plain": [
       "<Figure size 360x360 with 1 Axes>"
      ]
     },
     "metadata": {},
     "output_type": "display_data"
    }
   ],
   "source": [
    "b_donations.where('amount', are.below(6e6)).scatter('net worth', 'amount')"
   ]
  },
  {
   "cell_type": "code",
   "execution_count": 97,
   "metadata": {},
   "outputs": [
    {
     "data": {
      "text/html": [
       "<table border=\"1\" class=\"dataframe\">\n",
       "    <thead>\n",
       "        <tr>\n",
       "            <th>name</th> <th>net worth</th> <th>citizenship</th> <th>industry</th> <th>company</th> <th>party</th> <th>amount</th> <th>Contribution%</th>\n",
       "        </tr>\n",
       "    </thead>\n",
       "    <tbody>\n",
       "        <tr>\n",
       "            <td>Sheldon Adelson</td> <td>38008857087</td> <td>United States</td> <td>Entertainment  </td> <td>Las Vegas Sands       </td> <td>200  </td> <td>6.20425e+06</td> <td>0.02%        </td>\n",
       "        </tr>\n",
       "        <tr>\n",
       "            <td>Charles Schwab </td> <td>9063879795 </td> <td>United States</td> <td>Finance        </td> <td>Charles Schwab Corp   </td> <td>200  </td> <td>1.2364e+06 </td> <td>0.01%        </td>\n",
       "        </tr>\n",
       "        <tr>\n",
       "            <td>Charles Johnson</td> <td>4587892463 </td> <td>United States</td> <td>Finance        </td> <td>Franklin Resources    </td> <td>200  </td> <td>858000     </td> <td>0.02%        </td>\n",
       "        </tr>\n",
       "        <tr>\n",
       "            <td>Kelcy Warren   </td> <td>4595072119 </td> <td>United States</td> <td>Energy         </td> <td>Energy Transfer       </td> <td>200  </td> <td>529886     </td> <td>0.01%        </td>\n",
       "        </tr>\n",
       "        <tr>\n",
       "            <td>Jim Walton     </td> <td>52493506006</td> <td>United States</td> <td>Retail         </td> <td>Wal-Mart Stores Inc   </td> <td>200  </td> <td>444700     </td> <td>0.00%        </td>\n",
       "        </tr>\n",
       "        <tr>\n",
       "            <td>Ray Hunt       </td> <td>5421192714 </td> <td>United States</td> <td>Energy         </td> <td>PepsiCo Inc           </td> <td>200  </td> <td>442364     </td> <td>0.01%        </td>\n",
       "        </tr>\n",
       "        <tr>\n",
       "            <td>Richard Kinder </td> <td>8398076785 </td> <td>United States</td> <td>Energy         </td> <td>Kinder Morgan         </td> <td>200  </td> <td>368000     </td> <td>0.00%        </td>\n",
       "        </tr>\n",
       "        <tr>\n",
       "            <td>John Malone    </td> <td>8069296402 </td> <td>United States</td> <td>Media & Telecom</td> <td>Liberty Global        </td> <td>200  </td> <td>280050     </td> <td>0.00%        </td>\n",
       "        </tr>\n",
       "        <tr>\n",
       "            <td>Eric Schmidt   </td> <td>16579148665</td> <td>United States</td> <td>Technology     </td> <td>google                </td> <td>100  </td> <td>257300     </td> <td>0.00%        </td>\n",
       "        </tr>\n",
       "        <tr>\n",
       "            <td>Reed Hastings  </td> <td>4569628489 </td> <td>United States</td> <td>Technology     </td> <td>Facebook              </td> <td>100  </td> <td>241700     </td> <td>0.01%        </td>\n",
       "        </tr>\n",
       "        <tr>\n",
       "            <td>Carl Icahn     </td> <td>20515698449</td> <td>United States</td> <td>Diversified    </td> <td>CVR Energy            </td> <td>200  </td> <td>225900     </td> <td>0.00%        </td>\n",
       "        </tr>\n",
       "        <tr>\n",
       "            <td>Warren Buffett </td> <td>89408278188</td> <td>United States</td> <td>Diversified    </td> <td>Berkshire Hatahway    </td> <td>100  </td> <td>208700     </td> <td>0.00%        </td>\n",
       "        </tr>\n",
       "        <tr>\n",
       "            <td>Henry Kravis   </td> <td>7280344087 </td> <td>United States</td> <td>Finance        </td> <td>First Data Corporation</td> <td>200  </td> <td>206349     </td> <td>0.00%        </td>\n",
       "        </tr>\n",
       "        <tr>\n",
       "            <td>Walter Scott   </td> <td>5253083416 </td> <td>United States</td> <td>Energy         </td> <td>Berkshire Hathaway Inc</td> <td>200  </td> <td>138400     </td> <td>0.00%        </td>\n",
       "        </tr>\n",
       "        <tr>\n",
       "            <td>Barry Diller   </td> <td>5479965153 </td> <td>United States</td> <td>Technology     </td> <td>Coca-Cola Co          </td> <td>100  </td> <td>107500     </td> <td>0.00%        </td>\n",
       "        </tr>\n",
       "        <tr>\n",
       "            <td>Charles Dolan  </td> <td>5387774353 </td> <td>United States</td> <td>Media & Telecom</td> <td>Cablevision           </td> <td>200  </td> <td>107000     </td> <td>0.00%        </td>\n",
       "        </tr>\n",
       "        <tr>\n",
       "            <td>Howard Schultz </td> <td>4875359022 </td> <td>United States</td> <td>Food & Beverage</td> <td>starbucks             </td> <td>100  </td> <td>79050      </td> <td>0.00%        </td>\n",
       "        </tr>\n",
       "        <tr>\n",
       "            <td>John Brown     </td> <td>4463648749 </td> <td>United States</td> <td>Technology     </td> <td>St. Jude Medical Inc  </td> <td>100  </td> <td>77900      </td> <td>0.00%        </td>\n",
       "        </tr>\n",
       "        <tr>\n",
       "            <td>Ralph Lauren   </td> <td>7243211707 </td> <td>United States</td> <td>Consumer       </td> <td>Ralph Lauren          </td> <td>100  </td> <td>71600      </td> <td>0.00%        </td>\n",
       "        </tr>\n",
       "        <tr>\n",
       "            <td>Sergey Brin    </td> <td>67825250468</td> <td>United States</td> <td>Technology     </td> <td>google                </td> <td>100  </td> <td>71600      </td> <td>0.00%        </td>\n",
       "        </tr>\n",
       "    </tbody>\n",
       "</table>\n",
       "<p>... (36 rows omitted)</p>"
      ],
      "text/plain": [
       "<IPython.core.display.HTML object>"
      ]
     },
     "metadata": {},
     "output_type": "display_data"
    }
   ],
   "source": [
    "donation_prop = b_donations.column('amount') / b_donations.column('net worth')\n",
    "b_donations = b_donations.with_column('Contribution%', donation_prop)\n",
    "b_donations = b_donations.sort('amount', descending=True)\n",
    "b_donations.set_format('Contribution%', PercentFormatter)\n",
    "b_donations.show(20)"
   ]
  },
  {
   "cell_type": "code",
   "execution_count": 98,
   "metadata": {},
   "outputs": [
    {
     "name": "stderr",
     "output_type": "stream",
     "text": [
      "C:\\Users\\ksorauf\\AppData\\Local\\Continuum\\anaconda3\\lib\\site-packages\\datascience\\tables.py:920: VisibleDeprecationWarning: Creating an ndarray from ragged nested sequences (which is a list-or-tuple of lists-or-tuples-or ndarrays with different lengths or shapes) is deprecated. If you meant to do this, you must specify 'dtype=object' when creating the ndarray.\n",
      "  values = np.array(tuple(values))\n"
     ]
    },
    {
     "data": {
      "text/html": [
       "<table border=\"1\" class=\"dataframe\">\n",
       "    <thead>\n",
       "        <tr>\n",
       "            <th>party</th> <th>Barry Diller sum</th> <th>Carl Icahn sum</th> <th>Charles Dolan sum</th> <th>Charles Johnson sum</th> <th>Charles Koch sum</th> <th>Charles Schwab sum</th> <th>David Bonderman sum</th> <th>Dick Schulze sum</th> <th>Eric Schmidt sum</th> <th>Gordon Moore sum</th> <th>Henry Kravis sum</th> <th>Howard Schultz sum</th> <th>Jane Lauder sum</th> <th>Jeff Bezos sum</th> <th>Jim Walton sum</th> <th>John Brown sum</th> <th>John Malone sum</th> <th>Kelcy Warren sum</th> <th>Lakshmi Mittal sum</th> <th>Les Wexner sum</th> <th>Michael Dell sum</th> <th>Phil Knight sum</th> <th>Ralph Lauren sum</th> <th>Ray Hunt sum</th> <th>Reed Hastings sum</th> <th>Richard Kinder sum</th> <th>Ronda Stryker sum</th> <th>Rupert Murdoch sum</th> <th>Sam Zell sum</th> <th>Sergey Brin sum</th> <th>Sheldon Adelson sum</th> <th>Steve Ballmer sum</th> <th>Thomas Frist sum</th> <th>Walter Scott sum</th> <th>Warren Buffett sum</th>\n",
       "        </tr>\n",
       "    </thead>\n",
       "    <tbody>\n",
       "        <tr>\n",
       "            <td>100  </td> <td>1               </td> <td>1             </td> <td>1                </td> <td>0                  </td> <td>1               </td> <td>1                 </td> <td>1                  </td> <td>0               </td> <td>1               </td> <td>0               </td> <td>1               </td> <td>1                 </td> <td>0              </td> <td>1             </td> <td>1             </td> <td>2             </td> <td>0              </td> <td>1               </td> <td>1                 </td> <td>0             </td> <td>0               </td> <td>0              </td> <td>1               </td> <td>0           </td> <td>1                </td> <td>1                 </td> <td>1                </td> <td>1                 </td> <td>0           </td> <td>1              </td> <td>0                  </td> <td>1                </td> <td>1               </td> <td>1               </td> <td>1                 </td>\n",
       "        </tr>\n",
       "        <tr>\n",
       "            <td>200  </td> <td>0               </td> <td>1             </td> <td>1                </td> <td>1                  </td> <td>1               </td> <td>1                 </td> <td>1                  </td> <td>1               </td> <td>1               </td> <td>1               </td> <td>1               </td> <td>1                 </td> <td>1              </td> <td>1             </td> <td>1             </td> <td>1             </td> <td>1              </td> <td>1               </td> <td>0                 </td> <td>1             </td> <td>1               </td> <td>1              </td> <td>0               </td> <td>1           </td> <td>1                </td> <td>1                 </td> <td>1                </td> <td>1                 </td> <td>1           </td> <td>0              </td> <td>1                  </td> <td>1                </td> <td>1               </td> <td>1               </td> <td>1                 </td>\n",
       "        </tr>\n",
       "    </tbody>\n",
       "</table>"
      ],
      "text/plain": [
       "party | Barry Diller sum | Carl Icahn sum | Charles Dolan sum | Charles Johnson sum | Charles Koch sum | Charles Schwab sum | David Bonderman sum | Dick Schulze sum | Eric Schmidt sum | Gordon Moore sum | Henry Kravis sum | Howard Schultz sum | Jane Lauder sum | Jeff Bezos sum | Jim Walton sum | John Brown sum | John Malone sum | Kelcy Warren sum | Lakshmi Mittal sum | Les Wexner sum | Michael Dell sum | Phil Knight sum | Ralph Lauren sum | Ray Hunt sum | Reed Hastings sum | Richard Kinder sum | Ronda Stryker sum | Rupert Murdoch sum | Sam Zell sum | Sergey Brin sum | Sheldon Adelson sum | Steve Ballmer sum | Thomas Frist sum | Walter Scott sum | Warren Buffett sum\n",
       "100   | 1                | 1              | 1                 | 0                   | 1                | 1                  | 1                   | 0                | 1                | 0                | 1                | 1                  | 0               | 1              | 1              | 2              | 0               | 1                | 1                  | 0              | 0                | 0               | 1                | 0            | 1                 | 1                  | 1                 | 1                  | 0            | 1               | 0                   | 1                 | 1                | 1                | 1\n",
       "200   | 0                | 1              | 1                 | 1                   | 1                | 1                  | 1                   | 1                | 1                | 1                | 1                | 1                  | 1               | 1              | 1              | 1              | 1               | 1                | 0                  | 1              | 1                | 1               | 0                | 1            | 1                 | 1                  | 1                 | 1                  | 1            | 0               | 1                   | 1                 | 1                | 1                | 1"
      ]
     },
     "execution_count": 98,
     "metadata": {},
     "output_type": "execute_result"
    }
   ],
   "source": [
    "b_donations.pivot('name', 'party').group('party', np.sum)"
   ]
  },
  {
   "cell_type": "code",
   "execution_count": 99,
   "metadata": {},
   "outputs": [
    {
     "data": {
      "text/html": [
       "<table border=\"1\" class=\"dataframe\">\n",
       "    <thead>\n",
       "        <tr>\n",
       "            <th>name</th> <th>100</th> <th>200</th>\n",
       "        </tr>\n",
       "    </thead>\n",
       "    <tbody>\n",
       "        <tr>\n",
       "            <td>Sheldon Adelson</td> <td>0    </td> <td>6.20425e+06</td>\n",
       "        </tr>\n",
       "        <tr>\n",
       "            <td>Charles Schwab </td> <td>1800 </td> <td>1.2364e+06 </td>\n",
       "        </tr>\n",
       "        <tr>\n",
       "            <td>Charles Johnson</td> <td>0    </td> <td>858000     </td>\n",
       "        </tr>\n",
       "        <tr>\n",
       "            <td>Kelcy Warren   </td> <td>7200 </td> <td>529886     </td>\n",
       "        </tr>\n",
       "        <tr>\n",
       "            <td>Jim Walton     </td> <td>34500</td> <td>444700     </td>\n",
       "        </tr>\n",
       "        <tr>\n",
       "            <td>Ray Hunt       </td> <td>0    </td> <td>442364     </td>\n",
       "        </tr>\n",
       "        <tr>\n",
       "            <td>Richard Kinder </td> <td>1000 </td> <td>368000     </td>\n",
       "        </tr>\n",
       "        <tr>\n",
       "            <td>John Malone    </td> <td>0    </td> <td>280050     </td>\n",
       "        </tr>\n",
       "        <tr>\n",
       "            <td>Carl Icahn     </td> <td>3000 </td> <td>225900     </td>\n",
       "        </tr>\n",
       "        <tr>\n",
       "            <td>Henry Kravis   </td> <td>8300 </td> <td>206349     </td>\n",
       "        </tr>\n",
       "    </tbody>\n",
       "</table>\n",
       "<p>... (25 rows omitted)</p>"
      ],
      "text/plain": [
       "name            | 100   | 200\n",
       "Sheldon Adelson | 0     | 6.20425e+06\n",
       "Charles Schwab  | 1800  | 1.2364e+06\n",
       "Charles Johnson | 0     | 858000\n",
       "Kelcy Warren    | 7200  | 529886\n",
       "Jim Walton      | 34500 | 444700\n",
       "Ray Hunt        | 0     | 442364\n",
       "Richard Kinder  | 1000  | 368000\n",
       "John Malone     | 0     | 280050\n",
       "Carl Icahn      | 3000  | 225900\n",
       "Henry Kravis    | 8300  | 206349\n",
       "... (25 rows omitted)"
      ]
     },
     "execution_count": 99,
     "metadata": {},
     "output_type": "execute_result"
    }
   ],
   "source": [
    "b_donations.pivot('party', 'name', values = 'amount', collect = np.sum).sort('200', descending = True)"
   ]
  },
  {
   "cell_type": "code",
   "execution_count": 100,
   "metadata": {},
   "outputs": [
    {
     "data": {
      "text/html": [
       "<table border=\"1\" class=\"dataframe\">\n",
       "    <thead>\n",
       "        <tr>\n",
       "            <th>name</th> <th>100</th> <th>200</th>\n",
       "        </tr>\n",
       "    </thead>\n",
       "    <tbody>\n",
       "        <tr>\n",
       "            <td>Eric Schmidt   </td> <td>257300</td> <td>55500 </td>\n",
       "        </tr>\n",
       "        <tr>\n",
       "            <td>Reed Hastings  </td> <td>241700</td> <td>11000 </td>\n",
       "        </tr>\n",
       "        <tr>\n",
       "            <td>Warren Buffett </td> <td>208700</td> <td>5100  </td>\n",
       "        </tr>\n",
       "        <tr>\n",
       "            <td>Barry Diller   </td> <td>107500</td> <td>0     </td>\n",
       "        </tr>\n",
       "        <tr>\n",
       "            <td>John Brown     </td> <td>80712 </td> <td>18000 </td>\n",
       "        </tr>\n",
       "        <tr>\n",
       "            <td>Howard Schultz </td> <td>79050 </td> <td>19500 </td>\n",
       "        </tr>\n",
       "        <tr>\n",
       "            <td>Ralph Lauren   </td> <td>71600 </td> <td>0     </td>\n",
       "        </tr>\n",
       "        <tr>\n",
       "            <td>Sergey Brin    </td> <td>71600 </td> <td>0     </td>\n",
       "        </tr>\n",
       "        <tr>\n",
       "            <td>David Bonderman</td> <td>42500 </td> <td>54050 </td>\n",
       "        </tr>\n",
       "        <tr>\n",
       "            <td>Charles Dolan  </td> <td>39400 </td> <td>107000</td>\n",
       "        </tr>\n",
       "    </tbody>\n",
       "</table>\n",
       "<p>... (25 rows omitted)</p>"
      ],
      "text/plain": [
       "name            | 100    | 200\n",
       "Eric Schmidt    | 257300 | 55500\n",
       "Reed Hastings   | 241700 | 11000\n",
       "Warren Buffett  | 208700 | 5100\n",
       "Barry Diller    | 107500 | 0\n",
       "John Brown      | 80712  | 18000\n",
       "Howard Schultz  | 79050  | 19500\n",
       "Ralph Lauren    | 71600  | 0\n",
       "Sergey Brin     | 71600  | 0\n",
       "David Bonderman | 42500  | 54050\n",
       "Charles Dolan   | 39400  | 107000\n",
       "... (25 rows omitted)"
      ]
     },
     "execution_count": 100,
     "metadata": {},
     "output_type": "execute_result"
    }
   ],
   "source": [
    "b_donations.pivot('party', 'name', values = 'amount', collect = np.sum).sort('100', descending = True)"
   ]
  },
  {
   "cell_type": "code",
   "execution_count": 101,
   "metadata": {},
   "outputs": [],
   "source": [
    "b_donations.pivot('party', 'name', values = 'amount', collect = np.sum)\n",
    "\n",
    "dem_vs_rep = Table().with_columns('dem', b_donations.pivot('party', 'name', values = 'amount', collect = np.sum).column('100').sum(),\n",
    "                                 'rep', b_donations.pivot('party', 'name', values = 'amount', collect = np.sum).column('200').sum())"
   ]
  },
  {
   "cell_type": "code",
   "execution_count": 102,
   "metadata": {},
   "outputs": [
    {
     "data": {
      "image/png": "[encoded data removed]",
      "text/plain": [
       "<Figure size 432x288 with 1 Axes>"
      ]
     },
     "metadata": {},
     "output_type": "display_data"
    }
   ],
   "source": [
    "dem_vs_rep.bar()"
   ]
  },
  {
   "cell_type": "code",
   "execution_count": null,
   "metadata": {},
   "outputs": [],
   "source": []
  }
 ],
 "metadata": {
  "kernelspec": {
   "display_name": "Python 3 (ipykernel)",
   "language": "python",
   "name": "python3"
  },
  "language_info": {
   "codemirror_mode": {
    "name": "ipython",
    "version": 3
   },
   "file_extension": ".py",
   "mimetype": "text/x-python",
   "name": "python",
   "nbconvert_exporter": "python",
   "pygments_lexer": "ipython3",
   "version": "3.7.1"
  }
 },
 "nbformat": 4,
 "nbformat_minor": 4
}
